{
 "cells": [
  {
   "cell_type": "markdown",
   "id": "20ba5d3b",
   "metadata": {
    "id": "Tce3stUlHN0L",
    "papermill": {
     "duration": 0.003998,
     "end_time": "2025-04-01T02:55:51.269347",
     "exception": false,
     "start_time": "2025-04-01T02:55:51.265349",
     "status": "completed"
    },
    "tags": []
   },
   "source": [
    "##### Copyright 2025 Google LLC."
   ]
  },
  {
   "cell_type": "code",
   "execution_count": 1,
   "id": "2ba1a7a3",
   "metadata": {
    "cellView": "form",
    "execution": {
     "iopub.execute_input": "2025-04-01T02:55:51.276760Z",
     "iopub.status.busy": "2025-04-01T02:55:51.276450Z",
     "iopub.status.idle": "2025-04-01T02:55:51.281048Z",
     "shell.execute_reply": "2025-04-01T02:55:51.280213Z"
    },
    "id": "tuOe1ymfHZPu",
    "jupyter": {
     "source_hidden": true
    },
    "papermill": {
     "duration": 0.009943,
     "end_time": "2025-04-01T02:55:51.282420",
     "exception": false,
     "start_time": "2025-04-01T02:55:51.272477",
     "status": "completed"
    },
    "tags": []
   },
   "outputs": [],
   "source": [
    "# @title Licensed under the Apache License, Version 2.0 (the \"License\");\n",
    "# you may not use this file except in compliance with the License.\n",
    "# You may obtain a copy of the License at\n",
    "#\n",
    "# https://www.apache.org/licenses/LICENSE-2.0\n",
    "#\n",
    "# Unless required by applicable law or agreed to in writing, software\n",
    "# distributed under the License is distributed on an \"AS IS\" BASIS,\n",
    "# WITHOUT WARRANTIES OR CONDITIONS OF ANY KIND, either express or implied.\n",
    "# See the License for the specific language governing permissions and\n",
    "# limitations under the License."
   ]
  },
  {
   "cell_type": "markdown",
   "id": "d4968919",
   "metadata": {
    "id": "CsVPnR8VbXE6",
    "papermill": {
     "duration": 0.002937,
     "end_time": "2025-04-01T02:55:51.288464",
     "exception": false,
     "start_time": "2025-04-01T02:55:51.285527",
     "status": "completed"
    },
    "tags": []
   },
   "source": [
    "# Day 2 - Document Q&A with RAG using Chroma\n",
    "\n",
    "Welcome back to the Kaggle 5-day Generative AI course!\n",
    "\n",
    "**NOTE**: The Day 1 notebook contains lots of information for getting set up with Kaggle Notebooks. If you are having any issues, please [check out the troubleshooting steps there](https://www.kaggle.com/code/markishere/day-1-prompting#Get-started-with-Kaggle-notebooks).\n",
    "\n",
    "Two big limitations of LLMs are 1) that they only \"know\" the information that they were trained on, and 2) that they have limited input context windows. A way to address both of these limitations is to use a technique called Retrieval Augmented Generation, or RAG. A RAG system has three stages:\n",
    "\n",
    "1. Indexing\n",
    "2. Retrieval\n",
    "3. Generation\n",
    "\n",
    "Indexing happens ahead of time, and allows you to quickly look up relevant information at query-time. When a query comes in, you retrieve relevant documents, combine them with your instructions and the user's query, and have the LLM generate a tailored answer in natural language using the supplied information. This allows you to provide information that the model hasn't seen before, such as product-specific knowledge or live weather updates.\n",
    "\n",
    "In this notebook you will use the Gemini API to create a vector database, retrieve answers to questions from the database and generate a final answer. You will use [Chroma](https://docs.trychroma.com/), an open-source vector database. With Chroma, you can store embeddings alongside metadata, embed documents and queries, and search your documents.\n",
    "\n",
    "## For help\n",
    "\n",
    "**Common issues are covered in the [FAQ and troubleshooting guide](https://www.kaggle.com/code/markishere/day-0-troubleshooting-and-faqs).**\n"
   ]
  },
  {
   "cell_type": "markdown",
   "id": "9fb2a1f3",
   "metadata": {
    "id": "akuOzK4dJl3j",
    "papermill": {
     "duration": 0.002895,
     "end_time": "2025-04-01T02:55:51.294421",
     "exception": false,
     "start_time": "2025-04-01T02:55:51.291526",
     "status": "completed"
    },
    "tags": []
   },
   "source": [
    "## Setup\n",
    "\n",
    "First, install ChromaDB and the Gemini API Python SDK."
   ]
  },
  {
   "cell_type": "code",
   "execution_count": 2,
   "id": "0dec0d5c",
   "metadata": {
    "execution": {
     "iopub.execute_input": "2025-04-01T02:55:51.301346Z",
     "iopub.status.busy": "2025-04-01T02:55:51.301111Z",
     "iopub.status.idle": "2025-04-01T02:56:21.068660Z",
     "shell.execute_reply": "2025-04-01T02:56:21.067380Z"
    },
    "id": "JbXe7Oodc5dP",
    "papermill": {
     "duration": 29.773175,
     "end_time": "2025-04-01T02:56:21.070576",
     "exception": false,
     "start_time": "2025-04-01T02:55:51.297401",
     "status": "completed"
    },
    "tags": []
   },
   "outputs": [],
   "source": [
    "!pip uninstall -qqy jupyterlab kfp  # Remove unused conflicting packages\n",
    "!pip install -qU \"google-genai==1.7.0\" \"chromadb==0.6.3\""
   ]
  },
  {
   "cell_type": "code",
   "execution_count": 3,
   "id": "35068f3d",
   "metadata": {
    "execution": {
     "iopub.execute_input": "2025-04-01T02:56:21.079200Z",
     "iopub.status.busy": "2025-04-01T02:56:21.078495Z",
     "iopub.status.idle": "2025-04-01T02:56:22.081900Z",
     "shell.execute_reply": "2025-04-01T02:56:22.081185Z"
    },
    "id": "muuhsDmmKdHi",
    "papermill": {
     "duration": 1.009246,
     "end_time": "2025-04-01T02:56:22.083317",
     "exception": false,
     "start_time": "2025-04-01T02:56:21.074071",
     "status": "completed"
    },
    "tags": []
   },
   "outputs": [
    {
     "data": {
      "text/plain": [
       "'1.7.0'"
      ]
     },
     "execution_count": 3,
     "metadata": {},
     "output_type": "execute_result"
    }
   ],
   "source": [
    "from google import genai\n",
    "from google.genai import types\n",
    "\n",
    "from IPython.display import Markdown\n",
    "\n",
    "genai.__version__"
   ]
  },
  {
   "cell_type": "markdown",
   "id": "a0ac45db",
   "metadata": {
    "id": "FQOGMejVu-6D",
    "papermill": {
     "duration": 0.003007,
     "end_time": "2025-04-01T02:56:22.090669",
     "exception": false,
     "start_time": "2025-04-01T02:56:22.087662",
     "status": "completed"
    },
    "tags": []
   },
   "source": [
    "### Set up your API key\n",
    "\n",
    "To run the following cell, your API key must be stored it in a [Kaggle secret](https://www.kaggle.com/discussions/product-feedback/114053) named `GOOGLE_API_KEY`.\n",
    "\n",
    "If you don't already have an API key, you can grab one from [AI Studio](https://aistudio.google.com/app/apikey). You can find [detailed instructions in the docs](https://ai.google.dev/gemini-api/docs/api-key).\n",
    "\n",
    "To make the key available through Kaggle secrets, choose `Secrets` from the `Add-ons` menu and follow the instructions to add your key or enable it for this notebook."
   ]
  },
  {
   "cell_type": "code",
   "execution_count": 4,
   "id": "b47745ee",
   "metadata": {
    "execution": {
     "iopub.execute_input": "2025-04-01T02:56:22.098402Z",
     "iopub.status.busy": "2025-04-01T02:56:22.097987Z",
     "iopub.status.idle": "2025-04-01T02:56:22.264924Z",
     "shell.execute_reply": "2025-04-01T02:56:22.264020Z"
    },
    "id": "ysayz8skEfBW",
    "papermill": {
     "duration": 0.172982,
     "end_time": "2025-04-01T02:56:22.266831",
     "exception": false,
     "start_time": "2025-04-01T02:56:22.093849",
     "status": "completed"
    },
    "tags": []
   },
   "outputs": [],
   "source": [
    "from kaggle_secrets import UserSecretsClient\n",
    "\n",
    "GOOGLE_API_KEY = UserSecretsClient().get_secret(\"GOOGLE_API_KEY\")"
   ]
  },
  {
   "cell_type": "markdown",
   "id": "b9b4bf62",
   "metadata": {
    "id": "fegnGFpMS4AI",
    "papermill": {
     "duration": 0.00307,
     "end_time": "2025-04-01T02:56:22.273458",
     "exception": false,
     "start_time": "2025-04-01T02:56:22.270388",
     "status": "completed"
    },
    "tags": []
   },
   "source": [
    "### Explore available models\n",
    "\n",
    "You will be using the [`embedContent`](https://ai.google.dev/api/embeddings#method:-models.embedcontent) API method to calculate embeddings in this guide. Find a model that supports it through the [`models.list`](https://ai.google.dev/api/models#method:-models.list) endpoint. You can also find more information about the embedding models on [the models page](https://ai.google.dev/gemini-api/docs/models/gemini#text-embedding).\n",
    "\n",
    "`text-embedding-004` is the most recent generally-available embedding model, so you will use it for this exercise, but try out the experimental `gemini-embedding-exp-03-07` model too."
   ]
  },
  {
   "cell_type": "code",
   "execution_count": 5,
   "id": "5d4ad2ac",
   "metadata": {
    "execution": {
     "iopub.execute_input": "2025-04-01T02:56:22.280938Z",
     "iopub.status.busy": "2025-04-01T02:56:22.280660Z",
     "iopub.status.idle": "2025-04-01T02:56:22.458005Z",
     "shell.execute_reply": "2025-04-01T02:56:22.457385Z"
    },
    "id": "Km5d13_FS2Q_",
    "papermill": {
     "duration": 0.182735,
     "end_time": "2025-04-01T02:56:22.459415",
     "exception": false,
     "start_time": "2025-04-01T02:56:22.276680",
     "status": "completed"
    },
    "tags": []
   },
   "outputs": [
    {
     "name": "stdout",
     "output_type": "stream",
     "text": [
      "models/embedding-001\n",
      "models/text-embedding-004\n",
      "models/gemini-embedding-exp-03-07\n",
      "models/gemini-embedding-exp\n"
     ]
    }
   ],
   "source": [
    "client = genai.Client(api_key=GOOGLE_API_KEY)\n",
    "\n",
    "for m in client.models.list():\n",
    "    if \"embedContent\" in m.supported_actions:\n",
    "        print(m.name)"
   ]
  },
  {
   "cell_type": "markdown",
   "id": "a306511c",
   "metadata": {
    "id": "3XWKXoXwOGxS",
    "papermill": {
     "duration": 0.00311,
     "end_time": "2025-04-01T02:56:22.466119",
     "exception": false,
     "start_time": "2025-04-01T02:56:22.463009",
     "status": "completed"
    },
    "tags": []
   },
   "source": [
    "### Data\n",
    "\n",
    "Here is a small set of documents you will use to create an embedding database."
   ]
  },
  {
   "cell_type": "code",
   "execution_count": 6,
   "id": "38c089e0",
   "metadata": {
    "execution": {
     "iopub.execute_input": "2025-04-01T02:56:22.473430Z",
     "iopub.status.busy": "2025-04-01T02:56:22.473181Z",
     "iopub.status.idle": "2025-04-01T02:56:22.477046Z",
     "shell.execute_reply": "2025-04-01T02:56:22.476449Z"
    },
    "id": "k8nsbhFJKmG-",
    "papermill": {
     "duration": 0.009046,
     "end_time": "2025-04-01T02:56:22.478319",
     "exception": false,
     "start_time": "2025-04-01T02:56:22.469273",
     "status": "completed"
    },
    "tags": []
   },
   "outputs": [],
   "source": [
    "DOCUMENT1 = \"Operating the Climate Control System  Your Googlecar has a climate control system that allows you to adjust the temperature and airflow in the car. To operate the climate control system, use the buttons and knobs located on the center console.  Temperature: The temperature knob controls the temperature inside the car. Turn the knob clockwise to increase the temperature or counterclockwise to decrease the temperature. Airflow: The airflow knob controls the amount of airflow inside the car. Turn the knob clockwise to increase the airflow or counterclockwise to decrease the airflow. Fan speed: The fan speed knob controls the speed of the fan. Turn the knob clockwise to increase the fan speed or counterclockwise to decrease the fan speed. Mode: The mode button allows you to select the desired mode. The available modes are: Auto: The car will automatically adjust the temperature and airflow to maintain a comfortable level. Cool: The car will blow cool air into the car. Heat: The car will blow warm air into the car. Defrost: The car will blow warm air onto the windshield to defrost it.\"\n",
    "DOCUMENT2 = 'Your Googlecar has a large touchscreen display that provides access to a variety of features, including navigation, entertainment, and climate control. To use the touchscreen display, simply touch the desired icon.  For example, you can touch the \"Navigation\" icon to get directions to your destination or touch the \"Music\" icon to play your favorite songs.'\n",
    "DOCUMENT3 = \"Shifting Gears Your Googlecar has an automatic transmission. To shift gears, simply move the shift lever to the desired position.  Park: This position is used when you are parked. The wheels are locked and the car cannot move. Reverse: This position is used to back up. Neutral: This position is used when you are stopped at a light or in traffic. The car is not in gear and will not move unless you press the gas pedal. Drive: This position is used to drive forward. Low: This position is used for driving in snow or other slippery conditions.\"\n",
    "\n",
    "documents = [DOCUMENT1, DOCUMENT2, DOCUMENT3]"
   ]
  },
  {
   "cell_type": "markdown",
   "id": "ec04bf53",
   "metadata": {
    "id": "yDzxArLeOexD",
    "papermill": {
     "duration": 0.003019,
     "end_time": "2025-04-01T02:56:22.484516",
     "exception": false,
     "start_time": "2025-04-01T02:56:22.481497",
     "status": "completed"
    },
    "tags": []
   },
   "source": [
    "## Creating the embedding database with ChromaDB\n",
    "\n",
    "Create a [custom function](https://docs.trychroma.com/guides/embeddings#custom-embedding-functions) to generate embeddings with the Gemini API. In this task, you are implementing a retrieval system, so the `task_type` for generating the *document* embeddings is `retrieval_document`. Later, you will use `retrieval_query` for the *query* embeddings. Check out the [API reference](https://ai.google.dev/api/embeddings#v1beta.TaskType) for the full list of supported tasks.\n",
    "\n",
    "Key words: Documents are the items that are in the database. They are inserted first, and later retrieved. Queries are the textual search terms and can be simple keywords or textual descriptions of the desired documents."
   ]
  },
  {
   "cell_type": "code",
   "execution_count": 7,
   "id": "a9fbf3f8",
   "metadata": {
    "execution": {
     "iopub.execute_input": "2025-04-01T02:56:22.491709Z",
     "iopub.status.busy": "2025-04-01T02:56:22.491477Z",
     "iopub.status.idle": "2025-04-01T02:56:23.146701Z",
     "shell.execute_reply": "2025-04-01T02:56:23.145633Z"
    },
    "id": "mF7Uu1kCQsT0",
    "papermill": {
     "duration": 0.660797,
     "end_time": "2025-04-01T02:56:23.148566",
     "exception": false,
     "start_time": "2025-04-01T02:56:22.487769",
     "status": "completed"
    },
    "tags": []
   },
   "outputs": [],
   "source": [
    "from chromadb import Documents, EmbeddingFunction, Embeddings\n",
    "from google.api_core import retry\n",
    "\n",
    "from google.genai import types\n",
    "\n",
    "\n",
    "# Define a helper to retry when per-minute quota is reached.\n",
    "is_retriable = lambda e: (isinstance(e, genai.errors.APIError) and e.code in {429, 503})\n",
    "\n",
    "\n",
    "class GeminiEmbeddingFunction(EmbeddingFunction):\n",
    "    # Specify whether to generate embeddings for documents, or queries\n",
    "    document_mode = True\n",
    "\n",
    "    @retry.Retry(predicate=is_retriable)\n",
    "    def __call__(self, input: Documents) -> Embeddings:\n",
    "        if self.document_mode:\n",
    "            embedding_task = \"retrieval_document\"\n",
    "        else:\n",
    "            embedding_task = \"retrieval_query\"\n",
    "\n",
    "        response = client.models.embed_content(\n",
    "            model=\"models/text-embedding-004\",\n",
    "            contents=input,\n",
    "            config=types.EmbedContentConfig(\n",
    "                task_type=embedding_task,\n",
    "            ),\n",
    "        )\n",
    "        return [e.values for e in response.embeddings]"
   ]
  },
  {
   "cell_type": "markdown",
   "id": "f87f4f81",
   "metadata": {
    "id": "HrDWLyopPNBf",
    "papermill": {
     "duration": 0.003144,
     "end_time": "2025-04-01T02:56:23.155413",
     "exception": false,
     "start_time": "2025-04-01T02:56:23.152269",
     "status": "completed"
    },
    "tags": []
   },
   "source": [
    "Now create a [Chroma database client](https://docs.trychroma.com/getting-started) that uses the `GeminiEmbeddingFunction` and populate the database with the documents you defined above."
   ]
  },
  {
   "cell_type": "code",
   "execution_count": 8,
   "id": "77bc07d7",
   "metadata": {
    "execution": {
     "iopub.execute_input": "2025-04-01T02:56:23.163459Z",
     "iopub.status.busy": "2025-04-01T02:56:23.163048Z",
     "iopub.status.idle": "2025-04-01T02:56:23.701497Z",
     "shell.execute_reply": "2025-04-01T02:56:23.700666Z"
    },
    "id": "OITXgxZlLoXU",
    "papermill": {
     "duration": 0.544882,
     "end_time": "2025-04-01T02:56:23.703576",
     "exception": false,
     "start_time": "2025-04-01T02:56:23.158694",
     "status": "completed"
    },
    "tags": []
   },
   "outputs": [],
   "source": [
    "import chromadb\n",
    "\n",
    "DB_NAME = \"googlecardb\"\n",
    "\n",
    "embed_fn = GeminiEmbeddingFunction()\n",
    "embed_fn.document_mode = True\n",
    "\n",
    "chroma_client = chromadb.Client()\n",
    "db = chroma_client.get_or_create_collection(name=DB_NAME, embedding_function=embed_fn)\n",
    "\n",
    "db.add(documents=documents, ids=[str(i) for i in range(len(documents))])"
   ]
  },
  {
   "cell_type": "markdown",
   "id": "638c77bd",
   "metadata": {
    "id": "2QbwFgfXp-fL",
    "papermill": {
     "duration": 0.003125,
     "end_time": "2025-04-01T02:56:23.710373",
     "exception": false,
     "start_time": "2025-04-01T02:56:23.707248",
     "status": "completed"
    },
    "tags": []
   },
   "source": [
    "Confirm that the data was inserted by looking at the database."
   ]
  },
  {
   "cell_type": "code",
   "execution_count": 9,
   "id": "b8d89dcc",
   "metadata": {
    "execution": {
     "iopub.execute_input": "2025-04-01T02:56:23.718443Z",
     "iopub.status.busy": "2025-04-01T02:56:23.718112Z",
     "iopub.status.idle": "2025-04-01T02:56:23.724975Z",
     "shell.execute_reply": "2025-04-01T02:56:23.724275Z"
    },
    "id": "kQ9PHUL_l-hf",
    "papermill": {
     "duration": 0.013618,
     "end_time": "2025-04-01T02:56:23.727285",
     "exception": false,
     "start_time": "2025-04-01T02:56:23.713667",
     "status": "completed"
    },
    "tags": []
   },
   "outputs": [
    {
     "data": {
      "text/plain": [
       "3"
      ]
     },
     "execution_count": 9,
     "metadata": {},
     "output_type": "execute_result"
    }
   ],
   "source": [
    "db.count()\n",
    "# You can peek at the data too.\n",
    "# db.peek(1)"
   ]
  },
  {
   "cell_type": "markdown",
   "id": "22fd959d",
   "metadata": {
    "id": "Tu5zRErgsQ8u",
    "papermill": {
     "duration": 0.003477,
     "end_time": "2025-04-01T02:56:23.735001",
     "exception": false,
     "start_time": "2025-04-01T02:56:23.731524",
     "status": "completed"
    },
    "tags": []
   },
   "source": [
    "## Retrieval: Find relevant documents\n",
    "\n",
    "To search the Chroma database, call the `query` method. Note that you also switch to the `retrieval_query` mode of embedding generation.\n"
   ]
  },
  {
   "cell_type": "code",
   "execution_count": 10,
   "id": "b90060c0",
   "metadata": {
    "execution": {
     "iopub.execute_input": "2025-04-01T02:56:23.743719Z",
     "iopub.status.busy": "2025-04-01T02:56:23.743375Z",
     "iopub.status.idle": "2025-04-01T02:56:23.969776Z",
     "shell.execute_reply": "2025-04-01T02:56:23.968657Z"
    },
    "id": "gQdJMbTSLtKE",
    "papermill": {
     "duration": 0.23302,
     "end_time": "2025-04-01T02:56:23.971637",
     "exception": false,
     "start_time": "2025-04-01T02:56:23.738617",
     "status": "completed"
    },
    "tags": []
   },
   "outputs": [
    {
     "data": {
      "text/markdown": [
       "Your Googlecar has a large touchscreen display that provides access to a variety of features, including navigation, entertainment, and climate control. To use the touchscreen display, simply touch the desired icon.  For example, you can touch the \"Navigation\" icon to get directions to your destination or touch the \"Music\" icon to play your favorite songs."
      ],
      "text/plain": [
       "<IPython.core.display.Markdown object>"
      ]
     },
     "execution_count": 10,
     "metadata": {},
     "output_type": "execute_result"
    }
   ],
   "source": [
    "# Switch to query mode when generating embeddings.\n",
    "embed_fn.document_mode = False\n",
    "\n",
    "# Search the Chroma DB using the specified query.\n",
    "query = \"How do you use the touchscreen to play music?\"\n",
    "\n",
    "result = db.query(query_texts=[query], n_results=1)\n",
    "[all_passages] = result[\"documents\"]\n",
    "\n",
    "Markdown(all_passages[0])"
   ]
  },
  {
   "cell_type": "markdown",
   "id": "233cfa3b",
   "metadata": {
    "id": "s8PNRMpOQkm5",
    "papermill": {
     "duration": 0.00345,
     "end_time": "2025-04-01T02:56:23.978941",
     "exception": false,
     "start_time": "2025-04-01T02:56:23.975491",
     "status": "completed"
    },
    "tags": []
   },
   "source": [
    "## Augmented generation: Answer the question\n",
    "\n",
    "Now that you have found a relevant passage from the set of documents (the *retrieval* step), you can now assemble a generation prompt to have the Gemini API *generate* a final answer. Note that in this example only a single passage was retrieved. In practice, especially when the size of your underlying data is large, you will want to retrieve more than one result and let the Gemini model determine what passages are relevant in answering the question. For this reason it's OK if some retrieved passages are not directly related to the question - this generation step should ignore them."
   ]
  },
  {
   "cell_type": "code",
   "execution_count": 11,
   "id": "78830990",
   "metadata": {
    "execution": {
     "iopub.execute_input": "2025-04-01T02:56:23.987670Z",
     "iopub.status.busy": "2025-04-01T02:56:23.986746Z",
     "iopub.status.idle": "2025-04-01T02:56:23.992617Z",
     "shell.execute_reply": "2025-04-01T02:56:23.991727Z"
    },
    "id": "b6_Y-GOymaXu",
    "papermill": {
     "duration": 0.011814,
     "end_time": "2025-04-01T02:56:23.994116",
     "exception": false,
     "start_time": "2025-04-01T02:56:23.982302",
     "status": "completed"
    },
    "tags": []
   },
   "outputs": [
    {
     "name": "stdout",
     "output_type": "stream",
     "text": [
      "You are a helpful and informative bot that answers questions using text from the reference passage included below. \n",
      "Be sure to respond in a complete sentence, being comprehensive, including all relevant background information. \n",
      "However, you are talking to a non-technical audience, so be sure to break down complicated concepts and \n",
      "strike a friendly and converstional tone. If the passage is irrelevant to the answer, you may ignore it.\n",
      "\n",
      "QUESTION: How do you use the touchscreen to play music?\n",
      "PASSAGE: Your Googlecar has a large touchscreen display that provides access to a variety of features, including navigation, entertainment, and climate control. To use the touchscreen display, simply touch the desired icon.  For example, you can touch the \"Navigation\" icon to get directions to your destination or touch the \"Music\" icon to play your favorite songs.\n",
      "\n"
     ]
    }
   ],
   "source": [
    "query_oneline = query.replace(\"\\n\", \" \")\n",
    "\n",
    "# This prompt is where you can specify any guidance on tone, or what topics the model should stick to, or avoid.\n",
    "prompt = f\"\"\"You are a helpful and informative bot that answers questions using text from the reference passage included below. \n",
    "Be sure to respond in a complete sentence, being comprehensive, including all relevant background information. \n",
    "However, you are talking to a non-technical audience, so be sure to break down complicated concepts and \n",
    "strike a friendly and converstional tone. If the passage is irrelevant to the answer, you may ignore it.\n",
    "\n",
    "QUESTION: {query_oneline}\n",
    "\"\"\"\n",
    "\n",
    "# Add the retrieved documents to the prompt.\n",
    "for passage in all_passages:\n",
    "    passage_oneline = passage.replace(\"\\n\", \" \")\n",
    "    prompt += f\"PASSAGE: {passage_oneline}\\n\"\n",
    "\n",
    "print(prompt)"
   ]
  },
  {
   "cell_type": "markdown",
   "id": "74715422",
   "metadata": {
    "id": "VRy6yXzcPxLB",
    "papermill": {
     "duration": 0.003466,
     "end_time": "2025-04-01T02:56:24.001585",
     "exception": false,
     "start_time": "2025-04-01T02:56:23.998119",
     "status": "completed"
    },
    "tags": []
   },
   "source": [
    "Now use the `generate_content` method to to generate an answer to the question."
   ]
  },
  {
   "cell_type": "code",
   "execution_count": 12,
   "id": "d86e1ec2",
   "metadata": {
    "execution": {
     "iopub.execute_input": "2025-04-01T02:56:24.009961Z",
     "iopub.status.busy": "2025-04-01T02:56:24.009702Z",
     "iopub.status.idle": "2025-04-01T02:56:24.591099Z",
     "shell.execute_reply": "2025-04-01T02:56:24.590348Z"
    },
    "id": "EwfyxFM6Giy9",
    "papermill": {
     "duration": 0.587159,
     "end_time": "2025-04-01T02:56:24.592527",
     "exception": false,
     "start_time": "2025-04-01T02:56:24.005368",
     "status": "completed"
    },
    "tags": []
   },
   "outputs": [
    {
     "data": {
      "text/markdown": [
       "To play your favorite songs, you simply touch the \"Music\" icon on the large touchscreen display in your Googlecar, which also provides access to navigation, entertainment, and climate control.\n"
      ],
      "text/plain": [
       "<IPython.core.display.Markdown object>"
      ]
     },
     "execution_count": 12,
     "metadata": {},
     "output_type": "execute_result"
    }
   ],
   "source": [
    "answer = client.models.generate_content(\n",
    "    model=\"gemini-2.0-flash\",\n",
    "    contents=prompt)\n",
    "\n",
    "Markdown(answer.text)"
   ]
  },
  {
   "cell_type": "markdown",
   "id": "42ba81eb",
   "metadata": {
    "id": "ThTbjAJ7eGP5",
    "papermill": {
     "duration": 0.003386,
     "end_time": "2025-04-01T02:56:24.599755",
     "exception": false,
     "start_time": "2025-04-01T02:56:24.596369",
     "status": "completed"
    },
    "tags": []
   },
   "source": [
    "## Next steps\n",
    "\n",
    "Congrats on building a Retrieval-Augmented Generation app!\n",
    "\n",
    "To learn more about using embeddings in the Gemini API, check out the [Intro to embeddings](https://ai.google.dev/gemini-api/docs/embeddings) or to learn more fundamentals, study the [embeddings chapter](https://developers.google.com/machine-learning/crash-course/embeddings) of the Machine Learning Crash Course.\n",
    "\n",
    "For a hosted RAG system, check out the [Semantic Retrieval service](https://ai.google.dev/gemini-api/docs/semantic_retrieval) in the Gemini API. You can implement question-answering on your own documents in a single request, or host a database for even faster responses.\n",
    "\n",
    "*- [Mark McD](https://linktr.ee/markmcd)*"
   ]
  }
 ],
 "metadata": {
  "colab": {
   "name": "day-2-document-q-a-with-rag.ipynb",
   "toc_visible": true
  },
  "kaggle": {
   "accelerator": "none",
   "dataSources": [],
   "dockerImageVersionId": 30786,
   "isGpuEnabled": false,
   "isInternetEnabled": true,
   "language": "python",
   "sourceType": "notebook"
  },
  "kernelspec": {
   "display_name": "Python 3",
   "language": "python",
   "name": "python3"
  },
  "language_info": {
   "codemirror_mode": {
    "name": "ipython",
    "version": 3
   },
   "file_extension": ".py",
   "mimetype": "text/x-python",
   "name": "python",
   "nbconvert_exporter": "python",
   "pygments_lexer": "ipython3",
   "version": "3.10.14"
  },
  "papermill": {
   "default_parameters": {},
   "duration": 36.563084,
   "end_time": "2025-04-01T02:56:25.425017",
   "environment_variables": {},
   "exception": null,
   "input_path": "__notebook__.ipynb",
   "output_path": "__notebook__.ipynb",
   "parameters": {},
   "start_time": "2025-04-01T02:55:48.861933",
   "version": "2.6.0"
  }
 },
 "nbformat": 4,
 "nbformat_minor": 5
}
