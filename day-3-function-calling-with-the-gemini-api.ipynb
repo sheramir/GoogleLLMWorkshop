{
 "cells": [
  {
   "cell_type": "markdown",
   "id": "1d153176",
   "metadata": {
    "id": "b6e13eef3f5d",
    "papermill": {
     "duration": 0.008333,
     "end_time": "2025-04-02T03:51:00.446557",
     "exception": false,
     "start_time": "2025-04-02T03:51:00.438224",
     "status": "completed"
    },
    "tags": []
   },
   "source": [
    "##### Copyright 2025 Google LLC."
   ]
  },
  {
   "cell_type": "code",
   "execution_count": 1,
   "id": "d9cb19e6",
   "metadata": {
    "cellView": "form",
    "execution": {
     "iopub.execute_input": "2025-04-02T03:51:00.462888Z",
     "iopub.status.busy": "2025-04-02T03:51:00.462436Z",
     "iopub.status.idle": "2025-04-02T03:51:00.468342Z",
     "shell.execute_reply": "2025-04-02T03:51:00.467071Z"
    },
    "id": "d6597b11df14",
    "jupyter": {
     "source_hidden": true
    },
    "papermill": {
     "duration": 0.016465,
     "end_time": "2025-04-02T03:51:00.470593",
     "exception": false,
     "start_time": "2025-04-02T03:51:00.454128",
     "status": "completed"
    },
    "tags": []
   },
   "outputs": [],
   "source": [
    "# @title Licensed under the Apache License, Version 2.0 (the \"License\");\n",
    "# you may not use this file except in compliance with the License.\n",
    "# You may obtain a copy of the License at\n",
    "#\n",
    "# https://www.apache.org/licenses/LICENSE-2.0\n",
    "#\n",
    "# Unless required by applicable law or agreed to in writing, software\n",
    "# distributed under the License is distributed on an \"AS IS\" BASIS,\n",
    "# WITHOUT WARRANTIES OR CONDITIONS OF ANY KIND, either express or implied.\n",
    "# See the License for the specific language governing permissions and\n",
    "# limitations under the License."
   ]
  },
  {
   "cell_type": "markdown",
   "id": "87580a0e",
   "metadata": {
    "id": "4a7d3bb68371",
    "papermill": {
     "duration": 0.006741,
     "end_time": "2025-04-02T03:51:00.484581",
     "exception": false,
     "start_time": "2025-04-02T03:51:00.477840",
     "status": "completed"
    },
    "tags": []
   },
   "source": [
    "# Day 3 - Function calling with the Gemini API\n",
    "\n",
    "Welcome back to the Kaggle 5-day Generative AI course!\n",
    "\n",
    "In this notebook, you will use the Gemini API's automatic function calling to build a chat interface over a local database. This example is a toy and is missing a number of safety and security constraints you would use in a real-world example, but shows how to add AI chat capabilities to existing applications with ease.\n",
    "\n",
    "## For help\n",
    "\n",
    "**Common issues are covered in the [FAQ and troubleshooting guide](https://www.kaggle.com/code/markishere/day-0-troubleshooting-and-faqs).**"
   ]
  },
  {
   "cell_type": "markdown",
   "id": "bdfc4c04",
   "metadata": {
    "id": "ea197d1d464f",
    "papermill": {
     "duration": 0.006687,
     "end_time": "2025-04-02T03:51:00.499291",
     "exception": false,
     "start_time": "2025-04-02T03:51:00.492604",
     "status": "completed"
    },
    "tags": []
   },
   "source": [
    "## Setup\n",
    "\n",
    "Start by installing and importing the Python SDK."
   ]
  },
  {
   "cell_type": "code",
   "execution_count": 2,
   "id": "ca138399",
   "metadata": {
    "execution": {
     "iopub.execute_input": "2025-04-02T03:51:00.514889Z",
     "iopub.status.busy": "2025-04-02T03:51:00.514485Z",
     "iopub.status.idle": "2025-04-02T03:51:19.570261Z",
     "shell.execute_reply": "2025-04-02T03:51:19.568793Z"
    },
    "id": "a24f42e469df",
    "papermill": {
     "duration": 19.066752,
     "end_time": "2025-04-02T03:51:19.573119",
     "exception": false,
     "start_time": "2025-04-02T03:51:00.506367",
     "status": "completed"
    },
    "tags": []
   },
   "outputs": [],
   "source": [
    "!pip uninstall -qqy jupyterlab  # Remove unused conflicting packages\n",
    "!pip install -U -q \"google-genai==1.7.0\""
   ]
  },
  {
   "cell_type": "code",
   "execution_count": 3,
   "id": "8fc359d7",
   "metadata": {
    "execution": {
     "iopub.execute_input": "2025-04-02T03:51:19.589681Z",
     "iopub.status.busy": "2025-04-02T03:51:19.589268Z",
     "iopub.status.idle": "2025-04-02T03:51:20.947095Z",
     "shell.execute_reply": "2025-04-02T03:51:20.945974Z"
    },
    "id": "02bb0f551e25",
    "papermill": {
     "duration": 1.369234,
     "end_time": "2025-04-02T03:51:20.949824",
     "exception": false,
     "start_time": "2025-04-02T03:51:19.580590",
     "status": "completed"
    },
    "tags": []
   },
   "outputs": [
    {
     "data": {
      "text/plain": [
       "'1.7.0'"
      ]
     },
     "execution_count": 3,
     "metadata": {},
     "output_type": "execute_result"
    }
   ],
   "source": [
    "from google import genai\n",
    "from google.genai import types\n",
    "\n",
    "genai.__version__"
   ]
  },
  {
   "cell_type": "markdown",
   "id": "b9c18d93",
   "metadata": {
    "id": "90e83cddff61",
    "papermill": {
     "duration": 0.007536,
     "end_time": "2025-04-02T03:51:20.965577",
     "exception": false,
     "start_time": "2025-04-02T03:51:20.958041",
     "status": "completed"
    },
    "tags": []
   },
   "source": [
    "### Set up your API key\n",
    "\n",
    "To run the following cell, your API key must be stored it in a [Kaggle secret](https://www.kaggle.com/discussions/product-feedback/114053) named `GOOGLE_API_KEY`.\n",
    "\n",
    "If you don't already have an API key, you can grab one from [AI Studio](https://aistudio.google.com/app/apikey). You can find [detailed instructions in the docs](https://ai.google.dev/gemini-api/docs/api-key).\n",
    "\n",
    "To make the key available through Kaggle secrets, choose `Secrets` from the `Add-ons` menu and follow the instructions to add your key or enable it for this notebook."
   ]
  },
  {
   "cell_type": "code",
   "execution_count": 4,
   "id": "aea5f943",
   "metadata": {
    "execution": {
     "iopub.execute_input": "2025-04-02T03:51:20.983538Z",
     "iopub.status.busy": "2025-04-02T03:51:20.982444Z",
     "iopub.status.idle": "2025-04-02T03:51:21.284494Z",
     "shell.execute_reply": "2025-04-02T03:51:21.283432Z"
    },
    "id": "5cc8325f051d",
    "papermill": {
     "duration": 0.313097,
     "end_time": "2025-04-02T03:51:21.287070",
     "exception": false,
     "start_time": "2025-04-02T03:51:20.973973",
     "status": "completed"
    },
    "tags": []
   },
   "outputs": [],
   "source": [
    "from kaggle_secrets import UserSecretsClient\n",
    "\n",
    "GOOGLE_API_KEY = UserSecretsClient().get_secret(\"GOOGLE_API_KEY\")"
   ]
  },
  {
   "cell_type": "markdown",
   "id": "d261e5b2",
   "metadata": {
    "papermill": {
     "duration": 0.006952,
     "end_time": "2025-04-02T03:51:21.301364",
     "exception": false,
     "start_time": "2025-04-02T03:51:21.294412",
     "status": "completed"
    },
    "tags": []
   },
   "source": [
    "### Automated retry"
   ]
  },
  {
   "cell_type": "code",
   "execution_count": 5,
   "id": "7d3778b4",
   "metadata": {
    "execution": {
     "iopub.execute_input": "2025-04-02T03:51:21.317349Z",
     "iopub.status.busy": "2025-04-02T03:51:21.316996Z",
     "iopub.status.idle": "2025-04-02T03:51:21.515249Z",
     "shell.execute_reply": "2025-04-02T03:51:21.514013Z"
    },
    "papermill": {
     "duration": 0.209227,
     "end_time": "2025-04-02T03:51:21.517798",
     "exception": false,
     "start_time": "2025-04-02T03:51:21.308571",
     "status": "completed"
    },
    "tags": []
   },
   "outputs": [],
   "source": [
    "# Define a retry policy. The model might make multiple consecutive calls automatically\n",
    "# for a complex query, this ensures the client retries if it hits quota limits.\n",
    "from google.api_core import retry\n",
    "\n",
    "is_retriable = lambda e: (isinstance(e, genai.errors.APIError) and e.code in {429, 503})\n",
    "\n",
    "if not hasattr(genai.models.Models.generate_content, '__wrapped__'):\n",
    "  genai.models.Models.generate_content = retry.Retry(\n",
    "      predicate=is_retriable)(genai.models.Models.generate_content)"
   ]
  },
  {
   "cell_type": "markdown",
   "id": "77720ef5",
   "metadata": {
    "id": "ed8fc6062c62",
    "papermill": {
     "duration": 0.007212,
     "end_time": "2025-04-02T03:51:21.532523",
     "exception": false,
     "start_time": "2025-04-02T03:51:21.525311",
     "status": "completed"
    },
    "tags": []
   },
   "source": [
    "## Create a local database\n",
    "\n",
    "For this minimal example, you'll create a local SQLite database and add some synthetic data so you have something to query.\n",
    "\n",
    "Load the `sql` IPython extension so you can interact with the database using magic commands (the `%` instructions) to create a new, empty SQLite database."
   ]
  },
  {
   "cell_type": "code",
   "execution_count": 6,
   "id": "55a7b904",
   "metadata": {
    "execution": {
     "iopub.execute_input": "2025-04-02T03:51:21.548787Z",
     "iopub.status.busy": "2025-04-02T03:51:21.548253Z",
     "iopub.status.idle": "2025-04-02T03:51:23.389784Z",
     "shell.execute_reply": "2025-04-02T03:51:23.388569Z"
    },
    "id": "c98a627ef07b",
    "papermill": {
     "duration": 1.852355,
     "end_time": "2025-04-02T03:51:23.392230",
     "exception": false,
     "start_time": "2025-04-02T03:51:21.539875",
     "status": "completed"
    },
    "tags": []
   },
   "outputs": [],
   "source": [
    "%load_ext sql\n",
    "%sql sqlite:///sample.db"
   ]
  },
  {
   "cell_type": "markdown",
   "id": "3e8785e1",
   "metadata": {
    "id": "14e7bc18b8af",
    "papermill": {
     "duration": 0.008358,
     "end_time": "2025-04-02T03:51:23.408647",
     "exception": false,
     "start_time": "2025-04-02T03:51:23.400289",
     "status": "completed"
    },
    "tags": []
   },
   "source": [
    "Create the tables and insert some synthetic data. Feel free to tweak this structure and data."
   ]
  },
  {
   "cell_type": "code",
   "execution_count": 7,
   "id": "b565a88f",
   "metadata": {
    "execution": {
     "iopub.execute_input": "2025-04-02T03:51:23.428132Z",
     "iopub.status.busy": "2025-04-02T03:51:23.427546Z",
     "iopub.status.idle": "2025-04-02T03:51:23.520098Z",
     "shell.execute_reply": "2025-04-02T03:51:23.518751Z"
    },
    "id": "4e186de46cf1",
    "papermill": {
     "duration": 0.106001,
     "end_time": "2025-04-02T03:51:23.522531",
     "exception": false,
     "start_time": "2025-04-02T03:51:23.416530",
     "status": "completed"
    },
    "tags": []
   },
   "outputs": [
    {
     "name": "stdout",
     "output_type": "stream",
     "text": [
      " * sqlite:///sample.db\n",
      "Done.\n",
      "Done.\n",
      "Done.\n",
      "3 rows affected.\n",
      "3 rows affected.\n",
      "3 rows affected.\n"
     ]
    },
    {
     "data": {
      "text/plain": [
       "[]"
      ]
     },
     "execution_count": 7,
     "metadata": {},
     "output_type": "execute_result"
    }
   ],
   "source": [
    "%%sql\n",
    "-- Create the 'products' table\n",
    "CREATE TABLE IF NOT EXISTS products (\n",
    "  \tproduct_id INTEGER PRIMARY KEY AUTOINCREMENT,\n",
    "  \tproduct_name VARCHAR(255) NOT NULL,\n",
    "  \tprice DECIMAL(10, 2) NOT NULL\n",
    "  );\n",
    "\n",
    "-- Create the 'staff' table\n",
    "CREATE TABLE IF NOT EXISTS staff (\n",
    "  \tstaff_id INTEGER PRIMARY KEY AUTOINCREMENT,\n",
    "  \tfirst_name VARCHAR(255) NOT NULL,\n",
    "  \tlast_name VARCHAR(255) NOT NULL\n",
    "  );\n",
    "\n",
    "-- Create the 'orders' table\n",
    "CREATE TABLE IF NOT EXISTS orders (\n",
    "  \torder_id INTEGER PRIMARY KEY AUTOINCREMENT,\n",
    "  \tcustomer_name VARCHAR(255) NOT NULL,\n",
    "  \tstaff_id INTEGER NOT NULL,\n",
    "  \tproduct_id INTEGER NOT NULL,\n",
    "  \tFOREIGN KEY (staff_id) REFERENCES staff (staff_id),\n",
    "  \tFOREIGN KEY (product_id) REFERENCES products (product_id)\n",
    "  );\n",
    "\n",
    "-- Insert data into the 'products' table\n",
    "INSERT INTO products (product_name, price) VALUES\n",
    "  \t('Laptop', 799.99),\n",
    "  \t('Keyboard', 129.99),\n",
    "  \t('Mouse', 29.99);\n",
    "\n",
    "-- Insert data into the 'staff' table\n",
    "INSERT INTO staff (first_name, last_name) VALUES\n",
    "  \t('Alice', 'Smith'),\n",
    "  \t('Bob', 'Johnson'),\n",
    "  \t('Charlie', 'Williams');\n",
    "\n",
    "-- Insert data into the 'orders' table\n",
    "INSERT INTO orders (customer_name, staff_id, product_id) VALUES\n",
    "  \t('David Lee', 1, 1),\n",
    "  \t('Emily Chen', 2, 2),\n",
    "  \t('Frank Brown', 1, 3);"
   ]
  },
  {
   "cell_type": "markdown",
   "id": "21e197ca",
   "metadata": {
    "id": "83901899a79b",
    "papermill": {
     "duration": 0.006957,
     "end_time": "2025-04-02T03:51:23.537048",
     "exception": false,
     "start_time": "2025-04-02T03:51:23.530091",
     "status": "completed"
    },
    "tags": []
   },
   "source": [
    "## Define database functions\n",
    "\n",
    "Function calling with Gemini API's Python SDK can be implemented by defining [an OpenAPI schema](https://ai.google.dev/api/caching#Schema) that is passed to the model. You can also define Python functions and let the SDK inspect them to automatically define the schema. In this latter case, it's important that the functions are type annotated and have accurate docstrings that describe what the functions do - the model has no insight into the function body, so the docs function as the interface.\n",
    "\n",
    "By providing three key pieces of functionality - listing tables, describing a table, and executing a query - the LLM (much like a human user) will have the basic tools needed to understand and interrogate the database.\n",
    "\n",
    "Start with a database connection that will be used across all of the functions."
   ]
  },
  {
   "cell_type": "code",
   "execution_count": 8,
   "id": "45ba9f24",
   "metadata": {
    "execution": {
     "iopub.execute_input": "2025-04-02T03:51:23.554865Z",
     "iopub.status.busy": "2025-04-02T03:51:23.554478Z",
     "iopub.status.idle": "2025-04-02T03:51:23.560746Z",
     "shell.execute_reply": "2025-04-02T03:51:23.559538Z"
    },
    "id": "437168bc6b6e",
    "papermill": {
     "duration": 0.018433,
     "end_time": "2025-04-02T03:51:23.562812",
     "exception": false,
     "start_time": "2025-04-02T03:51:23.544379",
     "status": "completed"
    },
    "tags": []
   },
   "outputs": [],
   "source": [
    "import sqlite3\n",
    "\n",
    "db_file = \"sample.db\"\n",
    "db_conn = sqlite3.connect(db_file)"
   ]
  },
  {
   "cell_type": "markdown",
   "id": "7d42339a",
   "metadata": {
    "id": "b68b1a2c37d9",
    "papermill": {
     "duration": 0.007144,
     "end_time": "2025-04-02T03:51:23.577385",
     "exception": false,
     "start_time": "2025-04-02T03:51:23.570241",
     "status": "completed"
    },
    "tags": []
   },
   "source": [
    "The first function will list all tables available in the database. Define it, and test it out to ensure it works."
   ]
  },
  {
   "cell_type": "code",
   "execution_count": 9,
   "id": "6d6cdded",
   "metadata": {
    "execution": {
     "iopub.execute_input": "2025-04-02T03:51:23.594976Z",
     "iopub.status.busy": "2025-04-02T03:51:23.593436Z",
     "iopub.status.idle": "2025-04-02T03:51:23.604343Z",
     "shell.execute_reply": "2025-04-02T03:51:23.603178Z"
    },
    "id": "bdb0e4d2bb4b",
    "papermill": {
     "duration": 0.021774,
     "end_time": "2025-04-02T03:51:23.606592",
     "exception": false,
     "start_time": "2025-04-02T03:51:23.584818",
     "status": "completed"
    },
    "tags": []
   },
   "outputs": [
    {
     "name": "stdout",
     "output_type": "stream",
     "text": [
      " - DB CALL: list_tables()\n"
     ]
    },
    {
     "data": {
      "text/plain": [
       "['products', 'sqlite_sequence', 'staff', 'orders']"
      ]
     },
     "execution_count": 9,
     "metadata": {},
     "output_type": "execute_result"
    }
   ],
   "source": [
    "def list_tables() -> list[str]:\n",
    "    \"\"\"Retrieve the names of all tables in the database.\"\"\"\n",
    "    # Include print logging statements so you can see when functions are being called.\n",
    "    print(' - DB CALL: list_tables()')\n",
    "\n",
    "    cursor = db_conn.cursor()\n",
    "\n",
    "    # Fetch the table names.\n",
    "    cursor.execute(\"SELECT name FROM sqlite_master WHERE type='table';\")\n",
    "\n",
    "    tables = cursor.fetchall()\n",
    "    return [t[0] for t in tables]\n",
    "\n",
    "\n",
    "list_tables()"
   ]
  },
  {
   "cell_type": "markdown",
   "id": "1a4885a9",
   "metadata": {
    "id": "b6c010b1b6c2",
    "papermill": {
     "duration": 0.007189,
     "end_time": "2025-04-02T03:51:23.621206",
     "exception": false,
     "start_time": "2025-04-02T03:51:23.614017",
     "status": "completed"
    },
    "tags": []
   },
   "source": [
    "Once the available tables is known, the next step a database user will need is to understand what columns are available in a given table. Define that too, and test that it works as expected."
   ]
  },
  {
   "cell_type": "code",
   "execution_count": 10,
   "id": "c6225f69",
   "metadata": {
    "execution": {
     "iopub.execute_input": "2025-04-02T03:51:23.638883Z",
     "iopub.status.busy": "2025-04-02T03:51:23.638503Z",
     "iopub.status.idle": "2025-04-02T03:51:23.648758Z",
     "shell.execute_reply": "2025-04-02T03:51:23.647642Z"
    },
    "id": "ecdb109298c4",
    "papermill": {
     "duration": 0.022496,
     "end_time": "2025-04-02T03:51:23.651156",
     "exception": false,
     "start_time": "2025-04-02T03:51:23.628660",
     "status": "completed"
    },
    "tags": []
   },
   "outputs": [
    {
     "name": "stdout",
     "output_type": "stream",
     "text": [
      " - DB CALL: describe_table(products)\n"
     ]
    },
    {
     "data": {
      "text/plain": [
       "[('product_id', 'INTEGER'),\n",
       " ('product_name', 'VARCHAR(255)'),\n",
       " ('price', 'DECIMAL(10, 2)')]"
      ]
     },
     "execution_count": 10,
     "metadata": {},
     "output_type": "execute_result"
    }
   ],
   "source": [
    "def describe_table(table_name: str) -> list[tuple[str, str]]:\n",
    "    \"\"\"Look up the table schema.\n",
    "\n",
    "    Returns:\n",
    "      List of columns, where each entry is a tuple of (column, type).\n",
    "    \"\"\"\n",
    "    print(f' - DB CALL: describe_table({table_name})')\n",
    "\n",
    "    cursor = db_conn.cursor()\n",
    "\n",
    "    cursor.execute(f\"PRAGMA table_info({table_name});\")\n",
    "\n",
    "    schema = cursor.fetchall()\n",
    "    # [column index, column name, column type, ...]\n",
    "    return [(col[1], col[2]) for col in schema]\n",
    "\n",
    "\n",
    "describe_table(\"products\")"
   ]
  },
  {
   "cell_type": "markdown",
   "id": "4d3f0ed4",
   "metadata": {
    "id": "f6053a2ca272",
    "papermill": {
     "duration": 0.007237,
     "end_time": "2025-04-02T03:51:23.666844",
     "exception": false,
     "start_time": "2025-04-02T03:51:23.659607",
     "status": "completed"
    },
    "tags": []
   },
   "source": [
    "Now that the system knows what tables and columns are present, it has enough information to be able to generate and run a `SELECT` query. Now provide that functionality, and test that it works."
   ]
  },
  {
   "cell_type": "code",
   "execution_count": 11,
   "id": "e041ca7e",
   "metadata": {
    "execution": {
     "iopub.execute_input": "2025-04-02T03:51:23.683572Z",
     "iopub.status.busy": "2025-04-02T03:51:23.683201Z",
     "iopub.status.idle": "2025-04-02T03:51:23.692005Z",
     "shell.execute_reply": "2025-04-02T03:51:23.690928Z"
    },
    "id": "9e405db8b3f6",
    "papermill": {
     "duration": 0.020017,
     "end_time": "2025-04-02T03:51:23.694396",
     "exception": false,
     "start_time": "2025-04-02T03:51:23.674379",
     "status": "completed"
    },
    "tags": []
   },
   "outputs": [
    {
     "name": "stdout",
     "output_type": "stream",
     "text": [
      " - DB CALL: execute_query(select * from products)\n"
     ]
    },
    {
     "data": {
      "text/plain": [
       "[(1, 'Laptop', 799.99), (2, 'Keyboard', 129.99), (3, 'Mouse', 29.99)]"
      ]
     },
     "execution_count": 11,
     "metadata": {},
     "output_type": "execute_result"
    }
   ],
   "source": [
    "def execute_query(sql: str) -> list[list[str]]:\n",
    "    \"\"\"Execute an SQL statement, returning the results.\"\"\"\n",
    "    print(f' - DB CALL: execute_query({sql})')\n",
    "\n",
    "    cursor = db_conn.cursor()\n",
    "\n",
    "    cursor.execute(sql)\n",
    "    return cursor.fetchall()\n",
    "\n",
    "\n",
    "execute_query(\"select * from products\")"
   ]
  },
  {
   "cell_type": "markdown",
   "id": "d3760d59",
   "metadata": {
    "id": "ac464dfb35a0",
    "papermill": {
     "duration": 0.008716,
     "end_time": "2025-04-02T03:51:23.711664",
     "exception": false,
     "start_time": "2025-04-02T03:51:23.702948",
     "status": "completed"
    },
    "tags": []
   },
   "source": [
    "## Implement function calls\n",
    "\n",
    "Now you can put it all together in a call to the Gemini API.\n",
    "\n",
    "Function calling works by adding specific messages to a chat session. When function schemas are defined and made available to the model and a conversation is started, instead of returning a text response, the model may return a `function_call` instead. When this happens, the client must respond with a `function_response`, indicating the result of the call, and the conversation can continue on as normal.\n",
    "\n",
    "This function calling interaction normally happens manually, allowing you, the client, to validate and initiate the call. However the Python SDK also supports **automatic function calling**, where the supplied functions will be automatically invoked. This is a powerful feature and should be used with care, such as when the functions have no [side-effects](https://en.wikipedia.org/wiki/Side_effect_(computer_science)).\n",
    "\n",
    "Here's the state diagram representing the conversation flow with function calling. With automatic function calling, the bottom row is executed automatically by the Python SDK. With manual function calling, you write the code to run each step individually.\n",
    "\n",
    "![function calling state diagram](https://codelabs.developers.google.com/static/codelabs/gemini-function-calling/img/gemini-function-calling-overview_1440.png)"
   ]
  },
  {
   "cell_type": "code",
   "execution_count": 12,
   "id": "ed1bc487",
   "metadata": {
    "execution": {
     "iopub.execute_input": "2025-04-02T03:51:23.729707Z",
     "iopub.status.busy": "2025-04-02T03:51:23.729159Z",
     "iopub.status.idle": "2025-04-02T03:51:23.902853Z",
     "shell.execute_reply": "2025-04-02T03:51:23.901750Z"
    },
    "id": "f4839540066d",
    "papermill": {
     "duration": 0.186378,
     "end_time": "2025-04-02T03:51:23.906280",
     "exception": false,
     "start_time": "2025-04-02T03:51:23.719902",
     "status": "completed"
    },
    "tags": []
   },
   "outputs": [],
   "source": [
    "# These are the Python functions defined above.\n",
    "db_tools = [list_tables, describe_table, execute_query]\n",
    "\n",
    "instruction = \"\"\"You are a helpful chatbot that can interact with an SQL database\n",
    "for a computer store. You will take the users questions and turn them into SQL\n",
    "queries using the tools available. Once you have the information you need, you will\n",
    "answer the user's question using the data returned.\n",
    "\n",
    "Use list_tables to see what tables are present, describe_table to understand the\n",
    "schema, and execute_query to issue an SQL SELECT query.\"\"\"\n",
    "\n",
    "client = genai.Client(api_key=GOOGLE_API_KEY)\n",
    "\n",
    "# Start a chat with automatic function calling enabled.\n",
    "chat = client.chats.create(\n",
    "    model=\"gemini-2.0-flash\", # was \"gemini-2.0-flash\"\n",
    "    config=types.GenerateContentConfig(\n",
    "        system_instruction=instruction,\n",
    "        tools=db_tools,\n",
    "    ),\n",
    ")"
   ]
  },
  {
   "cell_type": "markdown",
   "id": "efad08c2",
   "metadata": {
    "id": "5f120977f1ee",
    "papermill": {
     "duration": 0.008967,
     "end_time": "2025-04-02T03:51:23.925631",
     "exception": false,
     "start_time": "2025-04-02T03:51:23.916664",
     "status": "completed"
    },
    "tags": []
   },
   "source": [
    "Now you can engage in a chat conversation where you can ask about the contents of the database."
   ]
  },
  {
   "cell_type": "code",
   "execution_count": 13,
   "id": "66e07adb",
   "metadata": {
    "execution": {
     "iopub.execute_input": "2025-04-02T03:51:23.946392Z",
     "iopub.status.busy": "2025-04-02T03:51:23.945356Z",
     "iopub.status.idle": "2025-04-02T03:51:26.793438Z",
     "shell.execute_reply": "2025-04-02T03:51:26.792238Z"
    },
    "id": "111cfb79338b",
    "papermill": {
     "duration": 2.860943,
     "end_time": "2025-04-02T03:51:26.795939",
     "exception": false,
     "start_time": "2025-04-02T03:51:23.934996",
     "status": "completed"
    },
    "tags": []
   },
   "outputs": [
    {
     "name": "stdout",
     "output_type": "stream",
     "text": [
      " - DB CALL: list_tables()\n",
      " - DB CALL: describe_table(products)\n",
      " - DB CALL: execute_query(SELECT product_name, price FROM products ORDER BY price ASC LIMIT 1)\n",
      "\n",
      "The cheapest product is the Mouse, which costs $29.99.\n"
     ]
    }
   ],
   "source": [
    "resp = chat.send_message(\"What is the cheapest product?\")\n",
    "print(f\"\\n{resp.text}\")"
   ]
  },
  {
   "cell_type": "markdown",
   "id": "2de638b3",
   "metadata": {
    "id": "43595d4ef920",
    "papermill": {
     "duration": 0.007865,
     "end_time": "2025-04-02T03:51:26.811982",
     "exception": false,
     "start_time": "2025-04-02T03:51:26.804117",
     "status": "completed"
    },
    "tags": []
   },
   "source": [
    "If you re-use the same [`Chat`](https://googleapis.github.io/python-genai/genai.html#genai.chats.Chat) object, the conversation will continue statefully. If you wish to start fresh, you can create a new `Chat` object.\n",
    "\n",
    "Continue the chat here by asking a follow-up question. Note that the database information is preserved, and the context of the specific product is inferred."
   ]
  },
  {
   "cell_type": "code",
   "execution_count": 14,
   "id": "4c65f670",
   "metadata": {
    "execution": {
     "iopub.execute_input": "2025-04-02T03:51:26.830114Z",
     "iopub.status.busy": "2025-04-02T03:51:26.829726Z",
     "iopub.status.idle": "2025-04-02T03:51:28.935039Z",
     "shell.execute_reply": "2025-04-02T03:51:28.934035Z"
    },
    "id": "647cbcc43993",
    "papermill": {
     "duration": 2.116712,
     "end_time": "2025-04-02T03:51:28.937250",
     "exception": false,
     "start_time": "2025-04-02T03:51:26.820538",
     "status": "completed"
    },
    "tags": []
   },
   "outputs": [
    {
     "name": "stdout",
     "output_type": "stream",
     "text": [
      " - DB CALL: describe_table(orders)\n",
      " - DB CALL: execute_query(SELECT COUNT(*) FROM orders WHERE product_id = (SELECT product_id FROM products WHERE product_name = 'Mouse'))\n",
      "\n",
      "One mouse has been sold.\n"
     ]
    }
   ],
   "source": [
    "resp = chat.send_message(\"And how many are sold?\")\n",
    "print(f\"\\n{resp.text}\")"
   ]
  },
  {
   "cell_type": "markdown",
   "id": "40eea45f",
   "metadata": {
    "id": "d67f635191c8",
    "papermill": {
     "duration": 0.008388,
     "end_time": "2025-04-02T03:51:28.954056",
     "exception": false,
     "start_time": "2025-04-02T03:51:28.945668",
     "status": "completed"
    },
    "tags": []
   },
   "source": [
    "Explore the chat session and ask your own questions. The 2.0 models are quite capable and can usually answer questions requiring multiple steps."
   ]
  },
  {
   "cell_type": "code",
   "execution_count": 15,
   "id": "045221cc",
   "metadata": {
    "execution": {
     "iopub.execute_input": "2025-04-02T03:51:28.972053Z",
     "iopub.status.busy": "2025-04-02T03:51:28.971621Z",
     "iopub.status.idle": "2025-04-02T03:51:33.962537Z",
     "shell.execute_reply": "2025-04-02T03:51:33.960722Z"
    },
    "id": "647cbcc43993",
    "papermill": {
     "duration": 5.003417,
     "end_time": "2025-04-02T03:51:33.965697",
     "exception": false,
     "start_time": "2025-04-02T03:51:28.962280",
     "status": "completed"
    },
    "tags": []
   },
   "outputs": [
    {
     "name": "stdout",
     "output_type": "stream",
     "text": [
      " - DB CALL: list_tables()\n",
      " - DB CALL: describe_table(products)\n",
      " - DB CALL: describe_table(staff)\n",
      " - DB CALL: describe_table(orders)\n",
      " - DB CALL: execute_query(SELECT staff_id FROM staff WHERE first_name = 'Alice')\n",
      " - DB CALL: execute_query(SELECT DISTINCT product_id FROM orders WHERE staff_id = 1)\n",
      " - DB CALL: execute_query(SELECT product_name FROM products WHERE product_id NOT IN (1, 3))\n",
      "\n",
      "Alice should focus on selling Keyboards, as she hasn't sold any yet.\n",
      "\n"
     ]
    }
   ],
   "source": [
    "chat = client.chats.create(\n",
    "    model=\"gemini-2.0-flash\", # was \"gemini-2.0-flash\"\n",
    "    config=types.GenerateContentConfig(\n",
    "        system_instruction=instruction,\n",
    "        tools=db_tools,\n",
    "    ),\n",
    ")\n",
    "\n",
    "response = chat.send_message('What products should salesperson Alice focus on to round out her portfolio? Explain why.')\n",
    "print(f\"\\n{response.text}\")"
   ]
  },
  {
   "cell_type": "markdown",
   "id": "b05d857a",
   "metadata": {
    "id": "1f5bb6d9bd6a",
    "papermill": {
     "duration": 0.011889,
     "end_time": "2025-04-02T03:51:33.990281",
     "exception": false,
     "start_time": "2025-04-02T03:51:33.978392",
     "status": "completed"
    },
    "tags": []
   },
   "source": [
    "### Inspecting the conversation\n",
    "\n",
    "To see the calls that the model makes, and what the client returns in response, you can inspect the chat history. This helper function will print out each turn along with the relevant fields passed or returned."
   ]
  },
  {
   "cell_type": "code",
   "execution_count": 16,
   "id": "b6037532",
   "metadata": {
    "execution": {
     "iopub.execute_input": "2025-04-02T03:51:34.016820Z",
     "iopub.status.busy": "2025-04-02T03:51:34.016385Z",
     "iopub.status.idle": "2025-04-02T03:51:34.026445Z",
     "shell.execute_reply": "2025-04-02T03:51:34.025192Z"
    },
    "id": "639963cc64e2",
    "papermill": {
     "duration": 0.026037,
     "end_time": "2025-04-02T03:51:34.028886",
     "exception": false,
     "start_time": "2025-04-02T03:51:34.002849",
     "status": "completed"
    },
    "tags": []
   },
   "outputs": [
    {
     "name": "stdout",
     "output_type": "stream",
     "text": [
      "User:\n",
      "  \"What products should salesperson Alice focus on to round out her portfolio? Explain why.\"\n",
      "\n",
      "Model:\n",
      "  Function call: list_tables()\n",
      "\n",
      "User:\n",
      "  Function response:\n",
      "    ['products', 'sqlite_sequence', 'staff', 'orders']\n",
      "\n",
      "Model:\n",
      "  \"Okay, I need to figure out which products Alice *hasn't* sold much of. To do this, I'll need to look at the `products`, `staff`, and `orders` tables. I'll start by describing them.\n",
      "\"\n",
      "  Function call: describe_table(table_name=products)\n",
      "  Function call: describe_table(table_name=staff)\n",
      "  Function call: describe_table(table_name=orders)\n",
      "\n",
      "User:\n",
      "  Function response:\n",
      "    [('product_id', 'INTEGER'), ('product_name', 'VARCHAR(255)'), ('price', 'DECIMAL(10, 2)')]\n",
      "  Function response:\n",
      "    [('staff_id', 'INTEGER'), ('first_name', 'VARCHAR(255)'), ('last_name', 'VARCHAR(255)')]\n",
      "  Function response:\n",
      "    [('order_id', 'INTEGER'), ('customer_name', 'VARCHAR(255)'), ('staff_id', 'INTEGER'), ('product_id', 'INTEGER')]\n",
      "\n",
      "Model:\n",
      "  \"Okay, here's the plan:\n",
      "\n",
      "1.  Find Alice's `staff_id` from the `staff` table.\n",
      "2.  Find all the `product_id`s that Alice has sold from the `orders` table.\n",
      "3.  Find all the `product_name`s from the `products` table that are *not* in the list of products Alice has sold.\n",
      "4.  Present those product names to the user.\n",
      "\n",
      "Here's the first query to find Alice's `staff_id`:\n",
      "\"\n",
      "  Function call: execute_query(sql=SELECT staff_id FROM staff WHERE first_name = 'Alice')\n",
      "\n",
      "User:\n",
      "  Function response:\n",
      "    [(1,)]\n",
      "\n",
      "Model:\n",
      "  \"Okay, Alice's `staff_id` is 1. Now I need to find all the `product_id`s that Alice (staff\\_id = 1) has sold:\n",
      "\"\n",
      "  Function call: execute_query(sql=SELECT DISTINCT product_id FROM orders WHERE staff_id = 1)\n",
      "\n",
      "User:\n",
      "  Function response:\n",
      "    [(1,), (3,)]\n",
      "\n",
      "Model:\n",
      "  \"So Alice has sold products with IDs 1 and 3. Now I need to find all the products that are *not* 1 or 3.\n",
      "\"\n",
      "  Function call: execute_query(sql=SELECT product_name FROM products WHERE product_id NOT IN (1, 3))\n",
      "\n",
      "User:\n",
      "  Function response:\n",
      "    [('Keyboard',)]\n",
      "\n",
      "Model:\n",
      "  \"Alice should focus on selling Keyboards, as she hasn't sold any yet.\n",
      "\"\n",
      "\n"
     ]
    }
   ],
   "source": [
    "import textwrap\n",
    "\n",
    "\n",
    "def print_chat_turns(chat):\n",
    "    \"\"\"Prints out each turn in the chat history, including function calls and responses.\"\"\"\n",
    "    for event in chat.get_history():\n",
    "        print(f\"{event.role.capitalize()}:\")\n",
    "\n",
    "        for part in event.parts:\n",
    "            if txt := part.text:\n",
    "                print(f'  \"{txt}\"')\n",
    "            elif fn := part.function_call:\n",
    "                args = \", \".join(f\"{key}={val}\" for key, val in fn.args.items())\n",
    "                print(f\"  Function call: {fn.name}({args})\")\n",
    "            elif resp := part.function_response:\n",
    "                print(\"  Function response:\")\n",
    "                print(textwrap.indent(str(resp.response['result']), \"    \"))\n",
    "\n",
    "        print()\n",
    "\n",
    "\n",
    "print_chat_turns(chat)"
   ]
  },
  {
   "cell_type": "markdown",
   "id": "f368b5bb",
   "metadata": {
    "id": "8a17aeb2a3ef",
    "papermill": {
     "duration": 0.009075,
     "end_time": "2025-04-02T03:51:34.046993",
     "exception": false,
     "start_time": "2025-04-02T03:51:34.037918",
     "status": "completed"
    },
    "tags": []
   },
   "source": [
    "In this output you can see each of the conversational turns that were made. Note that the model doesn't remember anything outside of the chat history, so you can make changes to the database structure or data and the model will respond without needing any code changes - try this out!"
   ]
  },
  {
   "cell_type": "markdown",
   "id": "80b50291",
   "metadata": {
    "papermill": {
     "duration": 0.008481,
     "end_time": "2025-04-02T03:51:34.064209",
     "exception": false,
     "start_time": "2025-04-02T03:51:34.055728",
     "status": "completed"
    },
    "tags": []
   },
   "source": [
    "## Compositional function calling\n",
    "\n",
    "A powerful new feature in Gemini 2.0 is the model's ability to compose user-provided function calls together while generating code.\n",
    "\n",
    "This means that the model is able to take the available tools, generate code that uses it, and execute it all.\n",
    "\n",
    "The feature requires the Live API, so this step uses different setup code than most of the examples you have seen so far. As the Multimodal Live API is a bi-directional streaming service, everything is set up in advance and then executed. This is a little more complex but the result is quite powerful.\n",
    "\n",
    "First define a function that will handle streaming model output. It will stream text output, handle tool-calling and show the generated code that the model writes and executes to fulfill the task."
   ]
  },
  {
   "cell_type": "code",
   "execution_count": 17,
   "id": "bff3b165",
   "metadata": {
    "execution": {
     "iopub.execute_input": "2025-04-02T03:51:34.084575Z",
     "iopub.status.busy": "2025-04-02T03:51:34.084143Z",
     "iopub.status.idle": "2025-04-02T03:51:34.095749Z",
     "shell.execute_reply": "2025-04-02T03:51:34.094406Z"
    },
    "papermill": {
     "duration": 0.024343,
     "end_time": "2025-04-02T03:51:34.098560",
     "exception": false,
     "start_time": "2025-04-02T03:51:34.074217",
     "status": "completed"
    },
    "tags": []
   },
   "outputs": [],
   "source": [
    "from pprint import pformat\n",
    "from IPython.display import display, Image, Markdown\n",
    "\n",
    "\n",
    "async def handle_response(stream, tool_impl=None):\n",
    "  \"\"\"Stream output and handle any tool calls during the session.\"\"\"\n",
    "  all_responses = []\n",
    "\n",
    "  async for msg in stream.receive():\n",
    "    all_responses.append(msg)\n",
    "\n",
    "    if text := msg.text:\n",
    "      # Output any text chunks that are streamed back.\n",
    "      if len(all_responses) < 2 or not all_responses[-2].text:\n",
    "        # Display a header if this is the first text chunk.\n",
    "        display(Markdown('### Text'))\n",
    "\n",
    "      print(text, end='')\n",
    "\n",
    "    elif tool_call := msg.tool_call:\n",
    "      # Handle tool-call requests.\n",
    "      for fc in tool_call.function_calls:\n",
    "        display(Markdown('### Tool call'))\n",
    "\n",
    "        # Execute the tool and collect the result to return to the model.\n",
    "        if callable(tool_impl):\n",
    "          try:\n",
    "            result = tool_impl(**fc.args)\n",
    "          except Exception as e:\n",
    "            result = str(e)\n",
    "        else:\n",
    "          result = 'ok'\n",
    "\n",
    "        tool_response = types.LiveClientToolResponse(\n",
    "            function_responses=[types.FunctionResponse(\n",
    "                name=fc.name,\n",
    "                id=fc.id,\n",
    "                response={'result': result},\n",
    "            )]\n",
    "        )\n",
    "        await stream.send(input=tool_response)\n",
    "\n",
    "    elif msg.server_content and msg.server_content.model_turn:\n",
    "      # Print any messages showing code the model generated and ran.\n",
    "\n",
    "      for part in msg.server_content.model_turn.parts:\n",
    "          if code := part.executable_code:\n",
    "            display(Markdown(\n",
    "                f'### Code\\n```\\n{code.code}\\n```'))\n",
    "\n",
    "          elif result := part.code_execution_result:\n",
    "            display(Markdown(f'### Result: {result.outcome}\\n'\n",
    "                             f'```\\n{pformat(result.output)}\\n```'))\n",
    "\n",
    "          elif img := part.inline_data:\n",
    "            display(Image(img.data))\n",
    "\n",
    "  print()\n",
    "  return all_responses"
   ]
  },
  {
   "cell_type": "markdown",
   "id": "dfb66a90",
   "metadata": {
    "papermill": {
     "duration": 0.008625,
     "end_time": "2025-04-02T03:51:34.117012",
     "exception": false,
     "start_time": "2025-04-02T03:51:34.108387",
     "status": "completed"
    },
    "tags": []
   },
   "source": [
    "### Textual live database chat\n",
    "\n",
    "Now connect to the model and start a conversation.\n",
    "\n",
    "The Live API is a streaming API, so this example is fully pre-scripted and only has a single user input. Despite this, the request still requires the model to perform a bit of back-and-forth to interrogate the database, and you should see the model generate some code that uses the `execute_query` tool in a loop."
   ]
  },
  {
   "cell_type": "code",
   "execution_count": 18,
   "id": "cf50c2af",
   "metadata": {
    "execution": {
     "iopub.execute_input": "2025-04-02T03:51:34.138053Z",
     "iopub.status.busy": "2025-04-02T03:51:34.136673Z",
     "iopub.status.idle": "2025-04-02T03:51:40.379850Z",
     "shell.execute_reply": "2025-04-02T03:51:40.378579Z"
    },
    "papermill": {
     "duration": 6.256023,
     "end_time": "2025-04-02T03:51:40.382365",
     "exception": false,
     "start_time": "2025-04-02T03:51:34.126342",
     "status": "completed"
    },
    "tags": []
   },
   "outputs": [
    {
     "name": "stderr",
     "output_type": "stream",
     "text": [
      "/tmp/ipykernel_17/3415874943.py:29: ExperimentalWarning: The live API is experimental and may change in future versions.\n",
      "  async with live_client.aio.live.connect(model=model, config=config) as session:\n"
     ]
    },
    {
     "name": "stdout",
     "output_type": "stream",
     "text": [
      "> Please generate and insert 5 new rows in the orders table.\n",
      "\n"
     ]
    },
    {
     "data": {
      "text/markdown": [
       "### Text"
      ],
      "text/plain": [
       "<IPython.core.display.Markdown object>"
      ]
     },
     "metadata": {},
     "output_type": "display_data"
    },
    {
     "name": "stdout",
     "output_type": "stream",
     "text": [
      "I need to understand the structure of the `orders` table before I can insert new rows. I'll start by querying the database schema.\n"
     ]
    },
    {
     "data": {
      "text/markdown": [
       "### Code\n",
       "```\n",
       "print(default_api.execute_query(sql=\"PRAGMA table_info(orders);\"))\n",
       "\n",
       "```"
      ],
      "text/plain": [
       "<IPython.core.display.Markdown object>"
      ]
     },
     "metadata": {},
     "output_type": "display_data"
    },
    {
     "data": {
      "text/markdown": [
       "### Tool call"
      ],
      "text/plain": [
       "<IPython.core.display.Markdown object>"
      ]
     },
     "metadata": {},
     "output_type": "display_data"
    },
    {
     "name": "stdout",
     "output_type": "stream",
     "text": [
      " - DB CALL: execute_query(PRAGMA table_info(orders);)\n"
     ]
    },
    {
     "data": {
      "text/markdown": [
       "### Result: OUTCOME_OK\n",
       "```\n",
       "(\"{'result': [[0, 'order_id', 'INTEGER', 0, None, 1], [1, 'customer_name', \"\n",
       " \"'VARCHAR(255)', 1, None, 0], [2, 'staff_id', 'INTEGER', 1, None, 0], [3, \"\n",
       " \"'product_id', 'INTEGER', 1, None, 0]]}\\n\")\n",
       "```"
      ],
      "text/plain": [
       "<IPython.core.display.Markdown object>"
      ]
     },
     "metadata": {},
     "output_type": "display_data"
    },
    {
     "data": {
      "text/markdown": [
       "### Text"
      ],
      "text/plain": [
       "<IPython.core.display.Markdown object>"
      ]
     },
     "metadata": {},
     "output_type": "display_data"
    },
    {
     "name": "stdout",
     "output_type": "stream",
     "text": [
      "Okay, the `orders` table has columns `order_id` (INTEGER, primary key), `customer_name` (VARCHAR(255)), `staff_id` (INTEGER), and `product_id` (INTEGER). I'll now insert 5 new rows into this table, making sure to provide values for `customer_name`, `staff_id`, and `product_id`. I will auto-increment the `order_id`.\n"
     ]
    },
    {
     "data": {
      "text/markdown": [
       "### Code\n",
       "```\n",
       "insert_statements = [\n",
       "    \"INSERT INTO orders (customer_name, staff_id, product_id) VALUES ('Alice Smith', 1, 101);\",\n",
       "    \"INSERT INTO orders (customer_name, staff_id, product_id) VALUES ('Bob Johnson', 2, 102);\",\n",
       "    \"INSERT INTO orders (customer_name, staff_id, product_id) VALUES ('Charlie Brown', 1, 103);\",\n",
       "    \"INSERT INTO orders (customer_name, staff_id, product_id) VALUES ('Diana Prince', 3, 104);\",\n",
       "    \"INSERT INTO orders (customer_name, staff_id, product_id) VALUES ('Eve Miller', 2, 105);\"\n",
       "]\n",
       "\n",
       "for stmt in insert_statements:\n",
       "  print(default_api.execute_query(sql=stmt))\n",
       "\n",
       "```"
      ],
      "text/plain": [
       "<IPython.core.display.Markdown object>"
      ]
     },
     "metadata": {},
     "output_type": "display_data"
    },
    {
     "data": {
      "text/markdown": [
       "### Tool call"
      ],
      "text/plain": [
       "<IPython.core.display.Markdown object>"
      ]
     },
     "metadata": {},
     "output_type": "display_data"
    },
    {
     "name": "stdout",
     "output_type": "stream",
     "text": [
      " - DB CALL: execute_query(INSERT INTO orders (customer_name, staff_id, product_id) VALUES ('Alice Smith', 1, 101);)\n"
     ]
    },
    {
     "data": {
      "text/markdown": [
       "### Tool call"
      ],
      "text/plain": [
       "<IPython.core.display.Markdown object>"
      ]
     },
     "metadata": {},
     "output_type": "display_data"
    },
    {
     "name": "stdout",
     "output_type": "stream",
     "text": [
      " - DB CALL: execute_query(INSERT INTO orders (customer_name, staff_id, product_id) VALUES ('Bob Johnson', 2, 102);)\n"
     ]
    },
    {
     "data": {
      "text/markdown": [
       "### Tool call"
      ],
      "text/plain": [
       "<IPython.core.display.Markdown object>"
      ]
     },
     "metadata": {},
     "output_type": "display_data"
    },
    {
     "name": "stdout",
     "output_type": "stream",
     "text": [
      " - DB CALL: execute_query(INSERT INTO orders (customer_name, staff_id, product_id) VALUES ('Charlie Brown', 1, 103);)\n"
     ]
    },
    {
     "data": {
      "text/markdown": [
       "### Tool call"
      ],
      "text/plain": [
       "<IPython.core.display.Markdown object>"
      ]
     },
     "metadata": {},
     "output_type": "display_data"
    },
    {
     "name": "stdout",
     "output_type": "stream",
     "text": [
      " - DB CALL: execute_query(INSERT INTO orders (customer_name, staff_id, product_id) VALUES ('Diana Prince', 3, 104);)\n"
     ]
    },
    {
     "data": {
      "text/markdown": [
       "### Tool call"
      ],
      "text/plain": [
       "<IPython.core.display.Markdown object>"
      ]
     },
     "metadata": {},
     "output_type": "display_data"
    },
    {
     "name": "stdout",
     "output_type": "stream",
     "text": [
      " - DB CALL: execute_query(INSERT INTO orders (customer_name, staff_id, product_id) VALUES ('Eve Miller', 2, 105);)\n"
     ]
    },
    {
     "data": {
      "text/markdown": [
       "### Result: OUTCOME_OK\n",
       "```\n",
       "(\"{'result': []}\\n\"\n",
       " \"{'result': []}\\n\"\n",
       " \"{'result': []}\\n\"\n",
       " \"{'result': []}\\n\"\n",
       " \"{'result': []}\\n\")\n",
       "```"
      ],
      "text/plain": [
       "<IPython.core.display.Markdown object>"
      ]
     },
     "metadata": {},
     "output_type": "display_data"
    },
    {
     "data": {
      "text/markdown": [
       "### Text"
      ],
      "text/plain": [
       "<IPython.core.display.Markdown object>"
      ]
     },
     "metadata": {},
     "output_type": "display_data"
    },
    {
     "name": "stdout",
     "output_type": "stream",
     "text": [
      "I have successfully inserted 5 new rows into the `orders` table.\n",
      "\n"
     ]
    }
   ],
   "source": [
    "model = 'gemini-2.0-flash-exp'\n",
    "live_client = genai.Client(api_key=GOOGLE_API_KEY,\n",
    "                           http_options=types.HttpOptions(api_version='v1alpha'))\n",
    "\n",
    "# Wrap the existing execute_query tool you used in the earlier example.\n",
    "execute_query_tool_def = types.FunctionDeclaration.from_callable(\n",
    "    client=live_client, callable=execute_query)\n",
    "\n",
    "# Provide the model with enough information to use the tool, such as describing\n",
    "# the database so it understands which SQL syntax to use.\n",
    "sys_int = \"\"\"You are a database interface. Use the `execute_query` function\n",
    "to answer the users questions by looking up information in the database,\n",
    "running any necessary queries and responding to the user.\n",
    "\n",
    "You need to look up table schema using sqlite3 syntax SQL, then once an\n",
    "answer is found be sure to tell the user. If the user is requesting an\n",
    "action, you must also execute the actions.\n",
    "\"\"\"\n",
    "\n",
    "config = {\n",
    "    \"response_modalities\": [\"TEXT\"],\n",
    "    \"system_instruction\": {\"parts\": [{\"text\": sys_int}]},\n",
    "    \"tools\": [\n",
    "        {\"code_execution\": {}},\n",
    "        {\"function_declarations\": [execute_query_tool_def.to_json_dict()]},\n",
    "    ],\n",
    "}\n",
    "\n",
    "async with live_client.aio.live.connect(model=model, config=config) as session:\n",
    "\n",
    "  message = \"Please generate and insert 5 new rows in the orders table.\"\n",
    "  print(f\"> {message}\\n\")\n",
    "\n",
    "  await session.send(input=message, end_of_turn=True)\n",
    "  await handle_response(session, tool_impl=execute_query)"
   ]
  },
  {
   "cell_type": "markdown",
   "id": "0d083427",
   "metadata": {
    "papermill": {
     "duration": 0.01139,
     "end_time": "2025-04-02T03:51:40.404674",
     "exception": false,
     "start_time": "2025-04-02T03:51:40.393284",
     "status": "completed"
    },
    "tags": []
   },
   "source": [
    "In the output from the previous step, you should see a `Code` section that shows code that the model generated in order to complete the task. It will look something like this:\n",
    "\n",
    "```py\n",
    "sql_statements = [ ... ]\n",
    "\n",
    "for sql in sql_statements:\n",
    "  print(default_api.execute_query(sql))\n",
    "```\n",
    "\n",
    "The model then runs this code (remotely), calling out to the provided tool when it reaches that part of the code. The `default_api` module contains the tools that you provided.\n",
    "\n",
    "This example simply executes in a loop, but the models are capable of more complex interactions with multiple tools, giving you a powerful agent framework that's effectively built in to the Gemini API."
   ]
  },
  {
   "cell_type": "markdown",
   "id": "3b4f46a7",
   "metadata": {
    "papermill": {
     "duration": 0.010389,
     "end_time": "2025-04-02T03:51:40.425556",
     "exception": false,
     "start_time": "2025-04-02T03:51:40.415167",
     "status": "completed"
    },
    "tags": []
   },
   "source": [
    "### Plotting the database\n",
    "\n",
    "Try out the built-in agent capability with the next example. You may notice the model try to guess the database schema or environment. Often the model will make mistakes, but you can look through the `Text` output and watch as the model inspects the error, tries a new approach and learns from its mistakes.\n",
    "\n",
    "If the model doesn't return a plot, try running the cell again."
   ]
  },
  {
   "cell_type": "code",
   "execution_count": 19,
   "id": "7a3647a2",
   "metadata": {
    "execution": {
     "iopub.execute_input": "2025-04-02T03:51:40.448150Z",
     "iopub.status.busy": "2025-04-02T03:51:40.447748Z",
     "iopub.status.idle": "2025-04-02T03:51:50.090565Z",
     "shell.execute_reply": "2025-04-02T03:51:50.089336Z"
    },
    "papermill": {
     "duration": 9.657035,
     "end_time": "2025-04-02T03:51:50.093021",
     "exception": false,
     "start_time": "2025-04-02T03:51:40.435986",
     "status": "completed"
    },
    "tags": []
   },
   "outputs": [
    {
     "name": "stdout",
     "output_type": "stream",
     "text": [
      "> Can you figure out the number of orders that were made by each of the staff?\n",
      "\n"
     ]
    },
    {
     "data": {
      "text/markdown": [
       "### Code\n",
       "```\n",
       "sql_query = \"SELECT name FROM sqlite_master WHERE type='table';\"\n",
       "print(default_api.execute_query(sql=sql_query))\n",
       "\n",
       "```"
      ],
      "text/plain": [
       "<IPython.core.display.Markdown object>"
      ]
     },
     "metadata": {},
     "output_type": "display_data"
    },
    {
     "data": {
      "text/markdown": [
       "### Tool call"
      ],
      "text/plain": [
       "<IPython.core.display.Markdown object>"
      ]
     },
     "metadata": {},
     "output_type": "display_data"
    },
    {
     "name": "stdout",
     "output_type": "stream",
     "text": [
      " - DB CALL: execute_query(SELECT name FROM sqlite_master WHERE type='table';)\n"
     ]
    },
    {
     "data": {
      "text/markdown": [
       "### Result: OUTCOME_OK\n",
       "```\n",
       "\"{'result': [['products'], ['sqlite_sequence'], ['staff'], ['orders']]}\\n\"\n",
       "```"
      ],
      "text/plain": [
       "<IPython.core.display.Markdown object>"
      ]
     },
     "metadata": {},
     "output_type": "display_data"
    },
    {
     "data": {
      "text/markdown": [
       "### Text"
      ],
      "text/plain": [
       "<IPython.core.display.Markdown object>"
      ]
     },
     "metadata": {},
     "output_type": "display_data"
    },
    {
     "name": "stdout",
     "output_type": "stream",
     "text": [
      "Okay, I see the tables available are `products`, `staff`, and `orders`. To figure out the number of orders made by each staff, I'll need to join the `staff` and `orders` tables, probably using a staff ID. Let's inspect the schemas of both tables.\n"
     ]
    },
    {
     "data": {
      "text/markdown": [
       "### Code\n",
       "```\n",
       "print(default_api.execute_query(sql=\"PRAGMA table_info(staff);\"))\n",
       "print(default_api.execute_query(sql=\"PRAGMA table_info(orders);\"))\n",
       "\n",
       "```"
      ],
      "text/plain": [
       "<IPython.core.display.Markdown object>"
      ]
     },
     "metadata": {},
     "output_type": "display_data"
    },
    {
     "data": {
      "text/markdown": [
       "### Tool call"
      ],
      "text/plain": [
       "<IPython.core.display.Markdown object>"
      ]
     },
     "metadata": {},
     "output_type": "display_data"
    },
    {
     "name": "stdout",
     "output_type": "stream",
     "text": [
      " - DB CALL: execute_query(PRAGMA table_info(staff);)\n"
     ]
    },
    {
     "data": {
      "text/markdown": [
       "### Tool call"
      ],
      "text/plain": [
       "<IPython.core.display.Markdown object>"
      ]
     },
     "metadata": {},
     "output_type": "display_data"
    },
    {
     "name": "stdout",
     "output_type": "stream",
     "text": [
      " - DB CALL: execute_query(PRAGMA table_info(orders);)\n"
     ]
    },
    {
     "data": {
      "text/markdown": [
       "### Result: OUTCOME_OK\n",
       "```\n",
       "(\"{'result': [[0, 'staff_id', 'INTEGER', 0, None, 1], [1, 'first_name', \"\n",
       " \"'VARCHAR(255)', 1, None, 0], [2, 'last_name', 'VARCHAR(255)', 1, None, 0]]}\\n\"\n",
       " \"{'result': [[0, 'order_id', 'INTEGER', 0, None, 1], [1, 'customer_name', \"\n",
       " \"'VARCHAR(255)', 1, None, 0], [2, 'staff_id', 'INTEGER', 1, None, 0], [3, \"\n",
       " \"'product_id', 'INTEGER', 1, None, 0]]}\\n\")\n",
       "```"
      ],
      "text/plain": [
       "<IPython.core.display.Markdown object>"
      ]
     },
     "metadata": {},
     "output_type": "display_data"
    },
    {
     "data": {
      "text/markdown": [
       "### Text"
      ],
      "text/plain": [
       "<IPython.core.display.Markdown object>"
      ]
     },
     "metadata": {},
     "output_type": "display_data"
    },
    {
     "name": "stdout",
     "output_type": "stream",
     "text": [
      "Okay, it seems like `staff` table has `staff_id`, `first_name`, and `last_name` columns, and the `orders` table has `order_id`, `customer_name`, `staff_id`, and `product_id`.  I can join these tables on `staff.staff_id = orders.staff_id`. Then I will group by `staff_id` and count the number of orders to fulfill the user request. I will also select `first_name` and `last_name` to show to the user.\n"
     ]
    },
    {
     "data": {
      "text/markdown": [
       "### Code\n",
       "```\n",
       "sql_query = \"\"\"\n",
       "SELECT\n",
       "    s.first_name,\n",
       "    s.last_name,\n",
       "    COUNT(o.order_id) AS number_of_orders\n",
       "FROM\n",
       "    staff s\n",
       "JOIN\n",
       "    orders o ON s.staff_id = o.staff_id\n",
       "GROUP BY\n",
       "    s.staff_id;\n",
       "\"\"\"\n",
       "print(default_api.execute_query(sql=sql_query))\n",
       "\n",
       "```"
      ],
      "text/plain": [
       "<IPython.core.display.Markdown object>"
      ]
     },
     "metadata": {},
     "output_type": "display_data"
    },
    {
     "data": {
      "text/markdown": [
       "### Tool call"
      ],
      "text/plain": [
       "<IPython.core.display.Markdown object>"
      ]
     },
     "metadata": {},
     "output_type": "display_data"
    },
    {
     "name": "stdout",
     "output_type": "stream",
     "text": [
      " - DB CALL: execute_query(\n",
      "SELECT\n",
      "    s.first_name,\n",
      "    s.last_name,\n",
      "    COUNT(o.order_id) AS number_of_orders\n",
      "FROM\n",
      "    staff s\n",
      "JOIN\n",
      "    orders o ON s.staff_id = o.staff_id\n",
      "GROUP BY\n",
      "    s.staff_id;\n",
      ")\n"
     ]
    },
    {
     "data": {
      "text/markdown": [
       "### Result: OUTCOME_OK\n",
       "```\n",
       "(\"{'result': [['Alice', 'Smith', 4], ['Bob', 'Johnson', 3], ['Charlie', \"\n",
       " \"'Williams', 1]]}\\n\")\n",
       "```"
      ],
      "text/plain": [
       "<IPython.core.display.Markdown object>"
      ]
     },
     "metadata": {},
     "output_type": "display_data"
    },
    {
     "data": {
      "text/markdown": [
       "### Text"
      ],
      "text/plain": [
       "<IPython.core.display.Markdown object>"
      ]
     },
     "metadata": {},
     "output_type": "display_data"
    },
    {
     "name": "stdout",
     "output_type": "stream",
     "text": [
      "Okay, it looks like:\n",
      "- Alice Smith made 4 orders.\n",
      "- Bob Johnson made 3 orders.\n",
      "- Charlie Williams made 1 order.\n",
      "\n",
      "> Plot this as a python seaborn chart for me\n",
      "\n"
     ]
    },
    {
     "data": {
      "text/markdown": [
       "### Code\n",
       "```\n",
       "import pandas as pd\n",
       "import seaborn as sns\n",
       "import matplotlib.pyplot as plt\n",
       "from io import StringIO\n",
       "\n",
       "sql_query = \"\"\"\n",
       "SELECT\n",
       "    s.first_name,\n",
       "    s.last_name,\n",
       "    COUNT(o.order_id) AS number_of_orders\n",
       "FROM\n",
       "    staff s\n",
       "JOIN\n",
       "    orders o ON s.staff_id = o.staff_id\n",
       "GROUP BY\n",
       "    s.staff_id;\n",
       "\"\"\"\n",
       "query_result = default_api.execute_query(sql=sql_query)\n",
       "df = pd.DataFrame(query_result['result'], columns=['first_name', 'last_name', 'number_of_orders'])\n",
       "df['staff_name'] = df['first_name'] + \" \" + df['last_name']\n",
       "\n",
       "plt.figure(figsize=(8, 6))\n",
       "sns.barplot(x='staff_name', y='number_of_orders', data=df)\n",
       "plt.xlabel('Staff Name')\n",
       "plt.ylabel('Number of Orders')\n",
       "plt.title('Number of Orders by Staff')\n",
       "plt.xticks(rotation=45, ha='right')\n",
       "plt.tight_layout()\n",
       "plt.show()\n",
       "\n",
       "```"
      ],
      "text/plain": [
       "<IPython.core.display.Markdown object>"
      ]
     },
     "metadata": {},
     "output_type": "display_data"
    },
    {
     "data": {
      "text/markdown": [
       "### Tool call"
      ],
      "text/plain": [
       "<IPython.core.display.Markdown object>"
      ]
     },
     "metadata": {},
     "output_type": "display_data"
    },
    {
     "name": "stdout",
     "output_type": "stream",
     "text": [
      " - DB CALL: execute_query(\n",
      "SELECT\n",
      "    s.first_name,\n",
      "    s.last_name,\n",
      "    COUNT(o.order_id) AS number_of_orders\n",
      "FROM\n",
      "    staff s\n",
      "JOIN\n",
      "    orders o ON s.staff_id = o.staff_id\n",
      "GROUP BY\n",
      "    s.staff_id;\n",
      ")\n"
     ]
    },
    {
     "data": {
      "image/png": "[encoded data removed]",
      "text/plain": [
       "<IPython.core.display.Image object>"
      ]
     },
     "metadata": {},
     "output_type": "display_data"
    },
    {
     "data": {
      "text/markdown": [
       "### Text"
      ],
      "text/plain": [
       "<IPython.core.display.Markdown object>"
      ]
     },
     "metadata": {},
     "output_type": "display_data"
    },
    {
     "name": "stdout",
     "output_type": "stream",
     "text": [
      "Okay, the bar chart showing the number of orders by each staff member has been generated and is displayed.\n",
      "\n"
     ]
    }
   ],
   "source": [
    "async with live_client.aio.live.connect(model=model, config=config) as session:\n",
    "\n",
    "  message = \"Can you figure out the number of orders that were made by each of the staff?\"\n",
    "\n",
    "  print(f\"> {message}\\n\")\n",
    "  await session.send(input=message, end_of_turn=True)\n",
    "  await handle_response(session, tool_impl=execute_query)\n",
    "\n",
    "  message = \"Plot this as a python seaborn chart for me\"\n",
    "\n",
    "  print(f\"> {message}\\n\")\n",
    "  await session.send(input=message, end_of_turn=True)\n",
    "  await handle_response(session, tool_impl=execute_query)"
   ]
  },
  {
   "cell_type": "markdown",
   "id": "fde4237d",
   "metadata": {
    "id": "8a17aeb2a3ef",
    "papermill": {
     "duration": 0.013662,
     "end_time": "2025-04-02T03:51:50.121619",
     "exception": false,
     "start_time": "2025-04-02T03:51:50.107957",
     "status": "completed"
    },
    "tags": []
   },
   "source": [
    "## Further reading\n",
    "\n",
    "To learn more about what the Gemini API can do with function calling, check out the [Function calling cookbook](https://github.com/google-gemini/cookbook/blob/main/quickstarts/Function_calling.ipynb) (see `Manual function calling` to understand how function calling works manually) as well as [Function calling config](https://github.com/google-gemini/cookbook/blob/main/quickstarts/Function_calling_config.ipynb), which gives you fine-grained control over how function calling is triggered.\n",
    "\n",
    "And stay tuned for day 4, where you will explore using function calling with grounding tools.\n",
    "\n",
    "*- [Mark McD](https://linktr.ee/markmcd)*"
   ]
  }
 ],
 "metadata": {
  "colab": {
   "name": "day-3-function-calling-with-the-gemini-api.ipynb",
   "toc_visible": true
  },
  "kaggle": {
   "accelerator": "none",
   "dataSources": [],
   "dockerImageVersionId": 30786,
   "isGpuEnabled": false,
   "isInternetEnabled": true,
   "language": "python",
   "sourceType": "notebook"
  },
  "kernelspec": {
   "display_name": "Python 3",
   "language": "python",
   "name": "python3"
  },
  "language_info": {
   "codemirror_mode": {
    "name": "ipython",
    "version": 3
   },
   "file_extension": ".py",
   "mimetype": "text/x-python",
   "name": "python",
   "nbconvert_exporter": "python",
   "pygments_lexer": "ipython3",
   "version": "3.10.14"
  },
  "papermill": {
   "default_parameters": {},
   "duration": 54.01871,
   "end_time": "2025-04-02T03:51:51.059085",
   "environment_variables": {},
   "exception": null,
   "input_path": "__notebook__.ipynb",
   "output_path": "__notebook__.ipynb",
   "parameters": {},
   "start_time": "2025-04-02T03:50:57.040375",
   "version": "2.6.0"
  }
 },
 "nbformat": 4,
 "nbformat_minor": 5
}
