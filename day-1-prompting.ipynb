{
 "cells": [
  {
   "cell_type": "markdown",
   "id": "912a873b",
   "metadata": {
    "id": "jkxRSYjzA1oX",
    "papermill": {
     "duration": 0.020672,
     "end_time": "2025-03-31T15:41:21.139861",
     "exception": false,
     "start_time": "2025-03-31T15:41:21.119189",
     "status": "completed"
    },
    "tags": []
   },
   "source": [
    "##### Copyright 2025 Google LLC."
   ]
  },
  {
   "cell_type": "code",
   "execution_count": 1,
   "id": "45740661",
   "metadata": {
    "cellView": "form",
    "execution": {
     "iopub.execute_input": "2025-03-31T15:41:21.187481Z",
     "iopub.status.busy": "2025-03-31T15:41:21.186273Z",
     "iopub.status.idle": "2025-03-31T15:41:21.195809Z",
     "shell.execute_reply": "2025-03-31T15:41:21.193874Z"
    },
    "id": "5u5OZ2ShA3BA",
    "jupyter": {
     "source_hidden": true
    },
    "papermill": {
     "duration": 0.034431,
     "end_time": "2025-03-31T15:41:21.200358",
     "exception": false,
     "start_time": "2025-03-31T15:41:21.165927",
     "status": "completed"
    },
    "tags": []
   },
   "outputs": [],
   "source": [
    "# @title Licensed under the Apache License, Version 2.0 (the \"License\");\n",
    "# you may not use this file except in compliance with the License.\n",
    "# You may obtain a copy of the License at\n",
    "#\n",
    "# https://www.apache.org/licenses/LICENSE-2.0\n",
    "#\n",
    "# Unless required by applicable law or agreed to in writing, software\n",
    "# distributed under the License is distributed on an \"AS IS\" BASIS,\n",
    "# WITHOUT WARRANTIES OR CONDITIONS OF ANY KIND, either express or implied.\n",
    "# See the License for the specific language governing permissions and\n",
    "# limitations under the License."
   ]
  },
  {
   "cell_type": "markdown",
   "id": "9329caa3",
   "metadata": {
    "id": "csNPnkuCobmG",
    "papermill": {
     "duration": 0.01392,
     "end_time": "2025-03-31T15:41:21.235621",
     "exception": false,
     "start_time": "2025-03-31T15:41:21.221701",
     "status": "completed"
    },
    "tags": []
   },
   "source": [
    "# Day 1 - Prompting\n",
    "\n",
    "Welcome to the Kaggle 5-day Generative AI course!\n",
    "\n",
    "This notebook will show you how to get started with the Gemini API and walk you through some of the example prompts and techniques that you can also read about in the Prompting whitepaper. You don't need to read the whitepaper to use this notebook, but the papers will give you some theoretical context and background to complement this interactive notebook.\n",
    "\n",
    "\n",
    "## Before you begin\n",
    "\n",
    "In this notebook, you'll start exploring prompting using the Python SDK and AI Studio. For some inspiration, you might enjoy exploring some apps that have been built using the Gemini family of models. Here are a few that we like, and we think you will too.\n",
    "\n",
    "* [TextFX](https://textfx.withgoogle.com/) is a suite of AI-powered tools for rappers, made in collaboration with Lupe Fiasco,\n",
    "* [SQL Talk](https://sql-talk-r5gdynozbq-uc.a.run.app/) shows how you can talk directly to a database using the Gemini API,\n",
    "* [NotebookLM](https://notebooklm.google/) uses Gemini models to build your own personal AI research assistant.\n",
    "\n",
    "\n",
    "## For help\n",
    "\n",
    "**Common issues are covered in the [FAQ and troubleshooting guide](https://www.kaggle.com/code/markishere/day-0-troubleshooting-and-faqs).**\n",
    "\n",
    "## New for Gemini 2.0!\n",
    "\n",
    "This course material was first launched in November 2024. The AI and LLM space is moving incredibly fast, so we have made some updates to use the latest models and capabilities.\n",
    "\n",
    "* These codelabs have been updated to use the Gemini 2.0 family of models.\n",
    "* The Python SDK has been updated from `google-generativeai` to the new, unified [`google-genai`](https://pypi.org/project/google-genai) SDK.\n",
    "  * This new SDK works with both the developer Gemini API as well as Google Cloud Vertex AI, and switching is [as simple as changing some fields](https://pypi.org/project/google-genai/#:~:text=.Client%28%29-,API%20Selection,-By%20default%2C%20the).\n",
    "* New model capabilities have been added to the relevant codelabs, such as \"thinking mode\" in this lab.\n",
    "* Day 1 includes a new [Evaluation codelab](https://www.kaggle.com/code/markishere/day-1-evaluation-and-structured-output)."
   ]
  },
  {
   "cell_type": "markdown",
   "id": "c47e175d",
   "metadata": {
    "id": "ExkOXcPxtTb5",
    "papermill": {
     "duration": 0.014568,
     "end_time": "2025-03-31T15:41:21.266971",
     "exception": false,
     "start_time": "2025-03-31T15:41:21.252403",
     "status": "completed"
    },
    "tags": []
   },
   "source": [
    "## Get started with the Gemini API\n",
    "\n",
    "All of the exercises in this notebook will use the [Gemini API](https://ai.google.dev/gemini-api/) by way of the [Python SDK](https://pypi.org/project/google-genai/). Each of these prompts can be accessed directly in [Google AI Studio](https://aistudio.google.com/) too, so if you would rather use a web interface and skip the code for this activity, look for the <img src=\"https://ai.google.dev/site-assets/images/marketing/home/icon-ais.png\" style=\"height: 24px\" height=24/> AI Studio link on each prompt."
   ]
  },
  {
   "cell_type": "markdown",
   "id": "cdcac897",
   "metadata": {
    "_kg_hide-input": true,
    "papermill": {
     "duration": 0.013503,
     "end_time": "2025-03-31T15:41:21.293969",
     "exception": false,
     "start_time": "2025-03-31T15:41:21.280466",
     "status": "completed"
    },
    "tags": []
   },
   "source": [
    "Next, you will need to add your API key to your Kaggle Notebook as a Kaggle User Secret.\n",
    "\n",
    "![](https://storage.googleapis.com/kaggle-media/Images/5dgai_1.png)\n",
    "![](https://storage.googleapis.com/kaggle-media/Images/5dgai_2.png)\n",
    "![](https://storage.googleapis.com/kaggle-media/Images/5dgai_3.png)\n",
    "![](https://storage.googleapis.com/kaggle-media/Images/5dgai_4.png)"
   ]
  },
  {
   "cell_type": "markdown",
   "id": "f092c9b8",
   "metadata": {
    "id": "UAjUV3BsvFXQ",
    "papermill": {
     "duration": 0.013317,
     "end_time": "2025-03-31T15:41:21.320944",
     "exception": false,
     "start_time": "2025-03-31T15:41:21.307627",
     "status": "completed"
    },
    "tags": []
   },
   "source": [
    "### Install the SDK"
   ]
  },
  {
   "cell_type": "code",
   "execution_count": 2,
   "id": "188ee6fb",
   "metadata": {
    "execution": {
     "iopub.execute_input": "2025-03-31T15:41:21.362343Z",
     "iopub.status.busy": "2025-03-31T15:41:21.361883Z",
     "iopub.status.idle": "2025-03-31T15:41:42.994891Z",
     "shell.execute_reply": "2025-03-31T15:41:42.993178Z"
    },
    "id": "NzwzJFU9LqkJ",
    "papermill": {
     "duration": 21.658912,
     "end_time": "2025-03-31T15:41:42.998526",
     "exception": false,
     "start_time": "2025-03-31T15:41:21.339614",
     "status": "completed"
    },
    "tags": []
   },
   "outputs": [],
   "source": [
    "!pip uninstall -qy jupyterlab  # Remove unused packages from Kaggle's base image that conflict\n",
    "!pip install -U -q \"google-genai==1.7.0\""
   ]
  },
  {
   "cell_type": "markdown",
   "id": "e914e931",
   "metadata": {
    "papermill": {
     "duration": 0.013475,
     "end_time": "2025-03-31T15:41:43.026362",
     "exception": false,
     "start_time": "2025-03-31T15:41:43.012887",
     "status": "completed"
    },
    "tags": []
   },
   "source": [
    "Import the SDK and some helpers for rendering the output."
   ]
  },
  {
   "cell_type": "code",
   "execution_count": 3,
   "id": "0bf1a41d",
   "metadata": {
    "execution": {
     "iopub.execute_input": "2025-03-31T15:41:43.060558Z",
     "iopub.status.busy": "2025-03-31T15:41:43.060062Z",
     "iopub.status.idle": "2025-03-31T15:41:44.672814Z",
     "shell.execute_reply": "2025-03-31T15:41:44.671608Z"
    },
    "id": "5DwxYIRavMST",
    "papermill": {
     "duration": 1.634268,
     "end_time": "2025-03-31T15:41:44.675695",
     "exception": false,
     "start_time": "2025-03-31T15:41:43.041427",
     "status": "completed"
    },
    "tags": []
   },
   "outputs": [],
   "source": [
    "from google import genai\n",
    "from google.genai import types\n",
    "\n",
    "from IPython.display import HTML, Markdown, display"
   ]
  },
  {
   "cell_type": "markdown",
   "id": "09ed020a",
   "metadata": {
    "papermill": {
     "duration": 0.013081,
     "end_time": "2025-03-31T15:41:44.702483",
     "exception": false,
     "start_time": "2025-03-31T15:41:44.689402",
     "status": "completed"
    },
    "tags": []
   },
   "source": [
    "Set up a retry helper. This allows you to \"Run all\" without worrying about per-minute quota."
   ]
  },
  {
   "cell_type": "code",
   "execution_count": 4,
   "id": "2f088537",
   "metadata": {
    "execution": {
     "iopub.execute_input": "2025-03-31T15:41:44.731864Z",
     "iopub.status.busy": "2025-03-31T15:41:44.731161Z",
     "iopub.status.idle": "2025-03-31T15:41:44.943215Z",
     "shell.execute_reply": "2025-03-31T15:41:44.941900Z"
    },
    "papermill": {
     "duration": 0.230685,
     "end_time": "2025-03-31T15:41:44.946591",
     "exception": false,
     "start_time": "2025-03-31T15:41:44.715906",
     "status": "completed"
    },
    "tags": []
   },
   "outputs": [],
   "source": [
    "from google.api_core import retry\n",
    "\n",
    "\n",
    "is_retriable = lambda e: (isinstance(e, genai.errors.APIError) and e.code in {429, 503})\n",
    "\n",
    "genai.models.Models.generate_content = retry.Retry(\n",
    "    predicate=is_retriable)(genai.models.Models.generate_content)"
   ]
  },
  {
   "cell_type": "markdown",
   "id": "648d4128",
   "metadata": {
    "id": "DNEt2BCOvOJ1",
    "papermill": {
     "duration": 0.013106,
     "end_time": "2025-03-31T15:41:44.974042",
     "exception": false,
     "start_time": "2025-03-31T15:41:44.960936",
     "status": "completed"
    },
    "tags": []
   },
   "source": [
    "### Set up your API key\n",
    "\n",
    "To run the following cell, your API key must be stored it in a [Kaggle secret](https://www.kaggle.com/discussions/product-feedback/114053) named `GOOGLE_API_KEY`.\n",
    "\n",
    "If you don't already have an API key, you can grab one from [AI Studio](https://aistudio.google.com/app/apikey). You can find [detailed instructions in the docs](https://ai.google.dev/gemini-api/docs/api-key).\n",
    "\n",
    "To make the key available through Kaggle secrets, choose `Secrets` from the `Add-ons` menu and follow the instructions to add your key or enable it for this notebook."
   ]
  },
  {
   "cell_type": "code",
   "execution_count": 5,
   "id": "dba2e89e",
   "metadata": {
    "execution": {
     "iopub.execute_input": "2025-03-31T15:41:45.004596Z",
     "iopub.status.busy": "2025-03-31T15:41:45.003878Z",
     "iopub.status.idle": "2025-03-31T15:41:45.154738Z",
     "shell.execute_reply": "2025-03-31T15:41:45.153308Z"
    },
    "id": "SHl0bkPCvayd",
    "papermill": {
     "duration": 0.169983,
     "end_time": "2025-03-31T15:41:45.158040",
     "exception": false,
     "start_time": "2025-03-31T15:41:44.988057",
     "status": "completed"
    },
    "tags": []
   },
   "outputs": [],
   "source": [
    "from kaggle_secrets import UserSecretsClient\n",
    "\n",
    "GOOGLE_API_KEY = UserSecretsClient().get_secret(\"GOOGLE_API_KEY\")"
   ]
  },
  {
   "attachments": {
    "d2be9aab-2527-48af-b6cf-1f06cdd7c3a7.png": {
     "image/png": "[encoded data removed]"
    }
   },
   "cell_type": "markdown",
   "id": "0e01c2ee",
   "metadata": {
    "id": "4e720472fd86",
    "papermill": {
     "duration": 0.014119,
     "end_time": "2025-03-31T15:41:45.185888",
     "exception": false,
     "start_time": "2025-03-31T15:41:45.171769",
     "status": "completed"
    },
    "tags": []
   },
   "source": [
    "If you received an error response along the lines of `No user secrets exist for kernel id ...`, then you need to add your API key via `Add-ons`, `Secrets` **and** enable it.\n",
    "\n",
    "![Screenshot of the checkbox to enable GOOGLE_API_KEY secret](https://storage.googleapis.com/kaggle-media/Images/5gdai_sc_3.png)"
   ]
  },
  {
   "cell_type": "markdown",
   "id": "1c69ba34",
   "metadata": {
    "id": "H_YXCYIKvyZJ",
    "papermill": {
     "duration": 0.012999,
     "end_time": "2025-03-31T15:41:45.212196",
     "exception": false,
     "start_time": "2025-03-31T15:41:45.199197",
     "status": "completed"
    },
    "tags": []
   },
   "source": [
    "### Run your first prompt\n",
    "\n",
    "In this step, you will test that your API key is set up correctly by making a request.\n",
    "\n",
    "The Python SDK uses a [`Client` object](https://googleapis.github.io/python-genai/genai.html#genai.client.Client) to make requests to the API. The client lets you control which back-end to use (between the Gemini API and Vertex AI) and handles authentication (the API key).\n",
    "\n",
    "The `gemini-2.0-flash` model has been selected here.\n",
    "\n",
    "**Note**: If you see a `TransportError` on this step, you may need to **🔁 Factory reset** the notebook one time."
   ]
  },
  {
   "cell_type": "code",
   "execution_count": 6,
   "id": "107c450b",
   "metadata": {
    "execution": {
     "iopub.execute_input": "2025-03-31T15:41:45.241977Z",
     "iopub.status.busy": "2025-03-31T15:41:45.241469Z",
     "iopub.status.idle": "2025-03-31T15:41:48.042937Z",
     "shell.execute_reply": "2025-03-31T15:41:48.041454Z"
    },
    "id": "BV1o0PmcvyJF",
    "papermill": {
     "duration": 2.819903,
     "end_time": "2025-03-31T15:41:48.046069",
     "exception": false,
     "start_time": "2025-03-31T15:41:45.226166",
     "status": "completed"
    },
    "tags": []
   },
   "outputs": [
    {
     "name": "stdout",
     "output_type": "stream",
     "text": [
      "Okay, imagine you have a really smart puppy. It doesn't know anything at first. But you start showing it pictures of cats and dogs, and every time you show it a dog, you say \"Dog!\" and every time it's a cat, you say \"Cat!\".\n",
      "\n",
      "After a while, the puppy starts to learn! It sees a new picture, and it can guess if it's a cat or a dog based on what you taught it.\n",
      "\n",
      "That puppy learning is kind of like AI. AI stands for Artificial Intelligence. It means making computers smart like people, so they can learn and solve problems all by themselves!\n",
      "\n",
      "Instead of pictures of cats and dogs, computers learn from HUGE amounts of information, like millions and millions of pictures, words, and sounds!\n",
      "\n",
      "**So, AI is like teaching a computer to:**\n",
      "\n",
      "*   **Learn:** Like your puppy, AI can learn from lots of examples.\n",
      "*   **Think:** It can use what it learned to figure things out.\n",
      "*   **Do things:** It can then use its \"thinking\" to do things like recognize faces, play games, or even write stories!\n",
      "\n",
      "**You use AI all the time! For example:**\n",
      "\n",
      "*   When you ask Siri or Alexa a question, that's AI figuring out what you mean.\n",
      "*   When you watch a movie and Netflix recommends another one you might like, that's AI guessing your taste!\n",
      "*   When you use a GPS to get directions, that's AI figuring out the best route!\n",
      "\n",
      "So, AI is like a super-smart computer that can learn and help us with all sorts of things! It's still new and growing, but it's already making a big difference in the world!\n",
      "\n"
     ]
    }
   ],
   "source": [
    "client = genai.Client(api_key=GOOGLE_API_KEY)\n",
    "\n",
    "response = client.models.generate_content(\n",
    "    model=\"gemini-2.0-flash\",\n",
    "    contents=\"Explain AI to me like I'm a kid.\")\n",
    "\n",
    "print(response.text)"
   ]
  },
  {
   "cell_type": "markdown",
   "id": "45a5af17",
   "metadata": {
    "id": "f60ed9d8ae41",
    "papermill": {
     "duration": 0.016498,
     "end_time": "2025-03-31T15:41:48.077070",
     "exception": false,
     "start_time": "2025-03-31T15:41:48.060572",
     "status": "completed"
    },
    "tags": []
   },
   "source": [
    "The response often comes back in markdown format, which you can render directly in this notebook."
   ]
  },
  {
   "cell_type": "code",
   "execution_count": 7,
   "id": "f2354b8b",
   "metadata": {
    "execution": {
     "iopub.execute_input": "2025-03-31T15:41:48.107241Z",
     "iopub.status.busy": "2025-03-31T15:41:48.106735Z",
     "iopub.status.idle": "2025-03-31T15:41:48.116289Z",
     "shell.execute_reply": "2025-03-31T15:41:48.114989Z"
    },
    "id": "c933e5e460a5",
    "papermill": {
     "duration": 0.027892,
     "end_time": "2025-03-31T15:41:48.118822",
     "exception": false,
     "start_time": "2025-03-31T15:41:48.090930",
     "status": "completed"
    },
    "tags": []
   },
   "outputs": [
    {
     "data": {
      "text/markdown": [
       "Okay, imagine you have a really smart puppy. It doesn't know anything at first. But you start showing it pictures of cats and dogs, and every time you show it a dog, you say \"Dog!\" and every time it's a cat, you say \"Cat!\".\n",
       "\n",
       "After a while, the puppy starts to learn! It sees a new picture, and it can guess if it's a cat or a dog based on what you taught it.\n",
       "\n",
       "That puppy learning is kind of like AI. AI stands for Artificial Intelligence. It means making computers smart like people, so they can learn and solve problems all by themselves!\n",
       "\n",
       "Instead of pictures of cats and dogs, computers learn from HUGE amounts of information, like millions and millions of pictures, words, and sounds!\n",
       "\n",
       "**So, AI is like teaching a computer to:**\n",
       "\n",
       "*   **Learn:** Like your puppy, AI can learn from lots of examples.\n",
       "*   **Think:** It can use what it learned to figure things out.\n",
       "*   **Do things:** It can then use its \"thinking\" to do things like recognize faces, play games, or even write stories!\n",
       "\n",
       "**You use AI all the time! For example:**\n",
       "\n",
       "*   When you ask Siri or Alexa a question, that's AI figuring out what you mean.\n",
       "*   When you watch a movie and Netflix recommends another one you might like, that's AI guessing your taste!\n",
       "*   When you use a GPS to get directions, that's AI figuring out the best route!\n",
       "\n",
       "So, AI is like a super-smart computer that can learn and help us with all sorts of things! It's still new and growing, but it's already making a big difference in the world!\n"
      ],
      "text/plain": [
       "<IPython.core.display.Markdown object>"
      ]
     },
     "execution_count": 7,
     "metadata": {},
     "output_type": "execute_result"
    }
   ],
   "source": [
    "Markdown(response.text)"
   ]
  },
  {
   "cell_type": "markdown",
   "id": "5e443fa1",
   "metadata": {
    "id": "byx0pT9ZMW2Q",
    "papermill": {
     "duration": 0.013876,
     "end_time": "2025-03-31T15:41:48.147259",
     "exception": false,
     "start_time": "2025-03-31T15:41:48.133383",
     "status": "completed"
    },
    "tags": []
   },
   "source": [
    "### Start a chat\n",
    "\n",
    "The previous example uses a single-turn, text-in/text-out structure, but you can also set up a multi-turn chat structure too."
   ]
  },
  {
   "cell_type": "code",
   "execution_count": 8,
   "id": "99e29e1b",
   "metadata": {
    "execution": {
     "iopub.execute_input": "2025-03-31T15:41:48.178979Z",
     "iopub.status.busy": "2025-03-31T15:41:48.178480Z",
     "iopub.status.idle": "2025-03-31T15:41:48.572088Z",
     "shell.execute_reply": "2025-03-31T15:41:48.570476Z"
    },
    "id": "lV_S5ZL5MidD",
    "papermill": {
     "duration": 0.413015,
     "end_time": "2025-03-31T15:41:48.575559",
     "exception": false,
     "start_time": "2025-03-31T15:41:48.162544",
     "status": "completed"
    },
    "tags": []
   },
   "outputs": [
    {
     "name": "stdout",
     "output_type": "stream",
     "text": [
      "Greetings, Zlork! It's a pleasure to meet you. How can I help you today?\n",
      "\n"
     ]
    }
   ],
   "source": [
    "chat = client.chats.create(model='gemini-2.0-flash', history=[])\n",
    "response = chat.send_message('Hello! My name is Zlork.')\n",
    "print(response.text)"
   ]
  },
  {
   "cell_type": "code",
   "execution_count": 9,
   "id": "62020541",
   "metadata": {
    "execution": {
     "iopub.execute_input": "2025-03-31T15:41:48.607107Z",
     "iopub.status.busy": "2025-03-31T15:41:48.605576Z",
     "iopub.status.idle": "2025-03-31T15:41:49.887942Z",
     "shell.execute_reply": "2025-03-31T15:41:49.886606Z"
    },
    "id": "7b0372c3c64a",
    "papermill": {
     "duration": 1.301566,
     "end_time": "2025-03-31T15:41:49.891247",
     "exception": false,
     "start_time": "2025-03-31T15:41:48.589681",
     "status": "completed"
    },
    "tags": []
   },
   "outputs": [
    {
     "name": "stdout",
     "output_type": "stream",
     "text": [
      "Okay, here's something interesting about dinosaurs:\n",
      "\n",
      "**Some dinosaurs, like the Ornithomimus, were likely omnivores with a penchant for eating eggs, including their own!**\n",
      "\n",
      "While Ornithomimus (meaning \"bird mimic\") was long thought to be a purely herbivorous dinosaur due to its beak-like mouth, recent analysis of fossilized Ornithomimus skeletons has shown evidence of a diverse diet. Bone analysis revealed the presence of nitrogen isotopes associated with consuming meat or eggs. Since they were likely fast and agile, they probably snacked on insects, small animals, and...yes...even other dinosaur eggs. This highlights the fascinating complexity of the dinosaur food web and the fact that our understanding of their diets is constantly evolving.\n",
      "\n"
     ]
    }
   ],
   "source": [
    "response = chat.send_message('Can you tell me something interesting about dinosaurs?')\n",
    "print(response.text)"
   ]
  },
  {
   "cell_type": "markdown",
   "id": "fb96d6f9",
   "metadata": {
    "papermill": {
     "duration": 0.014691,
     "end_time": "2025-03-31T15:41:49.921966",
     "exception": false,
     "start_time": "2025-03-31T15:41:49.907275",
     "status": "completed"
    },
    "tags": []
   },
   "source": [
    "While you have the `chat` object alive, the conversation state\n",
    "persists. Confirm that by asking if it knows the user's name."
   ]
  },
  {
   "cell_type": "code",
   "execution_count": 10,
   "id": "caa007ec",
   "metadata": {
    "execution": {
     "iopub.execute_input": "2025-03-31T15:41:49.952368Z",
     "iopub.status.busy": "2025-03-31T15:41:49.951879Z",
     "iopub.status.idle": "2025-03-31T15:41:50.343023Z",
     "shell.execute_reply": "2025-03-31T15:41:50.341436Z"
    },
    "id": "d3f9591392a7",
    "papermill": {
     "duration": 0.40993,
     "end_time": "2025-03-31T15:41:50.346011",
     "exception": false,
     "start_time": "2025-03-31T15:41:49.936081",
     "status": "completed"
    },
    "tags": []
   },
   "outputs": [
    {
     "name": "stdout",
     "output_type": "stream",
     "text": [
      "Yes, your name is Zlork.\n",
      "\n"
     ]
    }
   ],
   "source": [
    "response = chat.send_message('Do you remember what my name is?')\n",
    "print(response.text)"
   ]
  },
  {
   "cell_type": "markdown",
   "id": "371b152e",
   "metadata": {
    "id": "2KAjpr1200sW",
    "papermill": {
     "duration": 0.013506,
     "end_time": "2025-03-31T15:41:50.374450",
     "exception": false,
     "start_time": "2025-03-31T15:41:50.360944",
     "status": "completed"
    },
    "tags": []
   },
   "source": [
    "### Choose a model\n",
    "\n",
    "The Gemini API provides access to a number of models from the Gemini model family. Read about the available models and their capabilities on the [model overview page](https://ai.google.dev/gemini-api/docs/models/gemini).\n",
    "\n",
    "In this step you'll use the API to list all of the available models."
   ]
  },
  {
   "cell_type": "code",
   "execution_count": 11,
   "id": "a0f555dd",
   "metadata": {
    "execution": {
     "iopub.execute_input": "2025-03-31T15:41:50.405602Z",
     "iopub.status.busy": "2025-03-31T15:41:50.405063Z",
     "iopub.status.idle": "2025-03-31T15:41:50.472513Z",
     "shell.execute_reply": "2025-03-31T15:41:50.470970Z"
    },
    "id": "uUUZa2uq2jDm",
    "papermill": {
     "duration": 0.08711,
     "end_time": "2025-03-31T15:41:50.475590",
     "exception": false,
     "start_time": "2025-03-31T15:41:50.388480",
     "status": "completed"
    },
    "tags": []
   },
   "outputs": [
    {
     "name": "stdout",
     "output_type": "stream",
     "text": [
      "models/chat-bison-001\n",
      "models/text-bison-001\n",
      "models/embedding-gecko-001\n",
      "models/gemini-1.0-pro-vision-latest\n",
      "models/gemini-pro-vision\n",
      "models/gemini-1.5-pro-latest\n",
      "models/gemini-1.5-pro-001\n",
      "models/gemini-1.5-pro-002\n",
      "models/gemini-1.5-pro\n",
      "models/gemini-1.5-flash-latest\n",
      "models/gemini-1.5-flash-001\n",
      "models/gemini-1.5-flash-001-tuning\n",
      "models/gemini-1.5-flash\n",
      "models/gemini-1.5-flash-002\n",
      "models/gemini-1.5-flash-8b\n",
      "models/gemini-1.5-flash-8b-001\n",
      "models/gemini-1.5-flash-8b-latest\n",
      "models/gemini-1.5-flash-8b-exp-0827\n",
      "models/gemini-1.5-flash-8b-exp-0924\n",
      "models/gemini-2.5-pro-exp-03-25\n",
      "models/gemini-2.0-flash-exp\n",
      "models/gemini-2.0-flash\n",
      "models/gemini-2.0-flash-001\n",
      "models/gemini-2.0-flash-exp-image-generation\n",
      "models/gemini-2.0-flash-lite-001\n",
      "models/gemini-2.0-flash-lite\n",
      "models/gemini-2.0-flash-lite-preview-02-05\n",
      "models/gemini-2.0-flash-lite-preview\n",
      "models/gemini-2.0-pro-exp\n",
      "models/gemini-2.0-pro-exp-02-05\n",
      "models/gemini-exp-1206\n",
      "models/gemini-2.0-flash-thinking-exp-01-21\n",
      "models/gemini-2.0-flash-thinking-exp\n",
      "models/gemini-2.0-flash-thinking-exp-1219\n",
      "models/learnlm-1.5-pro-experimental\n",
      "models/gemma-3-27b-it\n",
      "models/embedding-001\n",
      "models/text-embedding-004\n",
      "models/gemini-embedding-exp-03-07\n",
      "models/gemini-embedding-exp\n",
      "models/aqa\n",
      "models/imagen-3.0-generate-002\n"
     ]
    }
   ],
   "source": [
    "for model in client.models.list():\n",
    "  print(model.name)"
   ]
  },
  {
   "cell_type": "markdown",
   "id": "9bb7c46e",
   "metadata": {
    "id": "rN49kSI54R1v",
    "papermill": {
     "duration": 0.013729,
     "end_time": "2025-03-31T15:41:50.503831",
     "exception": false,
     "start_time": "2025-03-31T15:41:50.490102",
     "status": "completed"
    },
    "tags": []
   },
   "source": [
    "The [`models.list`](https://ai.google.dev/api/models#method:-models.list) response also returns additional information about the model's capabilities, like the token limits and supported parameters."
   ]
  },
  {
   "cell_type": "code",
   "execution_count": 12,
   "id": "91361e19",
   "metadata": {
    "execution": {
     "iopub.execute_input": "2025-03-31T15:41:50.535943Z",
     "iopub.status.busy": "2025-03-31T15:41:50.534556Z",
     "iopub.status.idle": "2025-03-31T15:41:50.642874Z",
     "shell.execute_reply": "2025-03-31T15:41:50.641373Z"
    },
    "id": "k7JJ1K6j4Rl8",
    "papermill": {
     "duration": 0.128113,
     "end_time": "2025-03-31T15:41:50.645982",
     "exception": false,
     "start_time": "2025-03-31T15:41:50.517869",
     "status": "completed"
    },
    "tags": []
   },
   "outputs": [
    {
     "name": "stdout",
     "output_type": "stream",
     "text": [
      "{'description': 'Gemini 2.0 Flash',\n",
      " 'display_name': 'Gemini 2.0 Flash',\n",
      " 'input_token_limit': 1048576,\n",
      " 'name': 'models/gemini-2.0-flash',\n",
      " 'output_token_limit': 8192,\n",
      " 'supported_actions': ['generateContent', 'countTokens'],\n",
      " 'tuned_model_info': {},\n",
      " 'version': '2.0'}\n"
     ]
    }
   ],
   "source": [
    "from pprint import pprint\n",
    "\n",
    "for model in client.models.list():\n",
    "  if model.name == 'models/gemini-2.0-flash':\n",
    "    pprint(model.to_json_dict())\n",
    "    break"
   ]
  },
  {
   "cell_type": "markdown",
   "id": "b9267884",
   "metadata": {
    "id": "5rU_UBlZdooM",
    "papermill": {
     "duration": 0.013911,
     "end_time": "2025-03-31T15:41:50.674407",
     "exception": false,
     "start_time": "2025-03-31T15:41:50.660496",
     "status": "completed"
    },
    "tags": []
   },
   "source": [
    "## Explore generation parameters\n",
    "\n"
   ]
  },
  {
   "cell_type": "markdown",
   "id": "8122ca0b",
   "metadata": {
    "id": "G7NfEizeipbW",
    "papermill": {
     "duration": 0.013984,
     "end_time": "2025-03-31T15:41:50.702560",
     "exception": false,
     "start_time": "2025-03-31T15:41:50.688576",
     "status": "completed"
    },
    "tags": []
   },
   "source": [
    "### Output length\n",
    "\n",
    "When generating text with an LLM, the output length affects cost and performance. Generating more tokens increases computation, leading to higher energy consumption, latency, and cost.\n",
    "\n",
    "To stop the model from generating tokens past a limit, you can specify the `max_output_tokens` parameter when using the Gemini API. Specifying this parameter does not influence the generation of the output tokens, so the output will not become more stylistically or textually succinct, but it will stop generating tokens once the specified length is reached. Prompt engineering may be required to generate a more complete output for your given limit."
   ]
  },
  {
   "cell_type": "code",
   "execution_count": 13,
   "id": "5363764f",
   "metadata": {
    "execution": {
     "iopub.execute_input": "2025-03-31T15:41:50.733409Z",
     "iopub.status.busy": "2025-03-31T15:41:50.732915Z",
     "iopub.status.idle": "2025-03-31T15:41:52.295572Z",
     "shell.execute_reply": "2025-03-31T15:41:52.294255Z"
    },
    "id": "qVf23JsIi9ma",
    "papermill": {
     "duration": 1.581071,
     "end_time": "2025-03-31T15:41:52.298186",
     "exception": false,
     "start_time": "2025-03-31T15:41:50.717115",
     "status": "completed"
    },
    "tags": []
   },
   "outputs": [
    {
     "data": {
      "text/markdown": [
       "## The Humble Olive: A Cornerstone of Modern Society\n",
       "\n",
       "The olive, a seemingly simple fruit, boasts a legacy far richer and more complex than its unassuming appearance suggests.  From its ancient roots in the Mediterranean Basin to its ubiquitous presence on modern tables, the olive and its myriad derivatives have permeated cultures, economies, and lifestyles across the globe. While often taken for granted, the olive’s importance in modern society extends far beyond its culinary appeal, touching upon economic stability, health and wellness, and even contributing to cultural identity and environmental sustainability.  Understanding the multifaceted role of the olive reveals its undeniable significance in shaping the world we live in.\n",
       "\n",
       "One of the most readily apparent aspects of the olive's importance lies in its profound economic impact. Olive oil, the liquid gold extracted from the fruit, is a cornerstone of numerous economies, particularly in the Mediterranean region.  Countries like Spain, Italy, Greece, and Tunisia are significant producers, relying heavily on olive cultivation and processing for employment and export revenue"
      ],
      "text/plain": [
       "<IPython.core.display.Markdown object>"
      ]
     },
     "execution_count": 13,
     "metadata": {},
     "output_type": "execute_result"
    }
   ],
   "source": [
    "from google.genai import types\n",
    "\n",
    "short_config = types.GenerateContentConfig(max_output_tokens=200)\n",
    "\n",
    "response = client.models.generate_content(\n",
    "    model='gemini-2.0-flash',\n",
    "    config=short_config,\n",
    "    contents='Write a 1000 word essay on the importance of olives in modern society.')\n",
    "\n",
    "Markdown(response.text)"
   ]
  },
  {
   "cell_type": "code",
   "execution_count": 14,
   "id": "f0b60ffc",
   "metadata": {
    "execution": {
     "iopub.execute_input": "2025-03-31T15:41:52.330472Z",
     "iopub.status.busy": "2025-03-31T15:41:52.329202Z",
     "iopub.status.idle": "2025-03-31T15:41:53.473787Z",
     "shell.execute_reply": "2025-03-31T15:41:53.472225Z"
    },
    "id": "W-3kR2F5kdMR",
    "papermill": {
     "duration": 1.1641,
     "end_time": "2025-03-31T15:41:53.477048",
     "exception": false,
     "start_time": "2025-03-31T15:41:52.312948",
     "status": "completed"
    },
    "tags": []
   },
   "outputs": [
    {
     "data": {
      "text/markdown": [
       "From groves of green to tables spread,\n",
       "A tiny fruit, a story read.\n",
       "In oil that gleams, a flavor bright,\n",
       "On pizzas piled, a welcome sight.\n",
       "\n",
       "A tapenade, a salty treat,\n",
       "Mediterranean sun, can't be beat.\n",
       "From cocktails stirred to salads tossed,\n",
       "The humble olive, never lost.\n",
       "\n",
       "A symbol old, of peace and grace,\n",
       "Still holds its own in time and space.\n",
       "A modern staple, small and bold,\n",
       "A taste of history, to have and hold.\n"
      ],
      "text/plain": [
       "<IPython.core.display.Markdown object>"
      ]
     },
     "execution_count": 14,
     "metadata": {},
     "output_type": "execute_result"
    }
   ],
   "source": [
    "response = client.models.generate_content(\n",
    "    model='gemini-2.0-flash',\n",
    "    config=short_config,\n",
    "    contents='Write a short poem on the importance of olives in modern society.')\n",
    "\n",
    "Markdown(response.text)"
   ]
  },
  {
   "cell_type": "code",
   "execution_count": 15,
   "id": "ae4dc223",
   "metadata": {
    "execution": {
     "iopub.execute_input": "2025-03-31T15:41:53.510526Z",
     "iopub.status.busy": "2025-03-31T15:41:53.510060Z",
     "iopub.status.idle": "2025-03-31T15:41:55.053935Z",
     "shell.execute_reply": "2025-03-31T15:41:55.052701Z"
    },
    "papermill": {
     "duration": 1.563536,
     "end_time": "2025-03-31T15:41:55.056561",
     "exception": false,
     "start_time": "2025-03-31T15:41:53.493025",
     "status": "completed"
    },
    "tags": []
   },
   "outputs": [
    {
     "data": {
      "text/markdown": [
       "## Rocky IX: The Final Round\n",
       "\n",
       "**Logline:** Years after retiring from boxing and battling his demons, a grief-stricken and aging Rocky Balboa mentors a young, talented but troubled female boxer who is haunted by the death of her own family. Together, they find solace and strength in each other, battling not just opponents in the ring but also the ghosts of their pasts.\n",
       "\n",
       "**Characters:**\n",
       "\n",
       "*   **Rocky Balboa (78):** Aging, wise, still carries the weight of past losses, but retains his indomitable spirit.\n",
       "*   **Adriana \"Ari\" Vargas (25):** A gifted but emotionally scarred boxer with raw talent and a fierce determination.\n",
       "*   **Marco Vargas (50s):** Ari's uncle and reluctant guardian, a former amateur boxer who fears for her safety.\n",
       "*   **Tommy \"The Wrecking Ball\" Hayes (30s):** A dominant, arrogant, and ruthless champion"
      ],
      "text/plain": [
       "<IPython.core.display.Markdown object>"
      ]
     },
     "execution_count": 15,
     "metadata": {},
     "output_type": "execute_result"
    }
   ],
   "source": [
    "response = client.models.generate_content(\n",
    "    model='gemini-2.0-flash',\n",
    "    config=short_config,\n",
    "    contents='Write a full script for the movie Rocky IX.')\n",
    "\n",
    "Markdown(response.text)"
   ]
  },
  {
   "cell_type": "code",
   "execution_count": 16,
   "id": "0c8ee525",
   "metadata": {
    "execution": {
     "iopub.execute_input": "2025-03-31T15:41:55.090599Z",
     "iopub.status.busy": "2025-03-31T15:41:55.090123Z",
     "iopub.status.idle": "2025-03-31T15:41:56.235237Z",
     "shell.execute_reply": "2025-03-31T15:41:56.233952Z"
    },
    "papermill": {
     "duration": 1.166585,
     "end_time": "2025-03-31T15:41:56.237886",
     "exception": false,
     "start_time": "2025-03-31T15:41:55.071301",
     "status": "completed"
    },
    "tags": []
   },
   "outputs": [
    {
     "data": {
      "text/markdown": [
       "Young Rocky Balboa is a small-time, struggling Italian-American boxer from the streets of Philadelphia. In his late 20s, he scrapes by as a debt collector for a local loan shark, yearning for more than his meager existence. While his boxing career has stalled, fighting in dingy clubs for little money and even less respect, he still clings to the hope of proving himself and escaping his dead-end life. Though rough around the edges and seemingly directionless, beneath his tough exterior lies a good heart, a sharp wit, and an unwavering determination to make something of himself, even if it's just to go the distance.\n"
      ],
      "text/plain": [
       "<IPython.core.display.Markdown object>"
      ]
     },
     "execution_count": 16,
     "metadata": {},
     "output_type": "execute_result"
    }
   ],
   "source": [
    "response = client.models.generate_content(\n",
    "    model='gemini-2.0-flash',\n",
    "    config=short_config,\n",
    "    contents='Write a short description of young poor Rocky Balboa')\n",
    "\n",
    "Markdown(response.text)"
   ]
  },
  {
   "cell_type": "markdown",
   "id": "f19aff37",
   "metadata": {
    "id": "3ZhDSLB6lqqB",
    "papermill": {
     "duration": 0.014553,
     "end_time": "2025-03-31T15:41:56.267310",
     "exception": false,
     "start_time": "2025-03-31T15:41:56.252757",
     "status": "completed"
    },
    "tags": []
   },
   "source": [
    "Explore with your own prompts. Try a prompt with a restrictive output limit and then adjust the prompt to work within that limit."
   ]
  },
  {
   "cell_type": "markdown",
   "id": "ffc64c3c",
   "metadata": {
    "id": "alx-WaAvir_9",
    "papermill": {
     "duration": 0.01544,
     "end_time": "2025-03-31T15:41:56.297725",
     "exception": false,
     "start_time": "2025-03-31T15:41:56.282285",
     "status": "completed"
    },
    "tags": []
   },
   "source": [
    "### Temperature\n",
    "\n",
    "Temperature controls the degree of randomness in token selection. Higher temperatures result in a higher number of candidate tokens from which the next output token is selected, and can produce more diverse results, while lower temperatures have the opposite effect, such that a temperature of 0 results in greedy decoding, selecting the most probable token at each step.\n",
    "\n",
    "Temperature doesn't provide any guarantees of randomness, but it can be used to \"nudge\" the output somewhat."
   ]
  },
  {
   "cell_type": "code",
   "execution_count": 17,
   "id": "d3238a71",
   "metadata": {
    "execution": {
     "iopub.execute_input": "2025-03-31T15:41:56.330430Z",
     "iopub.status.busy": "2025-03-31T15:41:56.329449Z",
     "iopub.status.idle": "2025-03-31T15:41:58.219534Z",
     "shell.execute_reply": "2025-03-31T15:41:58.218210Z"
    },
    "id": "SHraGMzqnZqt",
    "papermill": {
     "duration": 1.909445,
     "end_time": "2025-03-31T15:41:58.222284",
     "exception": false,
     "start_time": "2025-03-31T15:41:56.312839",
     "status": "completed"
    },
    "tags": []
   },
   "outputs": [
    {
     "name": "stdout",
     "output_type": "stream",
     "text": [
      "Mauve.\n",
      " -------------------------\n",
      "Azure\n",
      " -------------------------\n",
      "Magenta\n",
      " -------------------------\n",
      "Azure\n",
      " -------------------------\n",
      "Teal\n",
      " -------------------------\n"
     ]
    }
   ],
   "source": [
    "high_temp_config = types.GenerateContentConfig(temperature=2.0)\n",
    "\n",
    "\n",
    "for _ in range(5):\n",
    "  response = client.models.generate_content(\n",
    "      model='gemini-2.0-flash',\n",
    "      config=high_temp_config,\n",
    "      contents='Pick a random colour... (respond in a single word)')\n",
    "\n",
    "  if response.text:\n",
    "    print(response.text, '-' * 25)"
   ]
  },
  {
   "cell_type": "markdown",
   "id": "9026bba4",
   "metadata": {
    "id": "z3J4pCTuof7e",
    "papermill": {
     "duration": 0.014806,
     "end_time": "2025-03-31T15:41:58.252264",
     "exception": false,
     "start_time": "2025-03-31T15:41:58.237458",
     "status": "completed"
    },
    "tags": []
   },
   "source": [
    "Now try the same prompt with temperature set to zero. Note that the output is not completely deterministic, as other parameters affect token selection, but the results will tend to be more stable."
   ]
  },
  {
   "cell_type": "code",
   "execution_count": 18,
   "id": "3c09b849",
   "metadata": {
    "execution": {
     "iopub.execute_input": "2025-03-31T15:41:58.284369Z",
     "iopub.status.busy": "2025-03-31T15:41:58.283912Z",
     "iopub.status.idle": "2025-03-31T15:42:11.366815Z",
     "shell.execute_reply": "2025-03-31T15:42:11.365223Z"
    },
    "id": "clymkWv-PfUZ",
    "papermill": {
     "duration": 13.102503,
     "end_time": "2025-03-31T15:42:11.369733",
     "exception": false,
     "start_time": "2025-03-31T15:41:58.267230",
     "status": "completed"
    },
    "tags": []
   },
   "outputs": [
    {
     "name": "stdout",
     "output_type": "stream",
     "text": [
      "Azure\n",
      " -------------------------\n",
      "Azure\n",
      " -------------------------\n",
      "Azure\n",
      " -------------------------\n",
      "Azure\n",
      " -------------------------\n",
      "Azure\n",
      " -------------------------\n"
     ]
    }
   ],
   "source": [
    "low_temp_config = types.GenerateContentConfig(temperature=0.0)\n",
    "\n",
    "for _ in range(5):\n",
    "  response = client.models.generate_content(\n",
    "      model='gemini-2.0-flash',\n",
    "      config=low_temp_config,\n",
    "      contents='Pick a random colour... (respond in a single word)')\n",
    "\n",
    "  if response.text:\n",
    "    print(response.text, '-' * 25)"
   ]
  },
  {
   "cell_type": "markdown",
   "id": "90aa1b46",
   "metadata": {
    "id": "St5nt3vzitsZ",
    "papermill": {
     "duration": 0.017355,
     "end_time": "2025-03-31T15:42:11.402785",
     "exception": false,
     "start_time": "2025-03-31T15:42:11.385430",
     "status": "completed"
    },
    "tags": []
   },
   "source": [
    "### Top-P\n",
    "\n",
    "Like temperature, the top-P parameter is also used to control the diversity of the model's output.\n",
    "\n",
    "Top-P defines the probability threshold that, once cumulatively exceeded, tokens stop being selected as candidates. A top-P of 0 is typically equivalent to greedy decoding, and a top-P of 1 typically selects every token in the model's vocabulary.\n",
    "\n",
    "You may also see top-K referenced in LLM literature. Top-K is not configurable in the Gemini 2.0 series of models, but can be changed in older models. Top-K is a positive integer that defines the number of most probable tokens from which to select the output token. A top-K of 1 selects a single token, performing greedy decoding.\n",
    "\n",
    "\n",
    "Run this example a number of times, change the settings and observe the change in output."
   ]
  },
  {
   "cell_type": "code",
   "execution_count": 19,
   "id": "06852539",
   "metadata": {
    "execution": {
     "iopub.execute_input": "2025-03-31T15:42:11.436505Z",
     "iopub.status.busy": "2025-03-31T15:42:11.436005Z",
     "iopub.status.idle": "2025-03-31T15:42:16.341415Z",
     "shell.execute_reply": "2025-03-31T15:42:16.340191Z"
    },
    "id": "lPlzpEavUV8F",
    "papermill": {
     "duration": 4.927561,
     "end_time": "2025-03-31T15:42:16.345985",
     "exception": false,
     "start_time": "2025-03-31T15:42:11.418424",
     "status": "completed"
    },
    "tags": []
   },
   "outputs": [
    {
     "name": "stdout",
     "output_type": "stream",
     "text": [
      "Jasper was no ordinary cat. While his brethren dozed in sunbeams and batted at dust bunnies, Jasper dreamt of faraway lands, of towering mountains and shimmering oceans. He devoured, or rather, sniffed attentively, the National Geographic magazines that Mrs. Higgins, his owner, left scattered on the coffee table. He yearned for more than the bland beige of his suburban life.\n",
      "\n",
      "One Tuesday morning, fueled by a particularly vivid dream involving a field of catnip the size of a football stadium, Jasper decided he’d had enough. He waited until Mrs. Higgins was distracted by a phone call and, with a flick of his tail and a silent prayer to the Great Cat Spirit, he slipped out the back door.\n",
      "\n",
      "The world exploded with new sensations. The sharp scent of damp earth, the chirping cacophony of unseen birds, the terrifying rumble of passing cars – it was overwhelming and intoxicating. He followed a winding path through overgrown hedges, his emerald eyes wide with wonder.\n",
      "\n",
      "His journey led him to a bustling park, a chaotic tapestry of picnics, Frisbees, and screaming children. Jasper, usually a creature of quiet contemplation, found himself dodging rogue soccer balls and scampering under picnic blankets. He even had a brief but intense staring contest with a squirrel, which he promptly lost.\n",
      "\n",
      "Exhausted and slightly traumatized, Jasper retreated to a secluded corner under a giant oak tree. There, he discovered a community of feral cats. They were scruffy and streetwise, a far cry from the pampered existence he knew. Initially, they eyed him with suspicion. His pristine fur and plump belly screamed \"spoiled house cat.\"\n",
      "\n",
      "But Jasper, fueled by his desire for adventure, proved himself. He shared the half-eaten tuna sandwich he’d managed to pilfer from a discarded lunchbox. He even bravely defended a timid kitten from a grumpy, one-eyed tomcat, fluffing his tail to twice its size and hissing like a tiny, furry dragon.\n",
      "\n",
      "He learned to hunt, not for sport, but for survival. He learned to navigate the treacherous streets, dodging cars and conniving dogs. He learned to read the language of the alleyways, the subtle shifts in mood and the unspoken rules of the feral feline kingdom.\n",
      "\n",
      "After a week of hard living, Jasper began to miss the familiar comfort of Mrs. Higgins' lap, the gentle rhythm of purrs exchanged in the quiet evening. The catnip football field had lost its allure. He longed for the predictability of his beige existence.\n",
      "\n",
      "He returned home late one night, a little thinner, a little dirtier, but undeniably wiser. He scratched at the back door, and Mrs. Higgins, frantic with worry, scooped him up in a hug, burying her face in his surprisingly matted fur.\n",
      "\n",
      "He ate a double portion of his favorite salmon pate, curled up on his usual spot on the sofa, and drifted off to sleep, the memory of his adventure swirling in his dreams.\n",
      "\n",
      "Jasper never left again. He still devoured Mrs. Higgins' National Geographic magazines, but now, he knew the stories they held weren't just pictures on glossy pages. He had tasted adventure, felt the bite of freedom, and learned that sometimes, the greatest adventures are the ones that lead you back home. He was, after all, still a cat, and there was nothing quite like a warm lap and a good nap. But now, his purrs held a different depth, a hint of the wild and a whisper of the stories he now knew. And every now and then, he would catch a glimpse of that catnip football field in his dreams, a secret reminder of the time he dared to chase his own adventure.\n",
      "\n"
     ]
    }
   ],
   "source": [
    "model_config = types.GenerateContentConfig(\n",
    "    # These are the default values for gemini-2.0-flash.\n",
    "    temperature=1.0,\n",
    "    top_p=0.95,\n",
    ")\n",
    "\n",
    "story_prompt = \"You are a creative writer. Write a short story about a cat who goes on an adventure.\"\n",
    "response = client.models.generate_content(\n",
    "    model='gemini-2.0-flash',\n",
    "    config=model_config,\n",
    "    contents=story_prompt)\n",
    "\n",
    "print(response.text)"
   ]
  },
  {
   "cell_type": "code",
   "execution_count": 20,
   "id": "581fdbf1",
   "metadata": {
    "execution": {
     "iopub.execute_input": "2025-03-31T15:42:16.384100Z",
     "iopub.status.busy": "2025-03-31T15:42:16.383524Z",
     "iopub.status.idle": "2025-03-31T15:42:20.560952Z",
     "shell.execute_reply": "2025-03-31T15:42:20.559478Z"
    },
    "papermill": {
     "duration": 4.199202,
     "end_time": "2025-03-31T15:42:20.564073",
     "exception": false,
     "start_time": "2025-03-31T15:42:16.364871",
     "status": "completed"
    },
    "tags": []
   },
   "outputs": [
    {
     "name": "stdout",
     "output_type": "stream",
     "text": [
      "Mittens, a calico of magnificent disdain, decided she was over it. The velvet cushion had become a sentence, the sunbeam a tired performance, and Thomas from next door, his relentless preening insufferable. She craved paprika smells, precarious branches, the kind of thrills that made your whiskers vibrate. Today, her grand purrivate adventure would commence.\n",
      "\n",
      "Thus motivated, she slipped out a not nearly a tall enough crack where the kitchen screened ddoor had warped and stalk down out of back yard through neighborhood and slipped out onto neighborhood's backstreets. The first hurdle was the dread highway underpass below the overpass street she had come from, black mouths. From the corner store, a dizzying swirl and she would slip passed traffic. \n",
      "\n",
      "With this resolved like a plan ( Mitten disliked the name like that that sound of planning.), ,\n",
      "\n",
      "Then ,\n",
      "\n",
      "One hot afternoon , passing an antique house under shady oak grove was . Mittens watched at house corner, old wrought-iron swing,\n",
      "\n",
      "Sipping milk with sugar off antique lady shoes beside a puddle was Mr Mitt’ns\n",
      ".\n",
      "\n",
      "Mr-Mittelns greeted hello in soft sing from cat lips the Mittz herself were unused- familiar tones. -”you must find The Glowing Grove… behind those whispering walls…. Follow stream…find little owl…..”\n",
      "\n",
      "Hes hesitated;\n",
      ", His milky chin bobbd for, then whispered out . “… be VERYWARE!!!…”\n",
      "\n",
      "Ths left new energy stirred from Mitten She moved past tall grasses through into whispering forest where filtered dapplle was the of trees around cool with light. S\n",
      "he waddeled creek till stumbled little screech Owl perched on willow limb !\n",
      "\n",
      "The young Owl flinche then shook, as h he did speak low with his shrill little ting..” THE Glowing’s. the dangerous but if what-your worthy…..give something very special.”’\n",
      "..…\n",
      "\n",
      "Mitters paused took deep inside the breath: THE decision what that glowy glow must become to get!\n",
      "\n",
      "And Mittins thought- very that what that it , precious had this moment here! With steady eyes she gave purt by softly the, just best the purest she possibly, with Mittins herself. ;. That .purr grew filled surrounding every the, til air , til-silently , at sound finished completely… a soft, shimmering gate arose of! vines vines vines vines to open the glowing gl. glow..\n",
      ". !… With a. leap and trust Mittems leapt inside glowing to begin further, wild adventure. A paprika whiff of it a moment, be fore vines close to her, leaving no sight for out of forest and leaving. Only whisper. Of wild cats whisperin!\n"
     ]
    }
   ],
   "source": [
    "model_config = types.GenerateContentConfig(\n",
    "    # These are the default values for gemini-2.0-flash.\n",
    "    temperature=2.0,\n",
    "    top_p=1.0,\n",
    ")\n",
    "\n",
    "story_prompt = \"You are a creative writer. Write a short story about a cat who goes on an adventure.\"\n",
    "response = client.models.generate_content(\n",
    "    model='gemini-2.0-flash',\n",
    "    config=model_config,\n",
    "    contents=story_prompt)\n",
    "\n",
    "print(response.text)"
   ]
  },
  {
   "cell_type": "code",
   "execution_count": 21,
   "id": "dc429357",
   "metadata": {
    "execution": {
     "iopub.execute_input": "2025-03-31T15:42:20.597915Z",
     "iopub.status.busy": "2025-03-31T15:42:20.596784Z",
     "iopub.status.idle": "2025-03-31T15:42:25.130337Z",
     "shell.execute_reply": "2025-03-31T15:42:25.128986Z"
    },
    "papermill": {
     "duration": 4.553944,
     "end_time": "2025-03-31T15:42:25.133508",
     "exception": false,
     "start_time": "2025-03-31T15:42:20.579564",
     "status": "completed"
    },
    "tags": []
   },
   "outputs": [
    {
     "name": "stdout",
     "output_type": "stream",
     "text": [
      "Clementine, a calico of discerning tastes and a perpetually unimpressed expression, considered her life utterly predictable. Sunbeam naps, chasing dust bunnies, the occasional disdainful glance at the goldfish – it was all terribly…beige. She yearned for something more, a splash of vibrant color in her monochrome existence.\n",
      "\n",
      "One blustery autumn afternoon, the back door, usually bolted tighter than a miser's purse, was ajar. A tantalizing gust of wind, carrying the scent of damp earth and decaying leaves, beckoned. Clementine, abandoning her nap mid-yawn, slipped through the crack.\n",
      "\n",
      "The world exploded.\n",
      "\n",
      "Gone was the familiar scent of lavender potpourri and tuna pate. Instead, a symphony of earthy aromas assaulted her senses. Towering trees, their leaves ablaze in fiery hues, scraped the sky. Squirrels, plump and audacious, chattered insults from branches. Clementine, usually a creature of comfort, felt a thrill course through her. This was it. Adventure.\n",
      "\n",
      "Her first challenge was the Great Green Wall – a hedge, taller than she was, guarding the neighbor's garden. After a precarious climb, punctuated by near-fatal slips and the indignant squawks of a startled robin, she crested the top. The view was breathtaking. A miniature jungle of overgrown roses and forgotten vegetables stretched before her.\n",
      "\n",
      "She stalked through the undergrowth, a tiny tigress in a floral wilderness. She battled a rogue tomato plant, its sticky sap clinging to her fur. She outsmarted a grumpy earthworm, who, upon being disturbed, threatened to tell his mother. She even had a brief, tense standoff with a particularly territorial ladybug.\n",
      "\n",
      "As dusk began to paint the sky in shades of violet and orange, Clementine stumbled upon a hidden treasure: a forgotten birdbath, filled with rainwater. Thirsty from her exploits, she lapped at the cool liquid, the taste of adventure lingering on her tongue.\n",
      "\n",
      "But the day's excitement had taken its toll. A wave of exhaustion washed over her. The familiar ache of hunger gnawed at her belly. The thought of her warm bed and a bowl of salmon pate suddenly seemed incredibly appealing.\n",
      "\n",
      "With a sigh, she retraced her steps, navigating the treacherous hedge with newfound confidence. She found the back door still slightly ajar, a beacon in the gathering darkness.\n",
      "\n",
      "Back inside, the house felt strangely…small. The familiar scent of lavender potpourri was almost cloying. She padded to her food bowl, devoured her salmon pate with gusto, and curled up on her favorite sunbeam spot.\n",
      "\n",
      "As she drifted off to sleep, Clementine dreamt of towering trees, grumpy earthworms, and the taste of rainwater. Her life might still be predictable, but now, it held a secret. She knew that even a calico of discerning tastes could find adventure, if only she dared to step outside the door. And tomorrow, perhaps, she would explore the other side of the hedge. After a nap, of course. A cat needed her rest.\n",
      "\n"
     ]
    }
   ],
   "source": [
    "model_config = types.GenerateContentConfig(\n",
    "    # These are the default values for gemini-2.0-flash.\n",
    "    temperature=0.0,\n",
    "    top_p=0.0,\n",
    ")\n",
    "\n",
    "story_prompt = \"You are a creative writer. Write a short story about a cat who goes on an adventure.\"\n",
    "response = client.models.generate_content(\n",
    "    model='gemini-2.0-flash',\n",
    "    config=model_config,\n",
    "    contents=story_prompt)\n",
    "\n",
    "print(response.text)"
   ]
  },
  {
   "cell_type": "markdown",
   "id": "30a8448d",
   "metadata": {
    "id": "rMrYs1koY6DX",
    "papermill": {
     "duration": 0.015259,
     "end_time": "2025-03-31T15:42:25.164573",
     "exception": false,
     "start_time": "2025-03-31T15:42:25.149314",
     "status": "completed"
    },
    "tags": []
   },
   "source": [
    "## Prompting\n",
    "\n",
    "This section contains some prompts from the chapter for you to try out directly in the API. Try changing the text here to see how each prompt performs with different instructions, more examples, or any other changes you can think of."
   ]
  },
  {
   "cell_type": "markdown",
   "id": "d18dadd0",
   "metadata": {
    "id": "hhj_tQidZJP7",
    "papermill": {
     "duration": 0.018542,
     "end_time": "2025-03-31T15:42:25.198851",
     "exception": false,
     "start_time": "2025-03-31T15:42:25.180309",
     "status": "completed"
    },
    "tags": []
   },
   "source": [
    "### Zero-shot\n",
    "\n",
    "Zero-shot prompts are prompts that describe the request for the model directly.\n",
    "\n",
    "<table align=left>\n",
    "  <td>\n",
    "    <a target=\"_blank\" href=\"https://aistudio.google.com/prompts/1gzKKgDHwkAvexG5Up0LMtl1-6jKMKe4g\"><img src=\"https://ai.google.dev/site-assets/images/marketing/home/icon-ais.png\" style=\"height: 24px\" height=24/> Open in AI Studio</a>\n",
    "  </td>\n",
    "</table>"
   ]
  },
  {
   "cell_type": "code",
   "execution_count": 22,
   "id": "9370fc98",
   "metadata": {
    "execution": {
     "iopub.execute_input": "2025-03-31T15:42:25.234778Z",
     "iopub.status.busy": "2025-03-31T15:42:25.234231Z",
     "iopub.status.idle": "2025-03-31T15:42:25.624011Z",
     "shell.execute_reply": "2025-03-31T15:42:25.622533Z"
    },
    "id": "1_t-cwnDZzbH",
    "papermill": {
     "duration": 0.411523,
     "end_time": "2025-03-31T15:42:25.626718",
     "exception": false,
     "start_time": "2025-03-31T15:42:25.215195",
     "status": "completed"
    },
    "tags": []
   },
   "outputs": [
    {
     "name": "stdout",
     "output_type": "stream",
     "text": [
      "POSITIVE\n",
      "\n"
     ]
    }
   ],
   "source": [
    "model_config = types.GenerateContentConfig(\n",
    "    temperature=0.1,\n",
    "    top_p=1,\n",
    "    max_output_tokens=5,\n",
    ")\n",
    "\n",
    "zero_shot_prompt = \"\"\"Classify movie reviews as POSITIVE, NEUTRAL or NEGATIVE.\n",
    "Review: \"Her\" is a disturbing study revealing the direction\n",
    "humanity is headed if AI is allowed to keep evolving,\n",
    "unchecked. I wish there were more movies like this masterpiece.\n",
    "Sentiment: \"\"\"\n",
    "\n",
    "response = client.models.generate_content(\n",
    "    model='gemini-2.0-flash',\n",
    "    config=model_config,\n",
    "    contents=zero_shot_prompt)\n",
    "\n",
    "print(response.text)"
   ]
  },
  {
   "cell_type": "markdown",
   "id": "21a127c7",
   "metadata": {
    "id": "3b5568bdeb11",
    "papermill": {
     "duration": 0.017238,
     "end_time": "2025-03-31T15:42:25.660238",
     "exception": false,
     "start_time": "2025-03-31T15:42:25.643000",
     "status": "completed"
    },
    "tags": []
   },
   "source": [
    "#### Enum mode\n",
    "\n",
    "The models are trained to generate text, and while the Gemini 2.0 models are great at following instructions, other models can sometimes produce more text than you may wish for. In the preceding example, the model will output the label, but sometimes it can include a preceding \"Sentiment\" label, and without an output token limit, it may also add explanatory text afterwards. See [this prompt in AI Studio](https://aistudio.google.com/prompts/1gzKKgDHwkAvexG5Up0LMtl1-6jKMKe4g) for an example.\n",
    "\n",
    "The Gemini API has an [Enum mode](https://github.com/google-gemini/cookbook/blob/main/quickstarts/Enum.ipynb) feature that allows you to constrain the output to a fixed set of values."
   ]
  },
  {
   "cell_type": "code",
   "execution_count": 23,
   "id": "d989e773",
   "metadata": {
    "execution": {
     "iopub.execute_input": "2025-03-31T15:42:25.696573Z",
     "iopub.status.busy": "2025-03-31T15:42:25.696092Z",
     "iopub.status.idle": "2025-03-31T15:42:26.073053Z",
     "shell.execute_reply": "2025-03-31T15:42:26.071766Z"
    },
    "id": "ad118a56c598",
    "papermill": {
     "duration": 0.398477,
     "end_time": "2025-03-31T15:42:26.075792",
     "exception": false,
     "start_time": "2025-03-31T15:42:25.677315",
     "status": "completed"
    },
    "tags": []
   },
   "outputs": [
    {
     "name": "stdout",
     "output_type": "stream",
     "text": [
      "positive\n"
     ]
    }
   ],
   "source": [
    "import enum\n",
    "\n",
    "class Sentiment(enum.Enum):\n",
    "    POSITIVE = \"positive\"\n",
    "    NEUTRAL = \"neutral\"\n",
    "    NEGATIVE = \"negative\"\n",
    "\n",
    "\n",
    "response = client.models.generate_content(\n",
    "    model='gemini-1.5-flash', # test: changed from gemini-2.0-flash to 1.5\n",
    "    config=types.GenerateContentConfig(\n",
    "        response_mime_type=\"text/x.enum\",\n",
    "        response_schema=Sentiment\n",
    "    ),\n",
    "    contents=zero_shot_prompt)\n",
    "\n",
    "print(response.text)"
   ]
  },
  {
   "cell_type": "markdown",
   "id": "24a95b61",
   "metadata": {
    "papermill": {
     "duration": 0.015343,
     "end_time": "2025-03-31T15:42:26.107022",
     "exception": false,
     "start_time": "2025-03-31T15:42:26.091679",
     "status": "completed"
    },
    "tags": []
   },
   "source": [
    "When using constrained output like an enum, the Python SDK will attempt to convert the model's text response into a Python object automatically. It's stored in the `response.parsed` field."
   ]
  },
  {
   "cell_type": "code",
   "execution_count": 24,
   "id": "5083cbc7",
   "metadata": {
    "execution": {
     "iopub.execute_input": "2025-03-31T15:42:26.142353Z",
     "iopub.status.busy": "2025-03-31T15:42:26.141826Z",
     "iopub.status.idle": "2025-03-31T15:42:26.148585Z",
     "shell.execute_reply": "2025-03-31T15:42:26.147329Z"
    },
    "papermill": {
     "duration": 0.027257,
     "end_time": "2025-03-31T15:42:26.151231",
     "exception": false,
     "start_time": "2025-03-31T15:42:26.123974",
     "status": "completed"
    },
    "tags": []
   },
   "outputs": [
    {
     "name": "stdout",
     "output_type": "stream",
     "text": [
      "Sentiment.POSITIVE\n",
      "<enum 'Sentiment'>\n"
     ]
    }
   ],
   "source": [
    "enum_response = response.parsed\n",
    "print(enum_response)\n",
    "print(type(enum_response))"
   ]
  },
  {
   "cell_type": "markdown",
   "id": "e53a1dca",
   "metadata": {
    "id": "0udiSwNbv45W",
    "papermill": {
     "duration": 0.016154,
     "end_time": "2025-03-31T15:42:26.183372",
     "exception": false,
     "start_time": "2025-03-31T15:42:26.167218",
     "status": "completed"
    },
    "tags": []
   },
   "source": [
    "### One-shot and few-shot\n",
    "\n",
    "Providing an example of the expected response is known as a \"one-shot\" prompt. When you provide multiple examples, it is a \"few-shot\" prompt.\n",
    "\n",
    "<table align=left>\n",
    "  <td>\n",
    "    <a target=\"_blank\" href=\"https://aistudio.google.com/prompts/1jjWkjUSoMXmLvMJ7IzADr_GxHPJVV2bg\"><img src=\"https://ai.google.dev/site-assets/images/marketing/home/icon-ais.png\" style=\"height: 24px\" height=24/> Open in AI Studio</a>\n",
    "  </td>\n",
    "</table>\n"
   ]
  },
  {
   "cell_type": "code",
   "execution_count": 25,
   "id": "ae5ccb38",
   "metadata": {
    "execution": {
     "iopub.execute_input": "2025-03-31T15:42:26.220715Z",
     "iopub.status.busy": "2025-03-31T15:42:26.219714Z",
     "iopub.status.idle": "2025-03-31T15:42:26.680927Z",
     "shell.execute_reply": "2025-03-31T15:42:26.679687Z"
    },
    "id": "hd4mVUukwOKZ",
    "papermill": {
     "duration": 0.481866,
     "end_time": "2025-03-31T15:42:26.683858",
     "exception": false,
     "start_time": "2025-03-31T15:42:26.201992",
     "status": "completed"
    },
    "tags": []
   },
   "outputs": [
    {
     "name": "stdout",
     "output_type": "stream",
     "text": [
      "```json\n",
      "{\n",
      "\"size\": \"large\",\n",
      "\"type\": \"normal\",\n",
      "\"ingredients\": [\"cheese\", \"pineapple\"]\n",
      "}\n",
      "```\n",
      "\n"
     ]
    }
   ],
   "source": [
    "few_shot_prompt = \"\"\"Parse a customer's pizza order into valid JSON:\n",
    "\n",
    "EXAMPLE:\n",
    "I want a small pizza with cheese, tomato sauce, and pepperoni.\n",
    "JSON Response:\n",
    "```\n",
    "{\n",
    "\"size\": \"small\",\n",
    "\"type\": \"normal\",\n",
    "\"ingredients\": [\"cheese\", \"tomato sauce\", \"pepperoni\"]\n",
    "}\n",
    "```\n",
    "\n",
    "EXAMPLE:\n",
    "Can I get a large pizza with tomato sauce, basil and mozzarella\n",
    "JSON Response:\n",
    "```\n",
    "{\n",
    "\"size\": \"large\",\n",
    "\"type\": \"normal\",\n",
    "\"ingredients\": [\"tomato sauce\", \"basil\", \"mozzarella\"]\n",
    "}\n",
    "```\n",
    "\n",
    "ORDER:\n",
    "\"\"\"\n",
    "\n",
    "customer_order = \"Give me a large with cheese & pineapple\"\n",
    "\n",
    "response = client.models.generate_content(\n",
    "    model='gemini-2.0-flash',\n",
    "    config=types.GenerateContentConfig(\n",
    "        temperature=0.1,\n",
    "        top_p=1,\n",
    "        max_output_tokens=250,\n",
    "    ),\n",
    "    contents=[few_shot_prompt, customer_order])\n",
    "\n",
    "print(response.text)"
   ]
  },
  {
   "cell_type": "markdown",
   "id": "2c9ae565",
   "metadata": {
    "id": "021293096f08",
    "papermill": {
     "duration": 0.017298,
     "end_time": "2025-03-31T15:42:26.717880",
     "exception": false,
     "start_time": "2025-03-31T15:42:26.700582",
     "status": "completed"
    },
    "tags": []
   },
   "source": [
    "#### JSON mode\n",
    "\n",
    "To provide control over the schema, and to ensure that you only receive JSON (with no other text or markdown), you can use the Gemini API's [JSON mode](https://github.com/google-gemini/cookbook/blob/main/quickstarts/JSON_mode.ipynb). This forces the model to constrain decoding, such that token selection is guided by the supplied schema."
   ]
  },
  {
   "cell_type": "code",
   "execution_count": 26,
   "id": "9674139f",
   "metadata": {
    "execution": {
     "iopub.execute_input": "2025-03-31T15:42:26.753413Z",
     "iopub.status.busy": "2025-03-31T15:42:26.752265Z",
     "iopub.status.idle": "2025-03-31T15:42:27.231637Z",
     "shell.execute_reply": "2025-03-31T15:42:27.230384Z"
    },
    "id": "50fbf0260912",
    "papermill": {
     "duration": 0.500392,
     "end_time": "2025-03-31T15:42:27.234421",
     "exception": false,
     "start_time": "2025-03-31T15:42:26.734029",
     "status": "completed"
    },
    "tags": []
   },
   "outputs": [
    {
     "name": "stdout",
     "output_type": "stream",
     "text": [
      "{\n",
      "  \"size\": \"large\",\n",
      "  \"ingredients\": [\"apple\", \"chocolate\"],\n",
      "  \"type\": \"dessert\"\n",
      "}\n"
     ]
    }
   ],
   "source": [
    "import typing_extensions as typing\n",
    "\n",
    "class PizzaOrder(typing.TypedDict):\n",
    "    size: str\n",
    "    ingredients: list[str]\n",
    "    type: str\n",
    "\n",
    "\n",
    "response = client.models.generate_content(\n",
    "    model='gemini-2.0-flash',\n",
    "    config=types.GenerateContentConfig(\n",
    "        temperature=0.1,\n",
    "        response_mime_type=\"application/json\",\n",
    "        response_schema=PizzaOrder,\n",
    "    ),\n",
    "    contents=\"Can I have a large dessert pizza with apple and chocolate\")\n",
    "\n",
    "print(response.text)"
   ]
  },
  {
   "cell_type": "code",
   "execution_count": 27,
   "id": "caa7ad7f",
   "metadata": {
    "execution": {
     "iopub.execute_input": "2025-03-31T15:42:27.268767Z",
     "iopub.status.busy": "2025-03-31T15:42:27.268267Z",
     "iopub.status.idle": "2025-03-31T15:42:29.009617Z",
     "shell.execute_reply": "2025-03-31T15:42:29.008253Z"
    },
    "papermill": {
     "duration": 1.761907,
     "end_time": "2025-03-31T15:42:29.012440",
     "exception": false,
     "start_time": "2025-03-31T15:42:27.250533",
     "status": "completed"
    },
    "tags": []
   },
   "outputs": [
    {
     "name": "stdout",
     "output_type": "stream",
     "text": [
      "{\n",
      "  \"story\": \"Clementine, a calico cat with a perpetually unimpressed expression, ruled the sunbeam on the living room rug. Barnaby, a golden retriever puppy overflowing with enthusiasm, saw it as an invitation to play. He'd bounce, tail wagging furiously, nudging Clementine with his wet nose. Clementine would respond with a hiss and a swat, claws sheathed just enough to make her point. This dance repeated itself daily. One afternoon, a thunderstorm raged outside. The power went out, plunging the house into darkness. A loud clap of thunder sent Barnaby scrambling under the coffee table, whimpering. Clementine, usually aloof, cautiously approached him. She nudged him gently, then settled down beside him, her purr a low rumble. Barnaby, comforted by her presence, leaned against her. The storm raged on, but in the darkness, a fragile truce was formed between the cat and the dog.\",\n",
      "  \"characters\": [\"Clementine\", \"Barnaby\"],\n",
      "  \"environment\": \"Living room during a thunderstorm\"\n",
      "}\n"
     ]
    }
   ],
   "source": [
    "class ShortStory(typing.TypedDict):\n",
    "    story: str\n",
    "    characters: list[str]\n",
    "    environment: str\n",
    "\n",
    "\n",
    "response = client.models.generate_content(\n",
    "    model='gemini-2.0-flash',\n",
    "    config=types.GenerateContentConfig(\n",
    "        temperature=0.1,\n",
    "        response_mime_type=\"application/json\",\n",
    "        response_schema=ShortStory,\n",
    "    ),\n",
    "    contents=\"write a short story about a cat and a dog\")\n",
    "\n",
    "print(response.text)"
   ]
  },
  {
   "cell_type": "markdown",
   "id": "00645209",
   "metadata": {
    "id": "4a93e338e57c",
    "papermill": {
     "duration": 0.015672,
     "end_time": "2025-03-31T15:42:29.044446",
     "exception": false,
     "start_time": "2025-03-31T15:42:29.028774",
     "status": "completed"
    },
    "tags": []
   },
   "source": [
    "### Chain of Thought (CoT)\n",
    "\n",
    "Direct prompting on LLMs can return answers quickly and (in terms of output token usage) efficiently, but they can be prone to hallucination. The answer may \"look\" correct (in terms of language and syntax) but is incorrect in terms of factuality and reasoning.\n",
    "\n",
    "Chain-of-Thought prompting is a technique where you instruct the model to output intermediate reasoning steps, and it typically gets better results, especially when combined with few-shot examples. It is worth noting that this technique doesn't completely eliminate hallucinations, and that it tends to cost more to run, due to the increased token count.\n",
    "\n",
    "Models like the Gemini family are trained to be \"chatty\" or \"thoughtful\" and will provide reasoning steps without prompting, so for this simple example you can ask the model to be more direct in the prompt to force a non-reasoning response. Try re-running this step if the model gets lucky and gets the answer correct on the first try."
   ]
  },
  {
   "cell_type": "code",
   "execution_count": 28,
   "id": "277273b1",
   "metadata": {
    "execution": {
     "iopub.execute_input": "2025-03-31T15:42:29.078897Z",
     "iopub.status.busy": "2025-03-31T15:42:29.078335Z",
     "iopub.status.idle": "2025-03-31T15:42:29.376709Z",
     "shell.execute_reply": "2025-03-31T15:42:29.375305Z"
    },
    "id": "5715555db1c1",
    "papermill": {
     "duration": 0.318918,
     "end_time": "2025-03-31T15:42:29.379472",
     "exception": false,
     "start_time": "2025-03-31T15:42:29.060554",
     "status": "completed"
    },
    "tags": []
   },
   "outputs": [
    {
     "name": "stdout",
     "output_type": "stream",
     "text": [
      "52\n",
      "\n"
     ]
    }
   ],
   "source": [
    "prompt = \"\"\"When I was 4 years old, my partner was 3 times my age. Now, I\n",
    "am 20 years old. How old is my partner? Return the answer directly.\"\"\"\n",
    "\n",
    "response = client.models.generate_content(\n",
    "    model='gemini-2.0-flash',\n",
    "    contents=prompt)\n",
    "\n",
    "print(response.text)"
   ]
  },
  {
   "cell_type": "markdown",
   "id": "32b8e37e",
   "metadata": {
    "id": "e12b19677bfd",
    "papermill": {
     "duration": 0.015985,
     "end_time": "2025-03-31T15:42:29.413358",
     "exception": false,
     "start_time": "2025-03-31T15:42:29.397373",
     "status": "completed"
    },
    "tags": []
   },
   "source": [
    "Now try the same approach, but indicate to the model that it should \"think step by step\"."
   ]
  },
  {
   "cell_type": "code",
   "execution_count": 29,
   "id": "a70f087b",
   "metadata": {
    "execution": {
     "iopub.execute_input": "2025-03-31T15:42:29.448424Z",
     "iopub.status.busy": "2025-03-31T15:42:29.447963Z",
     "iopub.status.idle": "2025-03-31T15:42:30.428744Z",
     "shell.execute_reply": "2025-03-31T15:42:30.427337Z"
    },
    "id": "ffd7536a481f",
    "papermill": {
     "duration": 1.001853,
     "end_time": "2025-03-31T15:42:30.431600",
     "exception": false,
     "start_time": "2025-03-31T15:42:29.429747",
     "status": "completed"
    },
    "tags": []
   },
   "outputs": [
    {
     "data": {
      "text/markdown": [
       "Here's how to solve this step-by-step:\n",
       "\n",
       "1. **Find the age difference:** When you were 4, your partner was 3 times your age, meaning they were 4 * 3 = 12 years old.\n",
       "2. **Calculate the age difference:** The age difference between you and your partner is 12 - 4 = 8 years.\n",
       "3. **Determine your partner's current age:** Since the age difference remains constant, your partner is always 8 years older than you. Therefore, your partner is now 20 + 8 = 28 years old.\n",
       "\n",
       "**Answer:** Your partner is now 28 years old.\n"
      ],
      "text/plain": [
       "<IPython.core.display.Markdown object>"
      ]
     },
     "execution_count": 29,
     "metadata": {},
     "output_type": "execute_result"
    }
   ],
   "source": [
    "prompt = \"\"\"When I was 4 years old, my partner was 3 times my age. Now,\n",
    "I am 20 years old. How old is my partner? Let's think step by step.\"\"\"\n",
    "\n",
    "response = client.models.generate_content(\n",
    "    model='gemini-2.0-flash',\n",
    "    contents=prompt)\n",
    "\n",
    "Markdown(response.text)"
   ]
  },
  {
   "cell_type": "code",
   "execution_count": 30,
   "id": "46144a83",
   "metadata": {
    "execution": {
     "iopub.execute_input": "2025-03-31T15:42:30.469067Z",
     "iopub.status.busy": "2025-03-31T15:42:30.468291Z",
     "iopub.status.idle": "2025-03-31T15:42:31.539001Z",
     "shell.execute_reply": "2025-03-31T15:42:31.537461Z"
    },
    "papermill": {
     "duration": 1.093414,
     "end_time": "2025-03-31T15:42:31.541836",
     "exception": false,
     "start_time": "2025-03-31T15:42:30.448422",
     "status": "completed"
    },
    "tags": []
   },
   "outputs": [
    {
     "name": "stdout",
     "output_type": "stream",
     "text": [
      "{\n",
      "  \"step_description\": [\n",
      "    \"When you were 4, your partner was 3 times your age, meaning they were 4 * 3 = 12 years old.\",\n",
      "    \"This means your partner is 12 - 4 = 8 years older than you.\",\n",
      "    \"Now that you are 20, your partner is 20 + 8 = 28 years old.\"\n",
      "  ],\n",
      "  \"sub_answers\": [\n",
      "    12.0,\n",
      "    8.0,\n",
      "    28.0\n",
      "  ],\n",
      "  \"final_answer\": 28.0\n",
      "}\n"
     ]
    }
   ],
   "source": [
    "class AnswerQuestion(typing.TypedDict):\n",
    "    step_description: list[str]\n",
    "    sub_answers: list[float]\n",
    "    final_answer: float\n",
    "\n",
    "prompt = \"\"\"When I was 4 years old, my partner was 3 times my age. Now,\n",
    "I am 20 years old. How old is my partner? Let's think step by step.\"\"\"\n",
    "\n",
    "response = client.models.generate_content(\n",
    "    model='gemini-2.0-flash',\n",
    "    config=types.GenerateContentConfig(\n",
    "        temperature=0.1,\n",
    "        response_mime_type=\"application/json\",\n",
    "        response_schema=AnswerQuestion,\n",
    "    ),\n",
    "    contents=prompt)\n",
    "\n",
    "print(response.text)"
   ]
  },
  {
   "cell_type": "markdown",
   "id": "d998f328",
   "metadata": {
    "id": "oiLgBQJj0V53",
    "papermill": {
     "duration": 0.015926,
     "end_time": "2025-03-31T15:42:31.574416",
     "exception": false,
     "start_time": "2025-03-31T15:42:31.558490",
     "status": "completed"
    },
    "tags": []
   },
   "source": [
    "### ReAct: Reason and act\n",
    "\n",
    "In this example you will run a ReAct prompt directly in the Gemini API and perform the searching steps yourself. As this prompt follows a well-defined structure, there are frameworks available that wrap the prompt into easier-to-use APIs that make tool calls automatically, such as the LangChain example from the \"Prompting\" whitepaper.\n",
    "\n",
    "To try this out with the Wikipedia search engine, check out the [Searching Wikipedia with ReAct](https://github.com/google-gemini/cookbook/blob/main/examples/Search_Wikipedia_using_ReAct.ipynb) cookbook example.\n",
    "\n",
    "\n",
    "> Note: The prompt and in-context examples used here are from [https://github.com/ysymyth/ReAct](https://github.com/ysymyth/ReAct) which is published under an [MIT license](https://opensource.org/licenses/MIT), Copyright (c) 2023 Shunyu Yao.\n",
    "\n",
    "<table align=left>\n",
    "  <td>\n",
    "    <a target=\"_blank\" href=\"https://aistudio.google.com/prompts/18oo63Lwosd-bQ6Ay51uGogB3Wk3H8XMO\"><img src=\"https://ai.google.dev/site-assets/images/marketing/home/icon-ais.png\" style=\"height: 24px\" height=24/> Open in AI Studio</a>\n",
    "  </td>\n",
    "</table>\n"
   ]
  },
  {
   "cell_type": "code",
   "execution_count": 31,
   "id": "035cf8e2",
   "metadata": {
    "execution": {
     "iopub.execute_input": "2025-03-31T15:42:31.609681Z",
     "iopub.status.busy": "2025-03-31T15:42:31.609160Z",
     "iopub.status.idle": "2025-03-31T15:42:31.617377Z",
     "shell.execute_reply": "2025-03-31T15:42:31.616157Z"
    },
    "id": "cBgyNJ5z0VSs",
    "papermill": {
     "duration": 0.02908,
     "end_time": "2025-03-31T15:42:31.619898",
     "exception": false,
     "start_time": "2025-03-31T15:42:31.590818",
     "status": "completed"
    },
    "tags": []
   },
   "outputs": [],
   "source": [
    "model_instructions = \"\"\"\n",
    "Solve a question answering task with interleaving Thought, Action, Observation steps. Thought can reason about the current situation,\n",
    "Observation is understanding relevant information from an Action's output and Action can be one of three types:\n",
    " (1) <search>entity</search>, which searches the exact entity on Wikipedia and returns the first paragraph if it exists. If not, it\n",
    "     will return some similar entities to search and you can try to search the information from those topics.\n",
    " (2) <lookup>keyword</lookup>, which returns the next sentence containing keyword in the current context. This only does exact matches,\n",
    "     so keep your searches short.\n",
    " (3) <finish>answer</finish>, which returns the answer and finishes the task.\n",
    "\"\"\"\n",
    "\n",
    "example1 = \"\"\"Question\n",
    "Musician and satirist Allie Goertz wrote a song about the \"The Simpsons\" character Milhouse, who Matt Groening named after who?\n",
    "\n",
    "Thought 1\n",
    "The question simplifies to \"The Simpsons\" character Milhouse is named after who. I only need to search Milhouse and find who it is named after.\n",
    "\n",
    "Action 1\n",
    "<search>Milhouse</search>\n",
    "\n",
    "Observation 1\n",
    "Milhouse Mussolini Van Houten is a recurring character in the Fox animated television series The Simpsons voiced by Pamela Hayden and created by Matt Groening.\n",
    "\n",
    "Thought 2\n",
    "The paragraph does not tell who Milhouse is named after, maybe I can look up \"named after\".\n",
    "\n",
    "Action 2\n",
    "<lookup>named after</lookup>\n",
    "\n",
    "Observation 2\n",
    "Milhouse was named after U.S. president Richard Nixon, whose middle name was Milhous.\n",
    "\n",
    "Thought 3\n",
    "Milhouse was named after U.S. president Richard Nixon, so the answer is Richard Nixon.\n",
    "\n",
    "Action 3\n",
    "<finish>Richard Nixon</finish>\n",
    "\"\"\"\n",
    "\n",
    "example2 = \"\"\"Question\n",
    "What is the elevation range for the area that the eastern sector of the Colorado orogeny extends into?\n",
    "\n",
    "Thought 1\n",
    "I need to search Colorado orogeny, find the area that the eastern sector of the Colorado orogeny extends into, then find the elevation range of the area.\n",
    "\n",
    "Action 1\n",
    "<search>Colorado orogeny</search>\n",
    "\n",
    "Observation 1\n",
    "The Colorado orogeny was an episode of mountain building (an orogeny) in Colorado and surrounding areas.\n",
    "\n",
    "Thought 2\n",
    "It does not mention the eastern sector. So I need to look up eastern sector.\n",
    "\n",
    "Action 2\n",
    "<lookup>eastern sector</lookup>\n",
    "\n",
    "Observation 2\n",
    "The eastern sector extends into the High Plains and is called the Central Plains orogeny.\n",
    "\n",
    "Thought 3\n",
    "The eastern sector of Colorado orogeny extends into the High Plains. So I need to search High Plains and find its elevation range.\n",
    "\n",
    "Action 3\n",
    "<search>High Plains</search>\n",
    "\n",
    "Observation 3\n",
    "High Plains refers to one of two distinct land regions\n",
    "\n",
    "Thought 4\n",
    "I need to instead search High Plains (United States).\n",
    "\n",
    "Action 4\n",
    "<search>High Plains (United States)</search>\n",
    "\n",
    "Observation 4\n",
    "The High Plains are a subregion of the Great Plains. From east to west, the High Plains rise in elevation from around 1,800 to 7,000 ft (550 to 2,130m).\n",
    "\n",
    "Thought 5\n",
    "High Plains rise in elevation from around 1,800 to 7,000 ft, so the answer is 1,800 to 7,000 ft.\n",
    "\n",
    "Action 5\n",
    "<finish>1,800 to 7,000 ft</finish>\n",
    "\"\"\"\n",
    "\n",
    "# Come up with more examples yourself, or take a look through https://github.com/ysymyth/ReAct/"
   ]
  },
  {
   "cell_type": "markdown",
   "id": "528d5502",
   "metadata": {
    "id": "C3wbfstjTgey",
    "papermill": {
     "duration": 0.016338,
     "end_time": "2025-03-31T15:42:31.653137",
     "exception": false,
     "start_time": "2025-03-31T15:42:31.636799",
     "status": "completed"
    },
    "tags": []
   },
   "source": [
    "To capture a single step at a time, while ignoring any hallucinated Observation steps, you will use `stop_sequences` to end the generation process. The steps are `Thought`, `Action`, `Observation`, in that order."
   ]
  },
  {
   "cell_type": "code",
   "execution_count": 32,
   "id": "15f0f238",
   "metadata": {
    "execution": {
     "iopub.execute_input": "2025-03-31T15:42:31.688071Z",
     "iopub.status.busy": "2025-03-31T15:42:31.687532Z",
     "iopub.status.idle": "2025-03-31T15:42:32.178408Z",
     "shell.execute_reply": "2025-03-31T15:42:32.177204Z"
    },
    "id": "8mxrXRkRTdXm",
    "papermill": {
     "duration": 0.511641,
     "end_time": "2025-03-31T15:42:32.181238",
     "exception": false,
     "start_time": "2025-03-31T15:42:31.669597",
     "status": "completed"
    },
    "tags": []
   },
   "outputs": [
    {
     "name": "stdout",
     "output_type": "stream",
     "text": [
      "Thought 1\n",
      "I need to find the Transformers NLP paper and then find the list of authors and then find the youngest author.\n",
      "\n",
      "Action 1\n",
      "<search>Transformers NLP paper</search>\n",
      "\n"
     ]
    }
   ],
   "source": [
    "question = \"\"\"Question\n",
    "Who was the youngest author listed on the transformers NLP paper?\n",
    "\"\"\"\n",
    "\n",
    "# You will perform the Action; so generate up to, but not including, the Observation.\n",
    "react_config = types.GenerateContentConfig(\n",
    "    stop_sequences=[\"\\nObservation\"],\n",
    "    system_instruction=model_instructions + example1 + example2,\n",
    ")\n",
    "\n",
    "# Create a chat that has the model instructions and examples pre-seeded.\n",
    "react_chat = client.chats.create(\n",
    "    model='gemini-2.0-flash',\n",
    "    config=react_config,\n",
    ")\n",
    "\n",
    "resp = react_chat.send_message(question)\n",
    "print(resp.text)"
   ]
  },
  {
   "cell_type": "markdown",
   "id": "b223e41c",
   "metadata": {
    "id": "aW2PIdLbVv3l",
    "papermill": {
     "duration": 0.016623,
     "end_time": "2025-03-31T15:42:32.214316",
     "exception": false,
     "start_time": "2025-03-31T15:42:32.197693",
     "status": "completed"
    },
    "tags": []
   },
   "source": [
    "Now you can perform this research yourself and supply it back to the model."
   ]
  },
  {
   "cell_type": "code",
   "execution_count": 33,
   "id": "cb58a7ac",
   "metadata": {
    "execution": {
     "iopub.execute_input": "2025-03-31T15:42:32.252420Z",
     "iopub.status.busy": "2025-03-31T15:42:32.251931Z",
     "iopub.status.idle": "2025-03-31T15:42:33.041925Z",
     "shell.execute_reply": "2025-03-31T15:42:33.040586Z"
    },
    "id": "mLMc0DZaV9g2",
    "papermill": {
     "duration": 0.811224,
     "end_time": "2025-03-31T15:42:33.044518",
     "exception": false,
     "start_time": "2025-03-31T15:42:32.233294",
     "status": "completed"
    },
    "tags": []
   },
   "outputs": [
    {
     "name": "stdout",
     "output_type": "stream",
     "text": [
      "Thought 1\n",
      "I have the list of authors: Ashish Vaswani, Noam Shazeer, Niki Parmar, Jakob Uszkoreit, Llion Jones, Aidan N. Gomez, Lukasz Kaiser, Illia Polosukhin. I need to search these names to determine their ages and then determine who is the youngest. I will start by searching for Ashish Vaswani.\n",
      "\n",
      "Action 1\n",
      "<search>Ashish Vaswani</search>\n",
      "\n"
     ]
    }
   ],
   "source": [
    "observation = \"\"\"Observation 1\n",
    "[1706.03762] Attention Is All You Need\n",
    "Ashish Vaswani, Noam Shazeer, Niki Parmar, Jakob Uszkoreit, Llion Jones, Aidan N. Gomez, Lukasz Kaiser, Illia Polosukhin\n",
    "We propose a new simple network architecture, the Transformer, based solely on attention mechanisms, dispensing with recurrence and convolutions entirely.\n",
    "\"\"\"\n",
    "resp = react_chat.send_message(observation)\n",
    "print(resp.text)"
   ]
  },
  {
   "cell_type": "markdown",
   "id": "68f0bdad",
   "metadata": {
    "id": "bo0tzf4nX6dA",
    "papermill": {
     "duration": 0.016857,
     "end_time": "2025-03-31T15:42:33.078229",
     "exception": false,
     "start_time": "2025-03-31T15:42:33.061372",
     "status": "completed"
    },
    "tags": []
   },
   "source": [
    "This process repeats until the `<finish>` action is reached. You can continue running this yourself if you like, or try the [Wikipedia example](https://github.com/google-gemini/cookbook/blob/main/examples/Search_Wikipedia_using_ReAct.ipynb) to see a fully automated ReAct system at work."
   ]
  },
  {
   "cell_type": "markdown",
   "id": "e81d4a8a",
   "metadata": {
    "papermill": {
     "duration": 0.017133,
     "end_time": "2025-03-31T15:42:33.112450",
     "exception": false,
     "start_time": "2025-03-31T15:42:33.095317",
     "status": "completed"
    },
    "tags": []
   },
   "source": [
    "## Thinking mode\n",
    "\n",
    "The experiemental Gemini Flash 2.0 \"Thinking\" model has been trained to generate the \"thinking process\" the model goes through as part of its response. As a result, the Flash Thinking model is capable of stronger reasoning capabilities in its responses.\n",
    "\n",
    "Using a \"thinking mode\" model can provide you with high-quality responses without needing specialised prompting like the previous approaches. One reason this technique is effective is that you induce the model to generate relevant information (\"brainstorming\", or \"thoughts\") that is then used as part of the context in which the final response is generated.\n",
    "\n",
    "Note that when you use the API, you get the final response from the model, but the thoughts are not captured. To see the intermediate thoughts, try out [the thinking mode model in AI Studio](https://aistudio.google.com/prompts/new_chat?model=gemini-2.0-flash-thinking-exp-01-21).\n",
    "\n",
    "<table align=left>\n",
    "  <td>\n",
    "    <a target=\"_blank\" href=\"https://aistudio.google.com/prompts/1Z991SV7lZZZqioOiqIUPv9a9ix-ws4zk\"><img src=\"https://ai.google.dev/site-assets/images/marketing/home/icon-ais.png\" style=\"height: 24px\" height=24/> Open in AI Studio</a>\n",
    "  </td>\n",
    "</table>"
   ]
  },
  {
   "cell_type": "code",
   "execution_count": 34,
   "id": "dc650a69",
   "metadata": {
    "execution": {
     "iopub.execute_input": "2025-03-31T15:42:33.149877Z",
     "iopub.status.busy": "2025-03-31T15:42:33.149332Z",
     "iopub.status.idle": "2025-03-31T15:42:42.221394Z",
     "shell.execute_reply": "2025-03-31T15:42:42.219978Z"
    },
    "papermill": {
     "duration": 9.093808,
     "end_time": "2025-03-31T15:42:42.224673",
     "exception": false,
     "start_time": "2025-03-31T15:42:33.130865",
     "status": "completed"
    },
    "tags": []
   },
   "outputs": [
    {
     "data": {
      "text/markdown": [
       "The youngest author listed on the \"Attention is All You Need\" paper (the Transformer paper) is likely **Aidan N. Gomez**.\n",
       "\n",
       "Here's why:\n",
       "\n",
       "* **Aidan N. Gomez** was a PhD student at the University of Oxford at the time of publication (2017).  Being a PhD student typically places someone in their early to mid-twenties.\n",
       "* The other authors, such as Ashish Vaswani, Noam Shazeer, Niki Parmar, Jakob Uszkoreit, Llion Jones, Łukasz Kaiser, and Illia Polosukhin, were all researchers at Google or affiliated with established research institutions.  They were generally further along in their careers, suggesting they were older than a PhD student.\n",
       "\n",
       "While we don't have exact birthdates for all authors to definitively say with 100% certainty, based on career stage indicators, **Aidan N. Gomez** is highly probable to be the youngest author on the Transformer paper."
      ],
      "text/plain": [
       "<IPython.core.display.Markdown object>"
      ]
     },
     "execution_count": 34,
     "metadata": {},
     "output_type": "execute_result"
    }
   ],
   "source": [
    "import io\n",
    "from IPython.display import Markdown, clear_output\n",
    "\n",
    "\n",
    "response = client.models.generate_content_stream(\n",
    "    model='gemini-2.0-flash-thinking-exp',\n",
    "    contents='Who was the youngest author listed on the transformers NLP paper?',\n",
    ")\n",
    "\n",
    "buf = io.StringIO()\n",
    "for chunk in response:\n",
    "    buf.write(chunk.text)\n",
    "    # Display the response as it is streamed\n",
    "    print(chunk.text, end='')\n",
    "\n",
    "# And then render the finished response as formatted markdown.\n",
    "clear_output()\n",
    "Markdown(buf.getvalue())"
   ]
  },
  {
   "cell_type": "markdown",
   "id": "14238e84",
   "metadata": {
    "id": "jPiZ_eIIaVPt",
    "papermill": {
     "duration": 0.018321,
     "end_time": "2025-03-31T15:42:42.259776",
     "exception": false,
     "start_time": "2025-03-31T15:42:42.241455",
     "status": "completed"
    },
    "tags": []
   },
   "source": [
    "## Code prompting"
   ]
  },
  {
   "cell_type": "markdown",
   "id": "741cbd62",
   "metadata": {
    "id": "ZinKamwXeR6C",
    "papermill": {
     "duration": 0.016523,
     "end_time": "2025-03-31T15:42:42.293772",
     "exception": false,
     "start_time": "2025-03-31T15:42:42.277249",
     "status": "completed"
    },
    "tags": []
   },
   "source": [
    "### Generating code\n",
    "\n",
    "The Gemini family of models can be used to generate code, configuration and scripts. Generating code can be helpful when learning to code, learning a new language or for rapidly generating a first draft.\n",
    "\n",
    "It's important to be aware that since LLMs can make mistakes, and can repeat training data, it's essential to read and test your code first, and comply with any relevant licenses.\n",
    "\n",
    "<table align=left>\n",
    "  <td>\n",
    "    <a target=\"_blank\" href=\"https://aistudio.google.com/prompts/1YX71JGtzDjXQkgdes8bP6i3oH5lCRKxv\"><img src=\"https://ai.google.dev/site-assets/images/marketing/home/icon-ais.png\" style=\"height: 24px\" height=24/> Open in AI Studio</a>\n",
    "  </td>\n",
    "</table>"
   ]
  },
  {
   "cell_type": "code",
   "execution_count": 35,
   "id": "2af5726f",
   "metadata": {
    "execution": {
     "iopub.execute_input": "2025-03-31T15:42:42.329772Z",
     "iopub.status.busy": "2025-03-31T15:42:42.329204Z",
     "iopub.status.idle": "2025-03-31T15:42:42.881286Z",
     "shell.execute_reply": "2025-03-31T15:42:42.879925Z"
    },
    "id": "fOQP9pqmeUO1",
    "papermill": {
     "duration": 0.573562,
     "end_time": "2025-03-31T15:42:42.884188",
     "exception": false,
     "start_time": "2025-03-31T15:42:42.310626",
     "status": "completed"
    },
    "tags": []
   },
   "outputs": [
    {
     "data": {
      "text/markdown": [
       "```python\n",
       "def factorial(n):\n",
       "  \"\"\"\n",
       "  Calculate the factorial of a number.\n",
       "  \"\"\"\n",
       "  if n == 0:\n",
       "    return 1\n",
       "  else:\n",
       "    return n * factorial(n-1)\n",
       "```\n"
      ],
      "text/plain": [
       "<IPython.core.display.Markdown object>"
      ]
     },
     "execution_count": 35,
     "metadata": {},
     "output_type": "execute_result"
    }
   ],
   "source": [
    "# The Gemini models love to talk, so it helps to specify they stick to the code if that\n",
    "# is all that you want.\n",
    "code_prompt = \"\"\"\n",
    "Write a Python function to calculate the factorial of a number. No explanation, provide only the code.\n",
    "\"\"\"\n",
    "\n",
    "response = client.models.generate_content(\n",
    "    model='gemini-2.0-flash',\n",
    "    config=types.GenerateContentConfig(\n",
    "        temperature=1,\n",
    "        top_p=1,\n",
    "        max_output_tokens=1024,\n",
    "    ),\n",
    "    contents=code_prompt)\n",
    "\n",
    "Markdown(response.text)"
   ]
  },
  {
   "cell_type": "markdown",
   "id": "cc9922aa",
   "metadata": {
    "id": "wlBMWSFhgVRQ",
    "papermill": {
     "duration": 0.017782,
     "end_time": "2025-03-31T15:42:42.919857",
     "exception": false,
     "start_time": "2025-03-31T15:42:42.902075",
     "status": "completed"
    },
    "tags": []
   },
   "source": [
    "### Code execution\n",
    "\n",
    "The Gemini API can automatically run generated code too, and will return the output.\n",
    "\n",
    "<table align=left>\n",
    "  <td>\n",
    "    <a target=\"_blank\" href=\"https://aistudio.google.com/prompts/11veFr_VYEwBWcLkhNLr-maCG0G8sS_7Z\"><img src=\"https://ai.google.dev/site-assets/images/marketing/home/icon-ais.png\" style=\"height: 24px\" height=24/> Open in AI Studio</a>\n",
    "  </td>\n",
    "</table>"
   ]
  },
  {
   "cell_type": "code",
   "execution_count": 36,
   "id": "9f942825",
   "metadata": {
    "execution": {
     "iopub.execute_input": "2025-03-31T15:42:42.956095Z",
     "iopub.status.busy": "2025-03-31T15:42:42.955597Z",
     "iopub.status.idle": "2025-03-31T15:42:45.002643Z",
     "shell.execute_reply": "2025-03-31T15:42:45.001276Z"
    },
    "id": "jT3OfWYfhjRL",
    "papermill": {
     "duration": 2.068769,
     "end_time": "2025-03-31T15:42:45.005631",
     "exception": false,
     "start_time": "2025-03-31T15:42:42.936862",
     "status": "completed"
    },
    "tags": []
   },
   "outputs": [
    {
     "name": "stdout",
     "output_type": "stream",
     "text": [
      "{'text': 'Okay, I can do that. First, I need to generate the first 14 odd '\n",
      "         'prime numbers. Recall that a prime number is a number greater than 1 '\n",
      "         'that has only two divisors: 1 and itself. Also, odd numbers are '\n",
      "         'integers not divisible by 2. The smallest prime number is 2, which '\n",
      "         'is even, so we need to start with the next prime, 3. I will generate '\n",
      "         'the list, then sum them.\\n'\n",
      "         '\\n'}\n",
      "-----\n",
      "{'executable_code': {'code': 'primes = []\\n'\n",
      "                             'num = 3\\n'\n",
      "                             'while len(primes) < 14:\\n'\n",
      "                             '    is_prime = True\\n'\n",
      "                             '    for i in range(2, int(num**0.5) + 1):\\n'\n",
      "                             '        if num % i == 0:\\n'\n",
      "                             '            is_prime = False\\n'\n",
      "                             '            break\\n'\n",
      "                             '    if is_prime:\\n'\n",
      "                             '        primes.append(num)\\n'\n",
      "                             '    num += 2\\n'\n",
      "                             '\\n'\n",
      "                             \"print(f'{primes=}')\\n\"\n",
      "                             '\\n'\n",
      "                             'import numpy as np\\n'\n",
      "                             'sum_of_primes = np.sum(primes)\\n'\n",
      "                             \"print(f'{sum_of_primes=}')\\n\",\n",
      "                     'language': 'PYTHON'}}\n",
      "-----\n",
      "{'code_execution_result': {'outcome': 'OUTCOME_OK',\n",
      "                           'output': 'primes=[3, 5, 7, 11, 13, 17, 19, 23, 29, '\n",
      "                                     '31, 37, 41, 43, 47]\\n'\n",
      "                                     'sum_of_primes=np.int64(326)\\n'}}\n",
      "-----\n",
      "{'text': 'The first 14 odd prime numbers are 3, 5, 7, 11, 13, 17, 19, 23, 29, '\n",
      "         '31, 37, 41, 43, and 47. Their sum is 326.\\n'}\n",
      "-----\n"
     ]
    }
   ],
   "source": [
    "from pprint import pprint\n",
    "\n",
    "config = types.GenerateContentConfig(\n",
    "    tools=[types.Tool(code_execution=types.ToolCodeExecution())],\n",
    ")\n",
    "\n",
    "code_exec_prompt = \"\"\"\n",
    "Generate the first 14 odd prime numbers, then calculate their sum.\n",
    "\"\"\"\n",
    "\n",
    "response = client.models.generate_content(\n",
    "    model='gemini-2.0-flash',\n",
    "    config=config,\n",
    "    contents=code_exec_prompt)\n",
    "\n",
    "for part in response.candidates[0].content.parts:\n",
    "  pprint(part.to_json_dict())\n",
    "  print(\"-----\")"
   ]
  },
  {
   "cell_type": "markdown",
   "id": "87203629",
   "metadata": {
    "id": "ZspT1GSkjG6d",
    "papermill": {
     "duration": 0.017708,
     "end_time": "2025-03-31T15:42:45.040903",
     "exception": false,
     "start_time": "2025-03-31T15:42:45.023195",
     "status": "completed"
    },
    "tags": []
   },
   "source": [
    "This response contains multiple parts, including an opening and closing text part that represent regular responses, an `executable_code` part that represents generated code and a `code_execution_result` part that represents the results from running the generated code.\n",
    "\n",
    "You can explore them individually."
   ]
  },
  {
   "cell_type": "code",
   "execution_count": 37,
   "id": "4b8dccf4",
   "metadata": {
    "execution": {
     "iopub.execute_input": "2025-03-31T15:42:45.078242Z",
     "iopub.status.busy": "2025-03-31T15:42:45.077413Z",
     "iopub.status.idle": "2025-03-31T15:42:45.092860Z",
     "shell.execute_reply": "2025-03-31T15:42:45.091752Z"
    },
    "papermill": {
     "duration": 0.036437,
     "end_time": "2025-03-31T15:42:45.095228",
     "exception": false,
     "start_time": "2025-03-31T15:42:45.058791",
     "status": "completed"
    },
    "tags": []
   },
   "outputs": [
    {
     "data": {
      "text/markdown": [
       "Okay, I can do that. First, I need to generate the first 14 odd prime numbers. Recall that a prime number is a number greater than 1 that has only two divisors: 1 and itself. Also, odd numbers are integers not divisible by 2. The smallest prime number is 2, which is even, so we need to start with the next prime, 3. I will generate the list, then sum them.\n",
       "\n"
      ],
      "text/plain": [
       "<IPython.core.display.Markdown object>"
      ]
     },
     "metadata": {},
     "output_type": "display_data"
    },
    {
     "data": {
      "text/markdown": [
       "```python\n",
       "primes = []\n",
       "num = 3\n",
       "while len(primes) < 14:\n",
       "    is_prime = True\n",
       "    for i in range(2, int(num**0.5) + 1):\n",
       "        if num % i == 0:\n",
       "            is_prime = False\n",
       "            break\n",
       "    if is_prime:\n",
       "        primes.append(num)\n",
       "    num += 2\n",
       "\n",
       "print(f'{primes=}')\n",
       "\n",
       "import numpy as np\n",
       "sum_of_primes = np.sum(primes)\n",
       "print(f'{sum_of_primes=}')\n",
       "\n",
       "```"
      ],
      "text/plain": [
       "<IPython.core.display.Markdown object>"
      ]
     },
     "metadata": {},
     "output_type": "display_data"
    },
    {
     "data": {
      "text/markdown": [
       "```\n",
       "primes=[3, 5, 7, 11, 13, 17, 19, 23, 29, 31, 37, 41, 43, 47]\n",
       "sum_of_primes=np.int64(326)\n",
       "\n",
       "```"
      ],
      "text/plain": [
       "<IPython.core.display.Markdown object>"
      ]
     },
     "metadata": {},
     "output_type": "display_data"
    },
    {
     "data": {
      "text/markdown": [
       "The first 14 odd prime numbers are 3, 5, 7, 11, 13, 17, 19, 23, 29, 31, 37, 41, 43, and 47. Their sum is 326.\n"
      ],
      "text/plain": [
       "<IPython.core.display.Markdown object>"
      ]
     },
     "metadata": {},
     "output_type": "display_data"
    }
   ],
   "source": [
    "for part in response.candidates[0].content.parts:\n",
    "    if part.text:\n",
    "        display(Markdown(part.text))\n",
    "    elif part.executable_code:\n",
    "        display(Markdown(f'```python\\n{part.executable_code.code}\\n```'))\n",
    "    elif part.code_execution_result:\n",
    "        if part.code_execution_result.outcome != 'OUTCOME_OK':\n",
    "            display(Markdown(f'## Status {part.code_execution_result.outcome}'))\n",
    "\n",
    "        display(Markdown(f'```\\n{part.code_execution_result.output}\\n```'))"
   ]
  },
  {
   "cell_type": "markdown",
   "id": "389c4c47",
   "metadata": {
    "id": "1gUX8QzCj4d5",
    "papermill": {
     "duration": 0.01723,
     "end_time": "2025-03-31T15:42:45.129918",
     "exception": false,
     "start_time": "2025-03-31T15:42:45.112688",
     "status": "completed"
    },
    "tags": []
   },
   "source": [
    "### Explaining code\n",
    "\n",
    "The Gemini family of models can explain code to you too. In this example, you pass a [bash script](https://github.com/magicmonty/bash-git-prompt) and ask some questions.\n",
    "\n",
    "<table align=left>\n",
    "  <td>\n",
    "    <a target=\"_blank\" href=\"https://aistudio.google.com/prompts/1N7LGzWzCYieyOf_7bAG4plrmkpDNmUyb\"><img src=\"https://ai.google.dev/site-assets/images/marketing/home/icon-ais.png\" style=\"height: 24px\" height=24/> Open in AI Studio</a>\n",
    "  </td>\n",
    "</table>"
   ]
  },
  {
   "cell_type": "code",
   "execution_count": 38,
   "id": "8148acce",
   "metadata": {
    "execution": {
     "iopub.execute_input": "2025-03-31T15:42:45.168604Z",
     "iopub.status.busy": "2025-03-31T15:42:45.167584Z",
     "iopub.status.idle": "2025-03-31T15:43:21.787219Z",
     "shell.execute_reply": "2025-03-31T15:43:21.786056Z"
    },
    "id": "7_jPMMoxkIEb",
    "papermill": {
     "duration": 36.660657,
     "end_time": "2025-03-31T15:43:21.807731",
     "exception": false,
     "start_time": "2025-03-31T15:42:45.147074",
     "status": "completed"
    },
    "tags": []
   },
   "outputs": [
    {
     "data": {
      "text/markdown": [
       "This file, named `git-prompt.sh`, is a shell script designed to enhance your command-line prompt with information about the current Git repository.\n",
       "\n",
       "**In essence, it does this:**\n",
       "\n",
       "1.  **Detects if you're in a Git repository.**\n",
       "2.  **Gathers information about the repository's status:** current branch, staged changes, uncommitted changes, whether it's ahead or behind the remote, etc.\n",
       "3.  **Formats this information** using colors and symbols.\n",
       "4.  **Injects this formatted information into your command-line prompt** so you can always see the Git status at a glance.\n",
       "\n",
       "**Why would you use it?**\n",
       "\n",
       "*   **At-a-glance Git status:**  Immediately know the state of your Git repository (branch, changes, etc.) without needing to type `git status`. This is a huge productivity booster.\n",
       "*   **Improved workflow:**  Reduces errors by making it clear which branch you're on and whether you have uncommitted changes.\n",
       "*   **Customization:**  Highly customizable with themes, colors, and symbols to fit your preferences.\n",
       "\n",
       "In other words, this script makes your command prompt \"Git-aware,\" giving you a more informative and efficient command-line experience when working with Git repositories.  It's a popular tool for developers who frequently use Git.\n"
      ],
      "text/plain": [
       "<IPython.core.display.Markdown object>"
      ]
     },
     "execution_count": 38,
     "metadata": {},
     "output_type": "execute_result"
    }
   ],
   "source": [
    "file_contents = !curl https://raw.githubusercontent.com/magicmonty/bash-git-prompt/refs/heads/master/gitprompt.sh\n",
    "\n",
    "explain_prompt = f\"\"\"\n",
    "Please explain what this file does at a very high level. What is it, and why would I use it?\n",
    "\n",
    "```\n",
    "{file_contents}\n",
    "```\n",
    "\"\"\"\n",
    "\n",
    "response = client.models.generate_content(\n",
    "    model='gemini-2.0-flash',\n",
    "    contents=explain_prompt)\n",
    "\n",
    "Markdown(response.text)"
   ]
  },
  {
   "cell_type": "markdown",
   "id": "5a9de378",
   "metadata": {
    "id": "2a8266d97ce5",
    "papermill": {
     "duration": 0.017823,
     "end_time": "2025-03-31T15:43:21.844289",
     "exception": false,
     "start_time": "2025-03-31T15:43:21.826466",
     "status": "completed"
    },
    "tags": []
   },
   "source": [
    "## Learn more\n",
    "\n",
    "To learn more about prompting in depth:\n",
    "\n",
    "* Check out the whitepaper issued with today's content,\n",
    "* Try out the apps listed at the top of this notebook ([TextFX](https://textfx.withgoogle.com/), [SQL Talk](https://sql-talk-r5gdynozbq-uc.a.run.app/) and [NotebookLM](https://notebooklm.google/)),\n",
    "* Read the [Introduction to Prompting](https://ai.google.dev/gemini-api/docs/prompting-intro) from the Gemini API docs,\n",
    "* Explore the Gemini API's [prompt gallery](https://ai.google.dev/gemini-api/prompts) and try them out in AI Studio,\n",
    "* Check out the Gemini API cookbook for [inspirational examples](https://github.com/google-gemini/cookbook/blob/main/examples/) and [educational quickstarts](https://github.com/google-gemini/cookbook/blob/main/quickstarts/).\n",
    "\n",
    "Be sure to check out the codelabs on day 3 too, where you will explore some more advanced prompting with code execution.\n",
    "\n",
    "And please share anything exciting you have tried in the Discord!\n",
    "\n",
    "*- [Mark McD](https://linktr.ee/markmcd)*"
   ]
  }
 ],
 "metadata": {
  "colab": {
   "name": "day-1-prompting.ipynb",
   "toc_visible": true
  },
  "kaggle": {
   "accelerator": "none",
   "dataSources": [],
   "dockerImageVersionId": 30786,
   "isGpuEnabled": false,
   "isInternetEnabled": true,
   "language": "python",
   "sourceType": "notebook"
  },
  "kernelspec": {
   "display_name": "Python 3",
   "language": "python",
   "name": "python3"
  },
  "language_info": {
   "codemirror_mode": {
    "name": "ipython",
    "version": 3
   },
   "file_extension": ".py",
   "mimetype": "text/x-python",
   "name": "python",
   "nbconvert_exporter": "python",
   "pygments_lexer": "ipython3",
   "version": "3.10.14"
  },
  "papermill": {
   "default_parameters": {},
   "duration": 125.957443,
   "end_time": "2025-03-31T15:43:22.989052",
   "environment_variables": {},
   "exception": null,
   "input_path": "__notebook__.ipynb",
   "output_path": "__notebook__.ipynb",
   "parameters": {},
   "start_time": "2025-03-31T15:41:17.031609",
   "version": "2.6.0"
  }
 },
 "nbformat": 4,
 "nbformat_minor": 5
}
