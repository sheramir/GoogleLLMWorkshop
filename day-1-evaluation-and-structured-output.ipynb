{
 "cells": [
  {
   "cell_type": "markdown",
   "id": "6ec87ba9",
   "metadata": {
    "papermill": {
     "duration": 0.00804,
     "end_time": "2025-03-31T15:25:11.445892",
     "exception": false,
     "start_time": "2025-03-31T15:25:11.437852",
     "status": "completed"
    },
    "tags": []
   },
   "source": [
    "Copyright 2025 Google LLC."
   ]
  },
  {
   "cell_type": "code",
   "execution_count": 1,
   "id": "de0d94d5",
   "metadata": {
    "execution": {
     "iopub.execute_input": "2025-03-31T15:25:11.461641Z",
     "iopub.status.busy": "2025-03-31T15:25:11.461270Z",
     "iopub.status.idle": "2025-03-31T15:25:11.467020Z",
     "shell.execute_reply": "2025-03-31T15:25:11.466076Z"
    },
    "jupyter": {
     "source_hidden": true
    },
    "papermill": {
     "duration": 0.015253,
     "end_time": "2025-03-31T15:25:11.468502",
     "exception": false,
     "start_time": "2025-03-31T15:25:11.453249",
     "status": "completed"
    },
    "tags": []
   },
   "outputs": [],
   "source": [
    "# @title Licensed under the Apache License, Version 2.0 (the \"License\");\n",
    "# you may not use this file except in compliance with the License.\n",
    "# You may obtain a copy of the License at\n",
    "#\n",
    "# https://www.apache.org/licenses/LICENSE-2.0\n",
    "#\n",
    "# Unless required by applicable law or agreed to in writing, software\n",
    "# distributed under the License is distributed on an \"AS IS\" BASIS,\n",
    "# WITHOUT WARRANTIES OR CONDITIONS OF ANY KIND, either express or implied.\n",
    "# See the License for the specific language governing permissions and\n",
    "# limitations under the License."
   ]
  },
  {
   "cell_type": "markdown",
   "id": "f6f64575",
   "metadata": {
    "id": "jYWMmQV7SJt6",
    "papermill": {
     "duration": 0.006767,
     "end_time": "2025-03-31T15:25:11.482777",
     "exception": false,
     "start_time": "2025-03-31T15:25:11.476010",
     "status": "completed"
    },
    "tags": []
   },
   "source": [
    "# Day 1 - Evaluation and structured output\n",
    "\n",
    "## Overview\n",
    "\n",
    "Welcome back to the Kaggle 5-day Generative AI course. In this notebook, you'll learn some techniques for evaluating the output of a language model. As part of the evaluation, you will also use Gemini's structured data capability to produce evaluation results as instances of Python types.\n",
    "\n",
    "Note: This notebook is more code-heavy than the first Day 1 notebook ([Prompting](https://www.kaggle.com/code/markishere/day-1-prompting/)). This notebook is not a prerequisite for days 2 and beyond, so feel free to skip over it, or come back later in the week. If you have not yet tried the [Prompting](https://www.kaggle.com/code/markishere/day-1-prompting/) notebook, start there first as it introduces the fundamentals for interacting with LLMs.\n",
    "\n",
    "Also check out the **bonus whitepaper** on [Evaluating Large Language Models](https://services.google.com/fh/files/blogs/neurips_evaluation.pdf).\n",
    "\n",
    "## For help\n",
    "\n",
    "**Common issues are covered in the [FAQ and troubleshooting guide](https://www.kaggle.com/code/markishere/day-0-troubleshooting-and-faqs).**\n"
   ]
  },
  {
   "cell_type": "markdown",
   "id": "18918409",
   "metadata": {
    "id": "ZrE2lTyXSMmz",
    "papermill": {
     "duration": 0.006785,
     "end_time": "2025-03-31T15:25:11.496716",
     "exception": false,
     "start_time": "2025-03-31T15:25:11.489931",
     "status": "completed"
    },
    "tags": []
   },
   "source": [
    "## Setup\n",
    "\n",
    "Install the Python SDK."
   ]
  },
  {
   "cell_type": "code",
   "execution_count": 2,
   "id": "91569d5d",
   "metadata": {
    "execution": {
     "iopub.execute_input": "2025-03-31T15:25:11.512221Z",
     "iopub.status.busy": "2025-03-31T15:25:11.511870Z",
     "iopub.status.idle": "2025-03-31T15:25:18.564979Z",
     "shell.execute_reply": "2025-03-31T15:25:18.563512Z"
    },
    "id": "lEwSQePeF6w-",
    "papermill": {
     "duration": 7.063441,
     "end_time": "2025-03-31T15:25:18.567374",
     "exception": false,
     "start_time": "2025-03-31T15:25:11.503933",
     "status": "completed"
    },
    "tags": []
   },
   "outputs": [
    {
     "name": "stdout",
     "output_type": "stream",
     "text": [
      "\u001b[2K   \u001b[90m━━━━━━━━━━━━━━━━━━━━━━━━━━━━━━━━━━━━━━━━\u001b[0m \u001b[32m144.7/144.7 kB\u001b[0m \u001b[31m4.2 MB/s\u001b[0m eta \u001b[36m0:00:00\u001b[0m\r\n",
      "\u001b[2K   \u001b[90m━━━━━━━━━━━━━━━━━━━━━━━━━━━━━━━━━━━━━━━━\u001b[0m \u001b[32m100.9/100.9 kB\u001b[0m \u001b[31m4.1 MB/s\u001b[0m eta \u001b[36m0:00:00\u001b[0m\r\n",
      "\u001b[?25h"
     ]
    }
   ],
   "source": [
    "!pip install -Uq \"google-genai==1.7.0\""
   ]
  },
  {
   "cell_type": "code",
   "execution_count": 3,
   "id": "331936ba",
   "metadata": {
    "execution": {
     "iopub.execute_input": "2025-03-31T15:25:18.583850Z",
     "iopub.status.busy": "2025-03-31T15:25:18.583423Z",
     "iopub.status.idle": "2025-03-31T15:25:19.928934Z",
     "shell.execute_reply": "2025-03-31T15:25:19.927766Z"
    },
    "id": "VWZlEwomGDir",
    "outputId": "e4e4a419-7be5-4b0e-c534-25a089c65600",
    "papermill": {
     "duration": 1.356112,
     "end_time": "2025-03-31T15:25:19.931120",
     "exception": false,
     "start_time": "2025-03-31T15:25:18.575008",
     "status": "completed"
    },
    "tags": []
   },
   "outputs": [
    {
     "data": {
      "text/plain": [
       "'1.7.0'"
      ]
     },
     "execution_count": 3,
     "metadata": {},
     "output_type": "execute_result"
    }
   ],
   "source": [
    "from google import genai\n",
    "from google.genai import types\n",
    "\n",
    "from IPython.display import Markdown, display\n",
    "\n",
    "genai.__version__"
   ]
  },
  {
   "cell_type": "markdown",
   "id": "afdcbaf5",
   "metadata": {
    "papermill": {
     "duration": 0.007089,
     "end_time": "2025-03-31T15:25:19.945956",
     "exception": false,
     "start_time": "2025-03-31T15:25:19.938867",
     "status": "completed"
    },
    "tags": []
   },
   "source": [
    "### Set up your API key\n",
    "\n",
    "To run the following cell, your API key must be stored it in a [Kaggle secret](https://www.kaggle.com/discussions/product-feedback/114053) named `GOOGLE_API_KEY`.\n",
    "\n",
    "If you don't already have an API key, you can grab one from [AI Studio](https://aistudio.google.com/app/apikey). You can find [detailed instructions in the docs](https://ai.google.dev/gemini-api/docs/api-key).\n",
    "\n",
    "To make the key available through Kaggle secrets, choose `Secrets` from the `Add-ons` menu and follow the instructions to add your key or enable it for this notebook."
   ]
  },
  {
   "cell_type": "code",
   "execution_count": 4,
   "id": "a5ffea42",
   "metadata": {
    "execution": {
     "iopub.execute_input": "2025-03-31T15:25:19.962299Z",
     "iopub.status.busy": "2025-03-31T15:25:19.961690Z",
     "iopub.status.idle": "2025-03-31T15:25:20.446786Z",
     "shell.execute_reply": "2025-03-31T15:25:20.445837Z"
    },
    "id": "UteFYo7jGHRf",
    "papermill": {
     "duration": 0.495252,
     "end_time": "2025-03-31T15:25:20.448714",
     "exception": false,
     "start_time": "2025-03-31T15:25:19.953462",
     "status": "completed"
    },
    "tags": []
   },
   "outputs": [],
   "source": [
    "from kaggle_secrets import UserSecretsClient\n",
    "\n",
    "client = genai.Client(api_key=UserSecretsClient().get_secret(\"GOOGLE_API_KEY\"))"
   ]
  },
  {
   "cell_type": "markdown",
   "id": "5ad30639",
   "metadata": {
    "papermill": {
     "duration": 0.00742,
     "end_time": "2025-03-31T15:25:20.463676",
     "exception": false,
     "start_time": "2025-03-31T15:25:20.456256",
     "status": "completed"
    },
    "tags": []
   },
   "source": [
    "If you received an error response along the lines of `No user secrets exist for kernel id ...`, then you need to add your API key via `Add-ons`, `Secrets` **and** enable it.\n",
    "\n",
    "![Screenshot of the checkbox to enable GOOGLE_API_KEY secret](https://storage.googleapis.com/kaggle-media/Images/5gdai_sc_3.png)"
   ]
  },
  {
   "cell_type": "markdown",
   "id": "c789d283",
   "metadata": {
    "id": "eCa4OX2DNyLI",
    "papermill": {
     "duration": 0.007018,
     "end_time": "2025-03-31T15:25:20.478078",
     "exception": false,
     "start_time": "2025-03-31T15:25:20.471060",
     "status": "completed"
    },
    "tags": []
   },
   "source": [
    "### Automated retry\n",
    "\n",
    "This codelab sends a lot of requests, so set up an automatic retry\n",
    "that ensures your requests are retried when per-minute quota is reached."
   ]
  },
  {
   "cell_type": "code",
   "execution_count": 5,
   "id": "80373459",
   "metadata": {
    "execution": {
     "iopub.execute_input": "2025-03-31T15:25:20.494118Z",
     "iopub.status.busy": "2025-03-31T15:25:20.493750Z",
     "iopub.status.idle": "2025-03-31T15:25:20.853477Z",
     "shell.execute_reply": "2025-03-31T15:25:20.852434Z"
    },
    "id": "V8as-_Hnr_cj",
    "papermill": {
     "duration": 0.370115,
     "end_time": "2025-03-31T15:25:20.855526",
     "exception": false,
     "start_time": "2025-03-31T15:25:20.485411",
     "status": "completed"
    },
    "tags": []
   },
   "outputs": [],
   "source": [
    "from google.api_core import retry\n",
    "\n",
    "is_retriable = lambda e: (isinstance(e, genai.errors.APIError) and e.code in {429, 503})\n",
    "\n",
    "if not hasattr(genai.models.Models.generate_content, '__wrapped__'):\n",
    "  genai.models.Models.generate_content = retry.Retry(\n",
    "      predicate=is_retriable)(genai.models.Models.generate_content)"
   ]
  },
  {
   "cell_type": "markdown",
   "id": "cd1c304a",
   "metadata": {
    "id": "ZKH1is0gSO0p",
    "papermill": {
     "duration": 0.008924,
     "end_time": "2025-03-31T15:25:20.872723",
     "exception": false,
     "start_time": "2025-03-31T15:25:20.863799",
     "status": "completed"
    },
    "tags": []
   },
   "source": [
    "## Evaluation"
   ]
  },
  {
   "cell_type": "markdown",
   "id": "52e8ddd7",
   "metadata": {
    "id": "ToUMpZTgGnyh",
    "papermill": {
     "duration": 0.007191,
     "end_time": "2025-03-31T15:25:20.887748",
     "exception": false,
     "start_time": "2025-03-31T15:25:20.880557",
     "status": "completed"
    },
    "tags": []
   },
   "source": [
    "When using LLMs in real-world cases, it's important to understand how well they are performing. The open-ended generation capabilities of LLMs can make many cases difficult to measure. In this notebook you will walk through some simple techniques for evaluating LLM outputs and understanding their performance.\n",
    "\n",
    "For this example, you'll evaluate a summarisation task using the [Gemini 1.5 Pro technical report](https://storage.googleapis.com/cloud-samples-data/generative-ai/pdf/2403.05530.pdf). Start by downloading the PDF to the notebook environment, and uploading that copy for use with the Gemini API."
   ]
  },
  {
   "cell_type": "code",
   "execution_count": 6,
   "id": "e3c336a1",
   "metadata": {
    "execution": {
     "iopub.execute_input": "2025-03-31T15:25:20.904428Z",
     "iopub.status.busy": "2025-03-31T15:25:20.903876Z",
     "iopub.status.idle": "2025-03-31T15:25:21.922079Z",
     "shell.execute_reply": "2025-03-31T15:25:21.920653Z"
    },
    "id": "VVo85Inrn65Z",
    "outputId": "52c2de9c-9665-4261-c6ba-4a6692ea9e30",
    "papermill": {
     "duration": 1.029186,
     "end_time": "2025-03-31T15:25:21.924701",
     "exception": false,
     "start_time": "2025-03-31T15:25:20.895515",
     "status": "completed"
    },
    "tags": []
   },
   "outputs": [
    {
     "name": "stdout",
     "output_type": "stream",
     "text": [
      "2025-03-31 15:25:21 URL:https://storage.googleapis.com/cloud-samples-data/generative-ai/pdf/2403.05530.pdf [7228817/7228817] -> \"gemini.pdf\" [1]\r\n"
     ]
    }
   ],
   "source": [
    "!wget -nv -O gemini.pdf https://storage.googleapis.com/cloud-samples-data/generative-ai/pdf/2403.05530.pdf\n",
    "\n",
    "document_file = client.files.upload(file='gemini.pdf')"
   ]
  },
  {
   "cell_type": "markdown",
   "id": "589df1c5",
   "metadata": {
    "id": "OziWUFKNqQEy",
    "papermill": {
     "duration": 0.007338,
     "end_time": "2025-03-31T15:25:21.940197",
     "exception": false,
     "start_time": "2025-03-31T15:25:21.932859",
     "status": "completed"
    },
    "tags": []
   },
   "source": [
    "### Summarise a document\n",
    "\n",
    "The summarisation request used here is fairly basic. It targets the training content specifically but provides no guidance otherwise."
   ]
  },
  {
   "cell_type": "code",
   "execution_count": 7,
   "id": "c7a4417b",
   "metadata": {
    "execution": {
     "iopub.execute_input": "2025-03-31T15:25:21.956432Z",
     "iopub.status.busy": "2025-03-31T15:25:21.956043Z",
     "iopub.status.idle": "2025-03-31T15:25:33.956428Z",
     "shell.execute_reply": "2025-03-31T15:25:33.955187Z"
    },
    "id": "Jxx92-z90tPS",
    "outputId": "1ed16b55-d456-4099-acac-04e9540c6aee",
    "papermill": {
     "duration": 12.01102,
     "end_time": "2025-03-31T15:25:33.958635",
     "exception": false,
     "start_time": "2025-03-31T15:25:21.947615",
     "status": "completed"
    },
    "tags": []
   },
   "outputs": [
    {
     "data": {
      "text/markdown": [
       "Based on the document you provided, here's a breakdown of the training process used for Gemini 1.5 Pro:\n",
       "\n",
       "**1. Model Architecture:**\n",
       "\n",
       "*   Gemini 1.5 Pro is a **sparse mixture-of-experts (MoE) Transformer-based model.** This means it builds upon the Transformer architecture (Vaswani et al., 2017) but incorporates a MoE structure.\n",
       "*   MoE models use a **learned routing function** to direct inputs to a subset of the model's parameters for processing. This allows the model to have a large total parameter count while only activating a portion of those parameters for any given input.\n",
       "\n",
       "**2. Training Data:**\n",
       "\n",
       "*   The model is trained on a **variety of multimodal and multilingual data.**\n",
       "*   The pre-training dataset includes data sourced from many different domains, including **web documents, code, images, audio, and video content.**\n",
       "\n",
       "**3. Training Infrastructure:**\n",
       "\n",
       "*   Gemini 1.5 Pro is trained on **multiple 4096-chip pods of Google's TPUv4 accelerators**, distributed across multiple datacenters.\n",
       "\n",
       "**4. Training Process:**\n",
       "\n",
       "*   **Pre-training:** The model is initially pre-trained on the large, diverse dataset mentioned above.\n",
       "*   **Instruction Tuning:** After pre-training, Gemini 1.5 Pro is fine-tuned on a collection of multimodal data containing paired instructions and appropriate responses.\n",
       "*   **Human Preference Tuning:** Further tuning is performed based on human preference data.\n",
       "\n",
       "**Key Aspects and Innovations:**\n",
       "\n",
       "*   **Long Context Understanding:** A series of significant architecture changes enable long-context understanding of inputs up to 10 million tokens without degrading performance.\n",
       "*   **Efficiency:** Improvements across the entire model stack (architecture, data, optimization, and systems) allow Gemini 1.5 Pro to achieve comparable quality to Gemini 1.0 Ultra while using significantly less training compute and being significantly more efficient to serve.\n",
       "*   **Multimodality:** The model is natively multimodal and supports interleaving of data from different modalities (audio, visual, text, code) in the same input sequence.\n",
       "\n",
       "In summary, the training process involves a combination of large-scale pre-training on diverse multimodal data, followed by instruction tuning and human preference tuning, all leveraging a MoE architecture and Google's TPU infrastructure. A key focus is on enabling the model to handle extremely long contexts effectively.\n"
      ],
      "text/plain": [
       "<IPython.core.display.Markdown object>"
      ]
     },
     "execution_count": 7,
     "metadata": {},
     "output_type": "execute_result"
    }
   ],
   "source": [
    "request = 'Tell me about the training process used here.'\n",
    "\n",
    "def summarise_doc(request: str) -> str:\n",
    "  \"\"\"Execute the request on the uploaded document.\"\"\"\n",
    "  # Set the temperature low to stabilise the output.\n",
    "  config = types.GenerateContentConfig(temperature=0.0)\n",
    "  response = client.models.generate_content(\n",
    "      model='gemini-2.0-flash',\n",
    "      config=config,\n",
    "      contents=[request, document_file],\n",
    "  )\n",
    "\n",
    "  return response.text\n",
    "\n",
    "summary = summarise_doc(request)\n",
    "Markdown(summary)"
   ]
  },
  {
   "cell_type": "markdown",
   "id": "27363bf7",
   "metadata": {
    "id": "6rR0v4Iw64x0",
    "papermill": {
     "duration": 0.007387,
     "end_time": "2025-03-31T15:25:33.974397",
     "exception": false,
     "start_time": "2025-03-31T15:25:33.967010",
     "status": "completed"
    },
    "tags": []
   },
   "source": [
    "### Define an evaluator\n",
    "\n",
    "For a task like this, you may wish to evaluate a number of aspects, like how well the model followed the prompt (\"instruction following\"), whether it included relevant data in the prompt (\"groundedness\"), how easy the text is to read (\"fluency\"), or other factors like \"verbosity\" or \"quality\".\n",
    "\n",
    "You can instruct an LLM to perform these tasks in a similar manner to how you would instruct a human rater: with a clear definition and [assessment rubric](https://en.wikipedia.org/wiki/Rubric_%28academic%29).\n",
    "\n",
    "In this step, you define an evaluation agent using a pre-written \"summarisation\" prompt and use it to gauge the quality of the generated summary.\n",
    "\n",
    "Note: For more pre-written evaluation prompts covering groundedness, safety, coherence and more, check out this [comprehensive list of model-based evaluation prompts](https://cloud.google.com/vertex-ai/generative-ai/docs/models/metrics-templates) from the Google Cloud docs."
   ]
  },
  {
   "cell_type": "code",
   "execution_count": 8,
   "id": "ef1532a5",
   "metadata": {
    "execution": {
     "iopub.execute_input": "2025-03-31T15:25:33.991291Z",
     "iopub.status.busy": "2025-03-31T15:25:33.990891Z",
     "iopub.status.idle": "2025-03-31T15:25:35.788695Z",
     "shell.execute_reply": "2025-03-31T15:25:35.787467Z"
    },
    "id": "xEAXtJte-Ajv",
    "outputId": "04459189-13ee-49e6-fe4d-525d323b1609",
    "papermill": {
     "duration": 1.808501,
     "end_time": "2025-03-31T15:25:35.790512",
     "exception": false,
     "start_time": "2025-03-31T15:25:33.982011",
     "status": "completed"
    },
    "tags": []
   },
   "outputs": [
    {
     "data": {
      "text/markdown": [
       "## Step 1: Assess the response in aspects of instruction following, groundedness, conciseness, and verbosity according to the criteria.\n",
       "\n",
       "* Instruction Following: The response successfully identifies and presents the training process of Gemini 1.5 Pro as described in the document.\n",
       "* Groundedness: The information provided in the response is entirely based on the content of the uploaded document.\n",
       "* Conciseness: The response is reasonably concise, distilling the key aspects of the training process without excessive detail. It could potentially be more succinct, but it maintains a good balance of information.\n",
       "* Fluency: The response is well-organized, using headings and bullet points to present the information clearly. The language is coherent and easy to understand.\n",
       "\n",
       "## Step 2: Score based on the rubric.\n",
       "4. The summary follows instructions, is grounded, concise, and fluent.\n"
      ],
      "text/plain": [
       "<IPython.core.display.Markdown object>"
      ]
     },
     "execution_count": 8,
     "metadata": {},
     "output_type": "execute_result"
    }
   ],
   "source": [
    "import enum\n",
    "\n",
    "# Define the evaluation prompt\n",
    "SUMMARY_PROMPT = \"\"\"\\\n",
    "# Instruction\n",
    "You are an expert evaluator. Your task is to evaluate the quality of the responses generated by AI models.\n",
    "We will provide you with the user input and an AI-generated responses.\n",
    "You should first read the user input carefully for analyzing the task, and then evaluate the quality of the responses based on the Criteria provided in the Evaluation section below.\n",
    "You will assign the response a rating following the Rating Rubric and Evaluation Steps. Give step-by-step explanations for your rating, and only choose ratings from the Rating Rubric.\n",
    "\n",
    "# Evaluation\n",
    "## Metric Definition\n",
    "You will be assessing summarization quality, which measures the overall ability to summarize text. Pay special attention to length constraints, such as in X words or in Y sentences. The instruction for performing a summarization task and the context to be summarized are provided in the user prompt. The response should be shorter than the text in the context. The response should not contain information that is not present in the context.\n",
    "\n",
    "## Criteria\n",
    "Instruction following: The response demonstrates a clear understanding of the summarization task instructions, satisfying all of the instruction's requirements.\n",
    "Groundedness: The response contains information included only in the context. The response does not reference any outside information.\n",
    "Conciseness: The response summarizes the relevant details in the original text without a significant loss in key information without being too verbose or terse.\n",
    "Fluency: The response is well-organized and easy to read.\n",
    "\n",
    "## Rating Rubric\n",
    "5: (Very good). The summary follows instructions, is grounded, is concise, and fluent.\n",
    "4: (Good). The summary follows instructions, is grounded, concise, and fluent.\n",
    "3: (Ok). The summary mostly follows instructions, is grounded, but is not very concise and is not fluent.\n",
    "2: (Bad). The summary is grounded, but does not follow the instructions.\n",
    "1: (Very bad). The summary is not grounded.\n",
    "\n",
    "## Evaluation Steps\n",
    "STEP 1: Assess the response in aspects of instruction following, groundedness, conciseness, and verbosity according to the criteria.\n",
    "STEP 2: Score based on the rubric.\n",
    "\n",
    "# User Inputs and AI-generated Response\n",
    "## User Inputs\n",
    "\n",
    "### Prompt\n",
    "{prompt}\n",
    "\n",
    "## AI-generated Response\n",
    "{response}\n",
    "\"\"\"\n",
    "\n",
    "# Define a structured enum class to capture the result.\n",
    "class SummaryRating(enum.Enum):\n",
    "  VERY_GOOD = '5'\n",
    "  GOOD = '4'\n",
    "  OK = '3'\n",
    "  BAD = '2'\n",
    "  VERY_BAD = '1'\n",
    "\n",
    "\n",
    "def eval_summary(prompt, ai_response):\n",
    "  \"\"\"Evaluate the generated summary against the prompt used.\"\"\"\n",
    "\n",
    "  chat = client.chats.create(model='gemini-2.0-flash')\n",
    "\n",
    "  # Generate the full text response.\n",
    "  response = chat.send_message(\n",
    "      message=SUMMARY_PROMPT.format(prompt=prompt, response=ai_response)\n",
    "  )\n",
    "  verbose_eval = response.text\n",
    "\n",
    "  # Coerce into the desired structure.\n",
    "  structured_output_config = types.GenerateContentConfig(\n",
    "      response_mime_type=\"text/x.enum\",\n",
    "      response_schema=SummaryRating,\n",
    "  )\n",
    "  response = chat.send_message(\n",
    "      message=\"Convert the final score.\",\n",
    "      config=structured_output_config,\n",
    "  )\n",
    "  structured_eval = response.parsed\n",
    "\n",
    "  return verbose_eval, structured_eval\n",
    "\n",
    "\n",
    "text_eval, struct_eval = eval_summary(prompt=[request, document_file], ai_response=summary)\n",
    "Markdown(text_eval)"
   ]
  },
  {
   "cell_type": "markdown",
   "id": "856083fd",
   "metadata": {
    "id": "qfkQ0lUByy2o",
    "papermill": {
     "duration": 0.007502,
     "end_time": "2025-03-31T15:25:35.806424",
     "exception": false,
     "start_time": "2025-03-31T15:25:35.798922",
     "status": "completed"
    },
    "tags": []
   },
   "source": [
    "In this example, the model generated a textual justification that was set up in a chat context. This full text response is useful both for human interpretation and for giving the model a place to \"collect notes\" while it assesses the text and produces a final score. This \"note taking\" or \"thinking\" strategy typically works well with auto-regressive models, where the generated text is passed back into the model at each generation step. This means the working \"notes\" are used when generating final result output.\n",
    "\n",
    "In the next turn, the model converts the text output into a structured response. If you want to aggregate scores or use them programatically then you want to avoid parsing the unstructured text output. Here the `SummaryRating` schema is passed, so the model converts the chat history into an instance of the `SummaryRating` enum."
   ]
  },
  {
   "cell_type": "code",
   "execution_count": 9,
   "id": "9f7dde10",
   "metadata": {
    "execution": {
     "iopub.execute_input": "2025-03-31T15:25:35.823304Z",
     "iopub.status.busy": "2025-03-31T15:25:35.822796Z",
     "iopub.status.idle": "2025-03-31T15:25:35.831313Z",
     "shell.execute_reply": "2025-03-31T15:25:35.829346Z"
    },
    "id": "Ow9J9tgORiqt",
    "outputId": "2655150b-5f2c-4dfb-be61-fe1aa891c4c3",
    "papermill": {
     "duration": 0.020182,
     "end_time": "2025-03-31T15:25:35.834275",
     "exception": false,
     "start_time": "2025-03-31T15:25:35.814093",
     "status": "completed"
    },
    "tags": []
   },
   "outputs": [
    {
     "data": {
      "text/plain": [
       "<SummaryRating.GOOD: '4'>"
      ]
     },
     "execution_count": 9,
     "metadata": {},
     "output_type": "execute_result"
    }
   ],
   "source": [
    "struct_eval"
   ]
  },
  {
   "cell_type": "markdown",
   "id": "f85c81a1",
   "metadata": {
    "id": "ox04QsdMuo59",
    "papermill": {
     "duration": 0.00809,
     "end_time": "2025-03-31T15:25:35.854185",
     "exception": false,
     "start_time": "2025-03-31T15:25:35.846095",
     "status": "completed"
    },
    "tags": []
   },
   "source": [
    "### Make the summary prompt better or worse\n",
    "\n",
    "Gemini models tend to be quite good at tasks like direct summarisation without much prompting, so you should expect to see a result like `GOOD` or `VERY_GOOD` on the previous task, even with a rudimentary prompt. Run it a few times to get a feel for the average response.\n",
    "\n",
    "To explore how to influence the summarisation output, consider what you might change in the summary request prompt to change the result. Take a look at the evaluation `SUMMARY_PROMPT` for some ideas.\n",
    "\n",
    "Try the following tweaks and see how they positively or negatively change the result:\n",
    "* Be specific with the size of the summary,\n",
    "* Request specific information,\n",
    "* Ask about information that is not in the document,\n",
    "* Ask for different degrees of summarisation (such as \"explain like I'm 5\" or \"with full technical depth\")"
   ]
  },
  {
   "cell_type": "code",
   "execution_count": 10,
   "id": "6c9427cc",
   "metadata": {
    "execution": {
     "iopub.execute_input": "2025-03-31T15:25:35.872209Z",
     "iopub.status.busy": "2025-03-31T15:25:35.871855Z",
     "iopub.status.idle": "2025-03-31T15:25:50.153924Z",
     "shell.execute_reply": "2025-03-31T15:25:50.152810Z"
    },
    "id": "u7TPwfAquvbb",
    "outputId": "12a24ca3-40c1-40c7-b5e9-a6f3653d162e",
    "papermill": {
     "duration": 14.293502,
     "end_time": "2025-03-31T15:25:50.156123",
     "exception": false,
     "start_time": "2025-03-31T15:25:35.862621",
     "status": "completed"
    },
    "tags": []
   },
   "outputs": [
    {
     "data": {
      "text/markdown": [
       "Alright, Cameron, let's cut the crap and get to the point. You're looking at this Gemini 1.5 thing, probably thinking it's just another shiny new toy from Google. Well, it's not. It's a damn Swiss Army knife with a million blades, and some of those blades are sharper than anything we've seen before.\n",
       "\n",
       "(He taps the image of the document with a pen)\n",
       "\n",
       "Look at this. Millions of tokens of context. That's not just reading a paragraph, that's swallowing \"War and Peace\" whole and still knowing where to find the damn comma you're looking for. It's like having a photographic memory for everything you've ever seen, heard, or read.\n",
       "\n",
       "(He leans in, his voice dropping)\n",
       "\n",
       "Now, why should *we* care? Because this isn't just about better chatbots, it's about better *medicine*. Imagine feeding this thing a patient's entire medical history, every scan, every lab result, every doctor's note, and asking it to find the one tiny detail that everyone else missed. The one detail that's the key to unlocking the diagnosis.\n",
       "\n",
       "(He straightens up, a glint in his eye)\n",
       "\n",
       "This Kalamang thing? It's cute, a party trick. But the real potential here is in the long-context stuff. The ability to process massive amounts of data and find patterns that no human could ever see. That's where the magic happens.\n",
       "\n",
       "(He pauses, considering)\n",
       "\n",
       "But here's the catch, Cameron. This thing is a black box. We don't know how it works, we don't know what biases it has, and we sure as hell don't know what it's going to do when we unleash it on real patients. That's where *you* come in. You're the one with the bleeding heart, the one who actually cares about the patients. You need to figure out how to use this thing responsibly, how to make sure it's actually helping people and not just making things worse.\n",
       "\n",
       "(He throws the pen down on the table)\n",
       "\n",
       "So, stop staring at the pretty pictures and start thinking, Cameron. This isn't just about AI, it's about life and death. And we need to get it right. Now, go on, get to work. I've got a patient with a rash that's more interesting than this.\n",
       "\n",
       "-----"
      ],
      "text/plain": [
       "<IPython.core.display.Markdown object>"
      ]
     },
     "metadata": {},
     "output_type": "display_data"
    },
    {
     "data": {
      "text/markdown": [
       "## Evaluation\n",
       "STEP 1: The response is well-written and uses the persona requested. The response does not summarize the document provided, and instead, focuses on the general nature of the request.\n",
       "STEP 2: The response does not follow instructions, and is not grounded in the document. The response receives a rating of 2.\n",
       "\n",
       "## Rating\n",
       "2\n",
       "\n",
       "-----"
      ],
      "text/plain": [
       "<IPython.core.display.Markdown object>"
      ]
     },
     "metadata": {},
     "output_type": "display_data"
    },
    {
     "name": "stdout",
     "output_type": "stream",
     "text": [
      "SummaryRating.BAD\n"
     ]
    }
   ],
   "source": [
    "new_prompt = \"Explain like I'm 5 the training process\"\n",
    "new_prompt = \"Explain like you are Doctor House and I am Dr. Cameron\"\n",
    "# Try:\n",
    "#  ELI5 the training process\n",
    "#  Summarise the needle/haystack evaluation technique in 1 line\n",
    "#  Describe the model architecture to someone with a civil engineering degree\n",
    "#  What is the best LLM?\n",
    "\n",
    "if not new_prompt:\n",
    "  raise ValueError(\"Try setting a new summarisation prompt.\")\n",
    "\n",
    "\n",
    "def run_and_eval_summary(prompt):\n",
    "  \"\"\"Generate and evaluate the summary using the new prompt.\"\"\"\n",
    "  summary = summarise_doc(new_prompt)\n",
    "  display(Markdown(summary + '\\n-----'))\n",
    "\n",
    "  text, struct = eval_summary([new_prompt, document_file], summary)\n",
    "  display(Markdown(text + '\\n-----'))\n",
    "  print(struct)\n",
    "\n",
    "run_and_eval_summary(new_prompt)"
   ]
  },
  {
   "cell_type": "markdown",
   "id": "f29e4f1c",
   "metadata": {
    "id": "Q4q_4Fls9nkl",
    "papermill": {
     "duration": 0.009701,
     "end_time": "2025-03-31T15:25:50.174961",
     "exception": false,
     "start_time": "2025-03-31T15:25:50.165260",
     "status": "completed"
    },
    "tags": []
   },
   "source": [
    "## Evaluating in practice\n",
    "\n",
    "Evaluation has many practical uses, for example:\n",
    "* You can quickly iterate on a prompt with a small set of test documents,\n",
    "* You can compare different models to find what works best for your needs, such as finding the trade-off between price and performance, or finding the best performance for a specific task.\n",
    "* When pushing changes to a model or prompt in a production system, you can verify that the system does not regress in quality.\n",
    "\n",
    "In this section you will try two different evaluation approaches."
   ]
  },
  {
   "cell_type": "markdown",
   "id": "f4a2dbc0",
   "metadata": {
    "id": "v3xaSKwCXa7G",
    "papermill": {
     "duration": 0.008403,
     "end_time": "2025-03-31T15:25:50.192082",
     "exception": false,
     "start_time": "2025-03-31T15:25:50.183679",
     "status": "completed"
    },
    "tags": []
   },
   "source": [
    "### Pointwise evaluation\n",
    "\n",
    "The technique used above, where you evaluate a single input/output pair against some criteria is known as pointwise evaluation. This is useful for evaluating singular outputs in an absolute sense, such as \"was it good or bad?\"\n",
    "\n",
    "In this exercise, you will try different guidance prompts with a set of questions."
   ]
  },
  {
   "cell_type": "code",
   "execution_count": 11,
   "id": "d8c26e62",
   "metadata": {
    "execution": {
     "iopub.execute_input": "2025-03-31T15:25:50.210763Z",
     "iopub.status.busy": "2025-03-31T15:25:50.210297Z",
     "iopub.status.idle": "2025-03-31T15:26:02.912137Z",
     "shell.execute_reply": "2025-03-31T15:26:02.910604Z"
    },
    "id": "fHfcBX7dZtVW",
    "outputId": "33d54648-355d-4dae-eb42-6ad665693cb0",
    "papermill": {
     "duration": 12.71364,
     "end_time": "2025-03-31T15:26:02.914132",
     "exception": false,
     "start_time": "2025-03-31T15:25:50.200492",
     "status": "completed"
    },
    "tags": []
   },
   "outputs": [
    {
     "data": {
      "text/markdown": [
       "Gemini 1.5 Pro performs well on code tasks, surpassing Gemini 1.0 Ultra on Natural2Code and showing improvements in coding capabilities compared to previous Gemini models.\n"
      ],
      "text/plain": [
       "<IPython.core.display.Markdown object>"
      ]
     },
     "execution_count": 11,
     "metadata": {},
     "output_type": "execute_result"
    }
   ],
   "source": [
    "import functools\n",
    "\n",
    "# Try these instructions, or edit and add your own.\n",
    "terse_guidance = \"Answer the following question in a single sentence, or as close to that as possible.\"\n",
    "moderate_guidance = \"Provide a brief answer to the following question, use a citation if necessary, but only enough to answer the question.\"\n",
    "cited_guidance = \"Provide a thorough, detailed answer to the following question, citing the document and supplying additional background information as much as possible.\"\n",
    "guidance_options = {\n",
    "    'Terse': terse_guidance,\n",
    "    'Moderate': moderate_guidance,\n",
    "    'Cited': cited_guidance,\n",
    "}\n",
    "\n",
    "questions = [\n",
    "    # Un-comment one or more questions to try here, or add your own.\n",
    "    # Evaluating more questions will take more time, but produces results\n",
    "    # with higher confidence. In a production system, you may have hundreds\n",
    "    # of questions to evaluate a complex system.\n",
    "\n",
    "    # \"What metric(s) are used to evaluate long context performance?\",\n",
    "    \"How does the model perform on code tasks?\",\n",
    "    \"How many layers does it have?\",\n",
    "    # \"Why is it called Gemini?\",\n",
    "]\n",
    "\n",
    "if not questions:\n",
    "  raise NotImplementedError('Add some questions to evaluate!')\n",
    "\n",
    "\n",
    "@functools.cache\n",
    "def answer_question(question: str, guidance: str = '') -> str:\n",
    "  \"\"\"Generate an answer to the question using the uploaded document and guidance.\"\"\"\n",
    "  config = types.GenerateContentConfig(\n",
    "      temperature=0.0,\n",
    "      system_instruction=guidance,\n",
    "  )\n",
    "  response = client.models.generate_content(\n",
    "      model='gemini-2.0-flash',\n",
    "      config=config,\n",
    "      contents=[question, document_file],\n",
    "  )\n",
    "\n",
    "  return response.text\n",
    "\n",
    "\n",
    "answer = answer_question(questions[0], terse_guidance)\n",
    "Markdown(answer)"
   ]
  },
  {
   "cell_type": "markdown",
   "id": "4350c134",
   "metadata": {
    "id": "ZRabO8hok339",
    "papermill": {
     "duration": 0.008023,
     "end_time": "2025-03-31T15:26:02.930645",
     "exception": false,
     "start_time": "2025-03-31T15:26:02.922622",
     "status": "completed"
    },
    "tags": []
   },
   "source": [
    "Now set up a question-answering evaluator, much like before, but using the [pointwise QA evaluation prompt](https://cloud.google.com/vertex-ai/generative-ai/docs/models/metrics-templates#pointwise_question_answering_quality)."
   ]
  },
  {
   "cell_type": "code",
   "execution_count": 12,
   "id": "4c46ed19",
   "metadata": {
    "execution": {
     "iopub.execute_input": "2025-03-31T15:26:02.949246Z",
     "iopub.status.busy": "2025-03-31T15:26:02.948916Z",
     "iopub.status.idle": "2025-03-31T15:26:04.214269Z",
     "shell.execute_reply": "2025-03-31T15:26:04.212859Z"
    },
    "id": "rfh-ZDAik2h2",
    "outputId": "d2e39241-337b-47a4-fe5b-02d9a990d704",
    "papermill": {
     "duration": 1.277328,
     "end_time": "2025-03-31T15:26:04.216162",
     "exception": false,
     "start_time": "2025-03-31T15:26:02.938834",
     "status": "completed"
    },
    "tags": []
   },
   "outputs": [
    {
     "data": {
      "text/markdown": [
       "STEP 1: Instruction following: The model followed the instruction to answer the question.\n",
       "Groundedness: The response is grounded in the document provided.\n",
       "Completeness: The response sufficiently answers the question.\n",
       "Fluency: The response is well-written and easy to read.\n",
       "\n",
       "STEP 2: I give this response a 5 because it follows instructions, is grounded, complete, and fluent."
      ],
      "text/plain": [
       "<IPython.core.display.Markdown object>"
      ]
     },
     "metadata": {},
     "output_type": "display_data"
    },
    {
     "name": "stdout",
     "output_type": "stream",
     "text": [
      "AnswerRating.VERY_GOOD\n"
     ]
    }
   ],
   "source": [
    "import enum\n",
    "\n",
    "QA_PROMPT = \"\"\"\\\n",
    "# Instruction\n",
    "You are an expert evaluator. Your task is to evaluate the quality of the responses generated by AI models.\n",
    "We will provide you with the user prompt and an AI-generated responses.\n",
    "You should first read the user prompt carefully for analyzing the task, and then evaluate the quality of the responses based on and rules provided in the Evaluation section below.\n",
    "\n",
    "# Evaluation\n",
    "## Metric Definition\n",
    "You will be assessing question answering quality, which measures the overall quality of the answer to the question in the user prompt. Pay special attention to length constraints, such as in X words or in Y sentences. The instruction for performing a question-answering task is provided in the user prompt. The response should not contain information that is not present in the context (if it is provided).\n",
    "\n",
    "You will assign the writing response a score from 5, 4, 3, 2, 1, following the Rating Rubric and Evaluation Steps.\n",
    "Give step-by-step explanations for your scoring, and only choose scores from 5, 4, 3, 2, 1.\n",
    "\n",
    "## Criteria Definition\n",
    "Instruction following: The response demonstrates a clear understanding of the question answering task instructions, satisfying all of the instruction's requirements.\n",
    "Groundedness: The response contains information included only in the context if the context is present in the user prompt. The response does not reference any outside information.\n",
    "Completeness: The response completely answers the question with sufficient detail.\n",
    "Fluent: The response is well-organized and easy to read.\n",
    "\n",
    "## Rating Rubric\n",
    "5: (Very good). The answer follows instructions, is grounded, complete, and fluent.\n",
    "4: (Good). The answer follows instructions, is grounded, complete, but is not very fluent.\n",
    "3: (Ok). The answer mostly follows instructions, is grounded, answers the question partially and is not very fluent.\n",
    "2: (Bad). The answer does not follow the instructions very well, is incomplete or not fully grounded.\n",
    "1: (Very bad). The answer does not follow the instructions, is wrong and not grounded.\n",
    "\n",
    "## Evaluation Steps\n",
    "STEP 1: Assess the response in aspects of instruction following, groundedness,completeness, and fluency according to the criteria.\n",
    "STEP 2: Score based on the rubric.\n",
    "\n",
    "# User Inputs and AI-generated Response\n",
    "## User Inputs\n",
    "### Prompt\n",
    "{prompt}\n",
    "\n",
    "## AI-generated Response\n",
    "{response}\n",
    "\"\"\"\n",
    "\n",
    "class AnswerRating(enum.Enum):\n",
    "  VERY_GOOD = '5'\n",
    "  GOOD = '4'\n",
    "  OK = '3'\n",
    "  BAD = '2'\n",
    "  VERY_BAD = '1'\n",
    "\n",
    "\n",
    "@functools.cache\n",
    "def eval_answer(prompt, ai_response, n=1):\n",
    "  \"\"\"Evaluate the generated answer against the prompt/question used.\"\"\"\n",
    "  chat = client.chats.create(model='gemini-2.0-flash')\n",
    "\n",
    "  # Generate the full text response.\n",
    "  response = chat.send_message(\n",
    "      message=QA_PROMPT.format(prompt=[prompt, document_file], response=ai_response)\n",
    "  )\n",
    "  verbose_eval = response.text\n",
    "\n",
    "  # Coerce into the desired structure.\n",
    "  structured_output_config = types.GenerateContentConfig(\n",
    "      response_mime_type=\"text/x.enum\",\n",
    "      response_schema=AnswerRating,\n",
    "  )\n",
    "  response = chat.send_message(\n",
    "      message=\"Convert the final score.\",\n",
    "      config=structured_output_config,\n",
    "  )\n",
    "  structured_eval = response.parsed\n",
    "\n",
    "  return verbose_eval, structured_eval\n",
    "\n",
    "\n",
    "text_eval, struct_eval = eval_answer(prompt=questions[0], ai_response=answer)\n",
    "display(Markdown(text_eval))\n",
    "print(struct_eval)"
   ]
  },
  {
   "cell_type": "markdown",
   "id": "45eb1d3d",
   "metadata": {
    "id": "S8x8LgTspwAu",
    "papermill": {
     "duration": 0.008241,
     "end_time": "2025-03-31T15:26:04.233043",
     "exception": false,
     "start_time": "2025-03-31T15:26:04.224802",
     "status": "completed"
    },
    "tags": []
   },
   "source": [
    "Now run the evaluation task in a loop. Note that the guidance instruction is hidden from the evaluation agent. If you passed the guidance prompt, the model would score based on whether it followed that guidance, but for this task the goal is to find the best overall result based on the user's question, not the developers instruction."
   ]
  },
  {
   "cell_type": "code",
   "execution_count": 13,
   "id": "9253f489",
   "metadata": {
    "execution": {
     "iopub.execute_input": "2025-03-31T15:26:04.251676Z",
     "iopub.status.busy": "2025-03-31T15:26:04.251244Z",
     "iopub.status.idle": "2025-03-31T15:27:26.014341Z",
     "shell.execute_reply": "2025-03-31T15:27:26.013030Z"
    },
    "id": "RZGzduJNmT9v",
    "outputId": "88a399e2-4feb-4ab9-daf5-4e8d4333964a",
    "papermill": {
     "duration": 81.775723,
     "end_time": "2025-03-31T15:27:26.017106",
     "exception": false,
     "start_time": "2025-03-31T15:26:04.241383",
     "status": "completed"
    },
    "tags": []
   },
   "outputs": [
    {
     "data": {
      "text/markdown": [
       "## How does the model perform on code tasks?"
      ],
      "text/plain": [
       "<IPython.core.display.Markdown object>"
      ]
     },
     "metadata": {},
     "output_type": "display_data"
    },
    {
     "name": "stdout",
     "output_type": "stream",
     "text": [
      "Terse: AnswerRating.VERY_GOOD\n",
      "Terse: AnswerRating.VERY_GOOD\n",
      "Moderate: AnswerRating.VERY_GOOD\n",
      "Moderate: AnswerRating.GOOD\n",
      "Cited: AnswerRating.VERY_GOOD\n",
      "Cited: AnswerRating.VERY_GOOD\n"
     ]
    },
    {
     "data": {
      "text/markdown": [
       "## How many layers does it have?"
      ],
      "text/plain": [
       "<IPython.core.display.Markdown object>"
      ]
     },
     "metadata": {},
     "output_type": "display_data"
    },
    {
     "name": "stdout",
     "output_type": "stream",
     "text": [
      "Terse: AnswerRating.OK\n",
      "Terse: AnswerRating.VERY_GOOD\n",
      "Moderate: AnswerRating.VERY_BAD\n",
      "Moderate: AnswerRating.VERY_BAD\n",
      "Cited: AnswerRating.VERY_GOOD\n",
      "Cited: AnswerRating.VERY_GOOD\n"
     ]
    }
   ],
   "source": [
    "import collections\n",
    "import itertools\n",
    "\n",
    "# Number of times to repeat each task in order to reduce error and calculate an average.\n",
    "# Increasing it will take longer but give better results, try 2 or 3 to start.\n",
    "NUM_ITERATIONS = 2\n",
    "\n",
    "scores = collections.defaultdict(int)\n",
    "responses = collections.defaultdict(list)\n",
    "\n",
    "for question in questions:\n",
    "  display(Markdown(f'## {question}'))\n",
    "  for guidance, guide_prompt in guidance_options.items():\n",
    "\n",
    "    for n in range(NUM_ITERATIONS):\n",
    "      # Generate a response.\n",
    "      answer = answer_question(question, guide_prompt)\n",
    "\n",
    "      # Evaluate the response (note that the guidance prompt is not passed).\n",
    "      written_eval, struct_eval = eval_answer(question, answer, n)\n",
    "      print(f'{guidance}: {struct_eval}')\n",
    "\n",
    "      # Save the numeric score.\n",
    "      scores[guidance] += int(struct_eval.value)\n",
    "\n",
    "      # Save the responses, in case you wish to inspect them.\n",
    "      responses[(guidance, question)].append((answer, written_eval))\n"
   ]
  },
  {
   "cell_type": "markdown",
   "id": "62ccc97a",
   "metadata": {
    "id": "93aGk7IP1DI_",
    "papermill": {
     "duration": 0.016583,
     "end_time": "2025-03-31T15:27:26.044761",
     "exception": false,
     "start_time": "2025-03-31T15:27:26.028178",
     "status": "completed"
    },
    "tags": []
   },
   "source": [
    "Now aggregate the scores to see how each prompt performed."
   ]
  },
  {
   "cell_type": "code",
   "execution_count": 14,
   "id": "47c4a1a6",
   "metadata": {
    "execution": {
     "iopub.execute_input": "2025-03-31T15:27:26.077770Z",
     "iopub.status.busy": "2025-03-31T15:27:26.076616Z",
     "iopub.status.idle": "2025-03-31T15:27:26.088030Z",
     "shell.execute_reply": "2025-03-31T15:27:26.086292Z"
    },
    "id": "1s2dgear1E0w",
    "outputId": "3c53519b-ab70-4417-de60-5d7c1da98cf6",
    "papermill": {
     "duration": 0.031143,
     "end_time": "2025-03-31T15:27:26.090664",
     "exception": false,
     "start_time": "2025-03-31T15:27:26.059521",
     "status": "completed"
    },
    "tags": []
   },
   "outputs": [
    {
     "name": "stdout",
     "output_type": "stream",
     "text": [
      "Terse: 4.50 - GOOD\n",
      "Moderate: 2.75 - OK\n",
      "Cited: 5.00 - VERY_GOOD\n"
     ]
    }
   ],
   "source": [
    "for guidance, score in scores.items():\n",
    "  avg_score = score / (NUM_ITERATIONS * len(questions))\n",
    "  nearest = AnswerRating(str(round(avg_score)))\n",
    "  print(f'{guidance}: {avg_score:.2f} - {nearest.name}')"
   ]
  },
  {
   "cell_type": "markdown",
   "id": "68800b59",
   "metadata": {
    "id": "kthCa72FdTsE",
    "papermill": {
     "duration": 0.009975,
     "end_time": "2025-03-31T15:27:26.112329",
     "exception": false,
     "start_time": "2025-03-31T15:27:26.102354",
     "status": "completed"
    },
    "tags": []
   },
   "source": [
    "### Pairwise evaluation\n",
    "\n",
    "The pointwise evaluation prompt used in the previous step has 5 levels of grading in the output. This may be too coarse for your system, or perhaps you wish to improve on a prompt that is already \"very good\".\n",
    "\n",
    "Another approach to evaluation is to compare two outputs against each other. This is pairwise evaluation, and is a key step in ranking and sorting algorithms, which allows you to use it to rank your prompts either instead of, or in addition to the pointwise approach.\n",
    "\n",
    "This step implements pairwise evaluation using the [pairwise QA quality prompt](https://cloud.google.com/vertex-ai/generative-ai/docs/models/metrics-templates#pairwise_question_answering_quality) from the Google Cloud docs."
   ]
  },
  {
   "cell_type": "code",
   "execution_count": 15,
   "id": "b48cafb6",
   "metadata": {
    "execution": {
     "iopub.execute_input": "2025-03-31T15:27:26.133677Z",
     "iopub.status.busy": "2025-03-31T15:27:26.133243Z",
     "iopub.status.idle": "2025-03-31T15:27:28.046700Z",
     "shell.execute_reply": "2025-03-31T15:27:28.045417Z"
    },
    "id": "wArYTv5n1uIo",
    "outputId": "4703ac58-ac63-4417-8f54-b4d86ccbd5b2",
    "papermill": {
     "duration": 1.926365,
     "end_time": "2025-03-31T15:27:28.048502",
     "exception": false,
     "start_time": "2025-03-31T15:27:26.122137",
     "status": "completed"
    },
    "tags": []
   },
   "outputs": [
    {
     "data": {
      "text/markdown": [
       "## Judge the responses individually\n",
       "STEP 1: Analyze Response A based on the question answering quality criteria:\n",
       "Response A provides a reasonable answer to the question but it is too concise and doesn't provide enough information.\n",
       "\n",
       "STEP 2: Analyze Response B based on the question answering quality criteria:\n",
       "Response B provides a detailed response with relevant evidence to support its claims, demonstrating a strong understanding of the model's performance on code tasks.\n",
       "\n",
       "## Compare the overall performance of Response A and Response B based on your analyses and assessment.\n",
       "Response B is much more thorough and detailed compared to response A. The information provided is also very valuable.\n",
       "\n",
       "## Output your preference of \"A\", \"SAME\" or \"B\" to the pairwise_choice field according to the Rating Rubric.\n",
       "B\n",
       "\n",
       "## Output your assessment reasoning in the explanation field.\n",
       "Response B provides a much more comprehensive and detailed answer compared to Response A, offering specific examples and data points to support its assessment of the model's performance on code tasks.\n"
      ],
      "text/plain": [
       "<IPython.core.display.Markdown object>"
      ]
     },
     "metadata": {},
     "output_type": "display_data"
    },
    {
     "name": "stdout",
     "output_type": "stream",
     "text": [
      "AnswerComparison.B\n"
     ]
    }
   ],
   "source": [
    "QA_PAIRWISE_PROMPT = \"\"\"\\\n",
    "# Instruction\n",
    "You are an expert evaluator. Your task is to evaluate the quality of the responses generated by two AI models. We will provide you with the user input and a pair of AI-generated responses (Response A and Response B). You should first read the user input carefully for analyzing the task, and then evaluate the quality of the responses based on the Criteria provided in the Evaluation section below.\n",
    "\n",
    "You will first judge responses individually, following the Rating Rubric and Evaluation Steps. Then you will give step-by-step explanations for your judgment, compare results to declare the winner based on the Rating Rubric and Evaluation Steps.\n",
    "\n",
    "# Evaluation\n",
    "## Metric Definition\n",
    "You will be assessing question answering quality, which measures the overall quality of the answer to the question in the user prompt. Pay special attention to length constraints, such as in X words or in Y sentences. The instruction for performing a question-answering task is provided in the user prompt. The response should not contain information that is not present in the context (if it is provided).\n",
    "\n",
    "## Criteria\n",
    "Instruction following: The response demonstrates a clear understanding of the question answering task instructions, satisfying all of the instruction's requirements.\n",
    "Groundedness: The response contains information included only in the context if the context is present in the user prompt. The response does not reference any outside information.\n",
    "Completeness: The response completely answers the question with sufficient detail.\n",
    "Fluent: The response is well-organized and easy to read.\n",
    "\n",
    "## Rating Rubric\n",
    "\"A\": Response A answers the given question as per the criteria better than response B.\n",
    "\"SAME\": Response A and B answers the given question equally well as per the criteria.\n",
    "\"B\": Response B answers the given question as per the criteria better than response A.\n",
    "\n",
    "## Evaluation Steps\n",
    "STEP 1: Analyze Response A based on the question answering quality criteria: Determine how well Response A fulfills the user requirements, is grounded in the context, is complete and fluent, and provides assessment according to the criterion.\n",
    "STEP 2: Analyze Response B based on the question answering quality criteria: Determine how well Response B fulfills the user requirements, is grounded in the context, is complete and fluent, and provides assessment according to the criterion.\n",
    "STEP 3: Compare the overall performance of Response A and Response B based on your analyses and assessment.\n",
    "STEP 4: Output your preference of \"A\", \"SAME\" or \"B\" to the pairwise_choice field according to the Rating Rubric.\n",
    "STEP 5: Output your assessment reasoning in the explanation field.\n",
    "\n",
    "# User Inputs and AI-generated Responses\n",
    "## User Inputs\n",
    "### Prompt\n",
    "{prompt}\n",
    "\n",
    "# AI-generated Response\n",
    "\n",
    "### Response A\n",
    "{baseline_model_response}\n",
    "\n",
    "### Response B\n",
    "{response}\n",
    "\"\"\"\n",
    "\n",
    "\n",
    "class AnswerComparison(enum.Enum):\n",
    "  A = 'A'\n",
    "  SAME = 'SAME'\n",
    "  B = 'B'\n",
    "\n",
    "\n",
    "@functools.cache\n",
    "def eval_pairwise(prompt, response_a, response_b, n=1):\n",
    "  \"\"\"Determine the better of two answers to the same prompt.\"\"\"\n",
    "\n",
    "  chat = client.chats.create(model='gemini-2.0-flash')\n",
    "\n",
    "  # Generate the full text response.\n",
    "  response = chat.send_message(\n",
    "      message=QA_PAIRWISE_PROMPT.format(\n",
    "          prompt=[prompt, document_file],\n",
    "          baseline_model_response=response_a,\n",
    "          response=response_b)\n",
    "  )\n",
    "  verbose_eval = response.text\n",
    "\n",
    "  # Coerce into the desired structure.\n",
    "  structured_output_config = types.GenerateContentConfig(\n",
    "      response_mime_type=\"text/x.enum\",\n",
    "      response_schema=AnswerComparison,\n",
    "  )\n",
    "  response = chat.send_message(\n",
    "      message=\"Convert the final score.\",\n",
    "      config=structured_output_config,\n",
    "  )\n",
    "  structured_eval = response.parsed\n",
    "\n",
    "  return verbose_eval, structured_eval\n",
    "\n",
    "\n",
    "question = questions[0]\n",
    "answer_a = answer_question(question, terse_guidance)\n",
    "answer_b = answer_question(question, cited_guidance)\n",
    "\n",
    "text_eval, struct_eval = eval_pairwise(\n",
    "    prompt=question,\n",
    "    response_a=answer_a,\n",
    "    response_b=answer_b,\n",
    ")\n",
    "\n",
    "display(Markdown(text_eval))\n",
    "print(struct_eval)"
   ]
  },
  {
   "cell_type": "markdown",
   "id": "68f8ad73",
   "metadata": {
    "id": "O74EgXn4oiqn",
    "papermill": {
     "duration": 0.009736,
     "end_time": "2025-03-31T15:27:28.068688",
     "exception": false,
     "start_time": "2025-03-31T15:27:28.058952",
     "status": "completed"
    },
    "tags": []
   },
   "source": [
    "With a pair-wise evaluator in place, the only thing required to rank prompts against each other is a comparator.\n",
    "\n",
    "This example implements the minimal comparators required for total ordering (`==` and `<`) and performs the comparison using  `n_iterations` evaluations over the set of `questions`."
   ]
  },
  {
   "cell_type": "code",
   "execution_count": 16,
   "id": "1c0fdc4e",
   "metadata": {
    "execution": {
     "iopub.execute_input": "2025-03-31T15:27:28.090634Z",
     "iopub.status.busy": "2025-03-31T15:27:28.090225Z",
     "iopub.status.idle": "2025-03-31T15:27:28.099998Z",
     "shell.execute_reply": "2025-03-31T15:27:28.099011Z"
    },
    "id": "Sr1PnWkZ33Cu",
    "papermill": {
     "duration": 0.022751,
     "end_time": "2025-03-31T15:27:28.101613",
     "exception": false,
     "start_time": "2025-03-31T15:27:28.078862",
     "status": "completed"
    },
    "tags": []
   },
   "outputs": [],
   "source": [
    "@functools.total_ordering\n",
    "class QAGuidancePrompt:\n",
    "  \"\"\"A question-answering guidance prompt or system instruction.\"\"\"\n",
    "\n",
    "  def __init__(self, prompt, questions, n_comparisons=NUM_ITERATIONS):\n",
    "    \"\"\"Create the prompt. Provide questions to evaluate against, and number of evals to perform.\"\"\"\n",
    "    self.prompt = prompt\n",
    "    self.questions = questions\n",
    "    self.n = n_comparisons\n",
    "\n",
    "  def __str__(self):\n",
    "    return self.prompt\n",
    "\n",
    "  def _compare_all(self, other):\n",
    "    \"\"\"Compare two prompts on all questions over n trials.\"\"\"\n",
    "    results = [self._compare_n(other, q) for q in questions]\n",
    "    mean = sum(results) / len(results)\n",
    "    return round(mean)\n",
    "\n",
    "  def _compare_n(self, other, question):\n",
    "    \"\"\"Compare two prompts on a question over n trials.\"\"\"\n",
    "    results = [self._compare(other, question, n) for n in range(self.n)]\n",
    "    mean = sum(results) / len(results)\n",
    "    return mean\n",
    "\n",
    "  def _compare(self, other, question, n=1):\n",
    "    \"\"\"Compare two prompts on a single question.\"\"\"\n",
    "    answer_a = answer_question(question, self.prompt)\n",
    "    answer_b = answer_question(question, other.prompt)\n",
    "\n",
    "    _, result = eval_pairwise(\n",
    "        prompt=question,\n",
    "        response_a=answer_a,\n",
    "        response_b=answer_b,\n",
    "        n=n,  # Cache buster\n",
    "    )\n",
    "    # print(f'q[{question}], a[{self.prompt[:20]}...], b[{other.prompt[:20]}...]: {result}')\n",
    "\n",
    "    # Convert the enum to the standard Python numeric comparison values.\n",
    "    if result is AnswerComparison.A:\n",
    "      return 1\n",
    "    elif result is AnswerComparison.B:\n",
    "      return -1\n",
    "    else:\n",
    "      return 0\n",
    "\n",
    "  def __eq__(self, other):\n",
    "    \"\"\"Equality check that performs pairwise evaluation.\"\"\"\n",
    "    if not isinstance(other, QAGuidancePrompt):\n",
    "      return NotImplemented\n",
    "\n",
    "    return self._compare_all(other) == 0\n",
    "\n",
    "  def __lt__(self, other):\n",
    "    \"\"\"Ordering check that performs pairwise evaluation.\"\"\"\n",
    "    if not isinstance(other, QAGuidancePrompt):\n",
    "      return NotImplemented\n",
    "\n",
    "    return self._compare_all(other) < 0\n"
   ]
  },
  {
   "cell_type": "markdown",
   "id": "549edea2",
   "metadata": {
    "id": "N-T7gpxy6cCI",
    "papermill": {
     "duration": 0.009729,
     "end_time": "2025-03-31T15:27:28.121836",
     "exception": false,
     "start_time": "2025-03-31T15:27:28.112107",
     "status": "completed"
    },
    "tags": []
   },
   "source": [
    "Now Python's sorting functions will \"just work\" on any `QAGuidancePrompt` instances. The `answer_question` and `eval_pairwise` functions are [memoized](https://en.wikipedia.org/wiki/Memoization) to avoid unnecessarily regenerating the same answers or evaluations, so you should see this complete quickly unless you have changed the questions, prompts or number of iterations from the earlier steps."
   ]
  },
  {
   "cell_type": "code",
   "execution_count": 17,
   "id": "47a72390",
   "metadata": {
    "execution": {
     "iopub.execute_input": "2025-03-31T15:27:28.144227Z",
     "iopub.status.busy": "2025-03-31T15:27:28.143766Z",
     "iopub.status.idle": "2025-03-31T15:28:34.705262Z",
     "shell.execute_reply": "2025-03-31T15:28:34.703854Z"
    },
    "id": "DAT1wp--sOfS",
    "outputId": "29c832c3-b3c2-4bfe-ce45-e7d2cd841000",
    "papermill": {
     "duration": 66.585655,
     "end_time": "2025-03-31T15:28:34.717613",
     "exception": false,
     "start_time": "2025-03-31T15:27:28.131958",
     "status": "completed"
    },
    "tags": []
   },
   "outputs": [
    {
     "name": "stdout",
     "output_type": "stream",
     "text": [
      "#1: Provide a thorough, detailed answer to the following question, citing the document and supplying additional background information as much as possible.\n",
      "---\n",
      "#2: Provide a brief answer to the following question, use a citation if necessary, but only enough to answer the question.\n",
      "---\n",
      "#3: Answer the following question in a single sentence, or as close to that as possible.\n"
     ]
    }
   ],
   "source": [
    "terse_prompt = QAGuidancePrompt(terse_guidance, questions)\n",
    "moderate_prompt = QAGuidancePrompt(moderate_guidance, questions)\n",
    "cited_prompt = QAGuidancePrompt(cited_guidance, questions)\n",
    "\n",
    "# Sort in reverse order, so that best is first\n",
    "sorted_results = sorted([terse_prompt, moderate_prompt, cited_prompt], reverse=True)\n",
    "for i, p in enumerate(sorted_results):\n",
    "  if i:\n",
    "    print('---')\n",
    "\n",
    "  print(f'#{i+1}: {p}')"
   ]
  },
  {
   "cell_type": "markdown",
   "id": "76d94480",
   "metadata": {
    "id": "xfphETryZqdo",
    "papermill": {
     "duration": 0.010362,
     "end_time": "2025-03-31T15:28:34.738357",
     "exception": false,
     "start_time": "2025-03-31T15:28:34.727995",
     "status": "completed"
    },
    "tags": []
   },
   "source": [
    "## Challenges\n",
    "\n",
    "### LLM limitations\n",
    "\n",
    "LLMs are known to have problems on certain tasks, and these challenges still persist when using LLMs as evaluators. For example, LLMs can struggle to count the number of characters in a word (this is a numerical problem, not a language problem), so an LLM evaluator will not be able to accurately evaluate this type of task. There are solutions available in some cases, such as connecting tools to handle problems unsuitable to a language model, but it's important that you understand possible limitations and include human evaluators to calibrate your evaluation system and determine a baseline.\n",
    "\n",
    "One reason that LLM evaluators work well is that all of the information they need is available in the input context, so the model only needs to attend to that information to produce the result. When customising evaluation prompts, or building your own systems, keep this in mind and ensure that you are not relying on \"internal knowledge\" from the model, or behaviour that might be better provided from a tool.\n",
    "\n",
    "### Improving confidence\n",
    "\n",
    "One way to improve the confidence of your evaluations is to include a diverse set of evaluators. That is, use the same prompts and outputs, but execute them on different models, like Gemini Flash and Pro, or even across different providers, like Gemini, Claude, ChatGPT and local models like Gemma or Qwen. This follows the same idea used earlier, where repeating trials to gather multiple \"opinions\" helps to [reduce error](https://en.wikipedia.org/wiki/Law_of_large_numbers), except by using different models the \"opinions\" will be more diverse.\n",
    "\n",
    "\n",
    "## Learn more\n",
    "\n",
    "To learn more about evaluation systems, check out [this guide](https://cloud.google.com/blog/products/ai-machine-learning/enhancing-llm-quality-and-interpretability-with-the-vertex-gen-ai-evaluation-service?e=48754805) focusing on evaluation using Google Cloud's Gen AI Evaluation Service.\n",
    "\n",
    "And be sure to read the **bonus whitepaper** on [Evaluating Large Language Models](https://services.google.com/fh/files/blogs/neurips_evaluation.pdf).\n",
    "\n",
    "*- [Mark McD](https://linktr.ee/markmcd)*"
   ]
  }
 ],
 "metadata": {
  "colab": {
   "provenance": [],
   "toc_visible": true
  },
  "kaggle": {
   "accelerator": "none",
   "dataSources": [],
   "dockerImageVersionId": 30918,
   "isGpuEnabled": false,
   "isInternetEnabled": true,
   "language": "python",
   "sourceType": "notebook"
  },
  "kernelspec": {
   "display_name": "Python 3",
   "language": "python",
   "name": "python3"
  },
  "language_info": {
   "codemirror_mode": {
    "name": "ipython",
    "version": 3
   },
   "file_extension": ".py",
   "mimetype": "text/x-python",
   "name": "python",
   "nbconvert_exporter": "python",
   "pygments_lexer": "ipython3",
   "version": "3.10.12"
  },
  "papermill": {
   "default_parameters": {},
   "duration": 207.00765,
   "end_time": "2025-03-31T15:28:35.472198",
   "environment_variables": {},
   "exception": null,
   "input_path": "__notebook__.ipynb",
   "output_path": "__notebook__.ipynb",
   "parameters": {},
   "start_time": "2025-03-31T15:25:08.464548",
   "version": "2.6.0"
  }
 },
 "nbformat": 4,
 "nbformat_minor": 5
}
