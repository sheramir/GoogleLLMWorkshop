{
 "cells": [
  {
   "cell_type": "markdown",
   "id": "aefc2178",
   "metadata": {
    "id": "b6e13eef3f5d",
    "papermill": {
     "duration": 0.008783,
     "end_time": "2025-04-03T04:06:58.070232",
     "exception": false,
     "start_time": "2025-04-03T04:06:58.061449",
     "status": "completed"
    },
    "tags": []
   },
   "source": [
    "##### Copyright 2025 Google LLC."
   ]
  },
  {
   "cell_type": "code",
   "execution_count": 1,
   "id": "4e2305f6",
   "metadata": {
    "cellView": "form",
    "execution": {
     "iopub.execute_input": "2025-04-03T04:06:58.087755Z",
     "iopub.status.busy": "2025-04-03T04:06:58.087222Z",
     "iopub.status.idle": "2025-04-03T04:06:58.092907Z",
     "shell.execute_reply": "2025-04-03T04:06:58.092080Z"
    },
    "id": "d6597b11df14",
    "jupyter": {
     "source_hidden": true
    },
    "papermill": {
     "duration": 0.016636,
     "end_time": "2025-04-03T04:06:58.094863",
     "exception": false,
     "start_time": "2025-04-03T04:06:58.078227",
     "status": "completed"
    },
    "tags": []
   },
   "outputs": [],
   "source": [
    "# @title Licensed under the Apache License, Version 2.0 (the \"License\");\n",
    "# you may not use this file except in compliance with the License.\n",
    "# You may obtain a copy of the License at\n",
    "#\n",
    "# https://www.apache.org/licenses/LICENSE-2.0\n",
    "#\n",
    "# Unless required by applicable law or agreed to in writing, software\n",
    "# distributed under the License is distributed on an \"AS IS\" BASIS,\n",
    "# WITHOUT WARRANTIES OR CONDITIONS OF ANY KIND, either express or implied.\n",
    "# See the License for the specific language governing permissions and\n",
    "# limitations under the License."
   ]
  },
  {
   "cell_type": "markdown",
   "id": "a8b300f3",
   "metadata": {
    "id": "4KDIFPAL2EnL",
    "papermill": {
     "duration": 0.007121,
     "end_time": "2025-04-03T04:06:58.109464",
     "exception": false,
     "start_time": "2025-04-03T04:06:58.102343",
     "status": "completed"
    },
    "tags": []
   },
   "source": [
    "# Day 4 - Fine tuning a custom model\n",
    "\n",
    "Welcome back to the Kaggle 5-day Generative AI course!\n",
    "\n",
    "In this notebook you will use the Gemini API to fine-tune a custom, task-specific model. Fine-tuning can be used for a variety of tasks from classic NLP problems like entity extraction or summarisation, to creative tasks like stylised generation. You will fine-tune a model to classify the category a piece of text (a newsgroup post) into the category it belongs to (the newsgroup name).\n",
    "\n",
    "This codelab walks you tuning a model with the API. [AI Studio](https://aistudio.google.com/app/tune) also supports creating new tuned models directly in the web UI, allowing you to quickly create and monitor models using data from Google Sheets, Drive or your own files.\n",
    "\n",
    "**Note**: We recommend doing this codelab first today. There may be a period of waiting while the model tunes, so if you start with this one, you can try the other codelab while you wait."
   ]
  },
  {
   "cell_type": "code",
   "execution_count": 2,
   "id": "ac44e6e7",
   "metadata": {
    "execution": {
     "iopub.execute_input": "2025-04-03T04:06:58.126828Z",
     "iopub.status.busy": "2025-04-03T04:06:58.126444Z",
     "iopub.status.idle": "2025-04-03T04:07:16.797278Z",
     "shell.execute_reply": "2025-04-03T04:07:16.795316Z"
    },
    "id": "9wafTyEH1_xF",
    "papermill": {
     "duration": 18.682179,
     "end_time": "2025-04-03T04:07:16.800075",
     "exception": false,
     "start_time": "2025-04-03T04:06:58.117896",
     "status": "completed"
    },
    "tags": []
   },
   "outputs": [],
   "source": [
    "!pip uninstall -qqy jupyterlab  # Remove unused conflicting packages\n",
    "!pip install -U -q \"google-genai==1.7.0\""
   ]
  },
  {
   "cell_type": "code",
   "execution_count": 3,
   "id": "ef1c6c82",
   "metadata": {
    "execution": {
     "iopub.execute_input": "2025-04-03T04:07:16.817399Z",
     "iopub.status.busy": "2025-04-03T04:07:16.816876Z",
     "iopub.status.idle": "2025-04-03T04:07:18.182042Z",
     "shell.execute_reply": "2025-04-03T04:07:18.180771Z"
    },
    "id": "T0CBG9xL2PvT",
    "papermill": {
     "duration": 1.37653,
     "end_time": "2025-04-03T04:07:18.184325",
     "exception": false,
     "start_time": "2025-04-03T04:07:16.807795",
     "status": "completed"
    },
    "tags": []
   },
   "outputs": [
    {
     "data": {
      "text/plain": [
       "'1.7.0'"
      ]
     },
     "execution_count": 3,
     "metadata": {},
     "output_type": "execute_result"
    }
   ],
   "source": [
    "from google import genai\n",
    "from google.genai import types\n",
    "\n",
    "genai.__version__"
   ]
  },
  {
   "cell_type": "markdown",
   "id": "a3330366",
   "metadata": {
    "id": "P4bYX2T72ScK",
    "papermill": {
     "duration": 0.007077,
     "end_time": "2025-04-03T04:07:18.198917",
     "exception": false,
     "start_time": "2025-04-03T04:07:18.191840",
     "status": "completed"
    },
    "tags": []
   },
   "source": [
    "### Set up your API key\n",
    "\n",
    "To run the following cell, your API key must be stored it in a [Kaggle secret](https://www.kaggle.com/discussions/product-feedback/114053) named `GOOGLE_API_KEY`.\n",
    "\n",
    "If you don't already have an API key, you can grab one from [AI Studio](https://aistudio.google.com/app/apikey). You can find [detailed instructions in the docs](https://ai.google.dev/gemini-api/docs/api-key).\n",
    "\n",
    "To make the key available through Kaggle secrets, choose `Secrets` from the `Add-ons` menu and follow the instructions to add your key or enable it for this notebook."
   ]
  },
  {
   "cell_type": "code",
   "execution_count": 4,
   "id": "9c859bd8",
   "metadata": {
    "execution": {
     "iopub.execute_input": "2025-04-03T04:07:18.215753Z",
     "iopub.status.busy": "2025-04-03T04:07:18.215182Z",
     "iopub.status.idle": "2025-04-03T04:07:18.680335Z",
     "shell.execute_reply": "2025-04-03T04:07:18.679161Z"
    },
    "id": "VuJPY3GK2SLZ",
    "papermill": {
     "duration": 0.476468,
     "end_time": "2025-04-03T04:07:18.683158",
     "exception": false,
     "start_time": "2025-04-03T04:07:18.206690",
     "status": "completed"
    },
    "tags": []
   },
   "outputs": [],
   "source": [
    "from kaggle_secrets import UserSecretsClient\n",
    "\n",
    "GOOGLE_API_KEY = UserSecretsClient().get_secret(\"GOOGLE_API_KEY\")\n",
    "\n",
    "client = genai.Client(api_key=GOOGLE_API_KEY)"
   ]
  },
  {
   "cell_type": "markdown",
   "id": "4e8ffb91",
   "metadata": {
    "id": "CqVA5QFO6n4z",
    "papermill": {
     "duration": 0.00717,
     "end_time": "2025-04-03T04:07:18.698117",
     "exception": false,
     "start_time": "2025-04-03T04:07:18.690947",
     "status": "completed"
    },
    "tags": []
   },
   "source": [
    "### Explore available models\n",
    "\n",
    "You will be using the [`TunedModel.create`](https://ai.google.dev/api/tuning#method:-tunedmodels.create) API method to start the fine-tuning job and create your custom model. Find a model that supports it through the [`models.list`](https://ai.google.dev/api/models#method:-models.list) endpoint. You can also find more information about tuning models in [the model tuning docs](https://ai.google.dev/gemini-api/docs/model-tuning/tutorial?lang=python)."
   ]
  },
  {
   "cell_type": "code",
   "execution_count": 5,
   "id": "e698b3dc",
   "metadata": {
    "execution": {
     "iopub.execute_input": "2025-04-03T04:07:18.714535Z",
     "iopub.status.busy": "2025-04-03T04:07:18.714138Z",
     "iopub.status.idle": "2025-04-03T04:07:19.657187Z",
     "shell.execute_reply": "2025-04-03T04:07:19.656003Z"
    },
    "id": "coEacWAB6o0G",
    "papermill": {
     "duration": 0.953919,
     "end_time": "2025-04-03T04:07:19.659512",
     "exception": false,
     "start_time": "2025-04-03T04:07:18.705593",
     "status": "completed"
    },
    "tags": []
   },
   "outputs": [
    {
     "name": "stdout",
     "output_type": "stream",
     "text": [
      "models/gemini-1.5-flash-001-tuning\n"
     ]
    }
   ],
   "source": [
    "for model in client.models.list():\n",
    "    if \"createTunedModel\" in model.supported_actions:\n",
    "        print(model.name)"
   ]
  },
  {
   "cell_type": "markdown",
   "id": "8247e2ef",
   "metadata": {
    "id": "peFm0w_0c1CO",
    "papermill": {
     "duration": 0.007226,
     "end_time": "2025-04-03T04:07:19.674694",
     "exception": false,
     "start_time": "2025-04-03T04:07:19.667468",
     "status": "completed"
    },
    "tags": []
   },
   "source": [
    "## Download the dataset\n",
    "\n",
    "In this activity, you will use the same newsgroups dataset that [you used to train a classifier in Keras](https://www.kaggle.com/code/markishere/day-2-classifying-embeddings-with-keras/). In this example you will use a fine-tuned Gemini model to achieve the same goal.\n",
    "\n",
    "The [20 Newsgroups Text Dataset](https://scikit-learn.org/0.19/datasets/twenty_newsgroups.html) contains 18,000 newsgroups posts on 20 topics divided into training and test sets."
   ]
  },
  {
   "cell_type": "code",
   "execution_count": 6,
   "id": "380c2b1a",
   "metadata": {
    "execution": {
     "iopub.execute_input": "2025-04-03T04:07:19.691232Z",
     "iopub.status.busy": "2025-04-03T04:07:19.690859Z",
     "iopub.status.idle": "2025-04-03T04:07:43.817853Z",
     "shell.execute_reply": "2025-04-03T04:07:43.816665Z"
    },
    "id": "bX_kpgnQ9b-Z",
    "papermill": {
     "duration": 24.137845,
     "end_time": "2025-04-03T04:07:43.820176",
     "exception": false,
     "start_time": "2025-04-03T04:07:19.682331",
     "status": "completed"
    },
    "tags": []
   },
   "outputs": [
    {
     "data": {
      "text/plain": [
       "['alt.atheism',\n",
       " 'comp.graphics',\n",
       " 'comp.os.ms-windows.misc',\n",
       " 'comp.sys.ibm.pc.hardware',\n",
       " 'comp.sys.mac.hardware',\n",
       " 'comp.windows.x',\n",
       " 'misc.forsale',\n",
       " 'rec.autos',\n",
       " 'rec.motorcycles',\n",
       " 'rec.sport.baseball',\n",
       " 'rec.sport.hockey',\n",
       " 'sci.crypt',\n",
       " 'sci.electronics',\n",
       " 'sci.med',\n",
       " 'sci.space',\n",
       " 'soc.religion.christian',\n",
       " 'talk.politics.guns',\n",
       " 'talk.politics.mideast',\n",
       " 'talk.politics.misc',\n",
       " 'talk.religion.misc']"
      ]
     },
     "execution_count": 6,
     "metadata": {},
     "output_type": "execute_result"
    }
   ],
   "source": [
    "from sklearn.datasets import fetch_20newsgroups\n",
    "\n",
    "newsgroups_train = fetch_20newsgroups(subset=\"train\")\n",
    "newsgroups_test = fetch_20newsgroups(subset=\"test\")\n",
    "\n",
    "# View list of class names for dataset\n",
    "newsgroups_train.target_names"
   ]
  },
  {
   "cell_type": "markdown",
   "id": "e7b86c04",
   "metadata": {
    "id": "ipafe6ptZFjt",
    "papermill": {
     "duration": 0.008123,
     "end_time": "2025-04-03T04:07:43.836271",
     "exception": false,
     "start_time": "2025-04-03T04:07:43.828148",
     "status": "completed"
    },
    "tags": []
   },
   "source": [
    "Here's what a single row looks like."
   ]
  },
  {
   "cell_type": "code",
   "execution_count": 7,
   "id": "ab784aba",
   "metadata": {
    "execution": {
     "iopub.execute_input": "2025-04-03T04:07:43.853449Z",
     "iopub.status.busy": "2025-04-03T04:07:43.853072Z",
     "iopub.status.idle": "2025-04-03T04:07:43.858426Z",
     "shell.execute_reply": "2025-04-03T04:07:43.857354Z"
    },
    "id": "EtEXcdT39hCB",
    "papermill": {
     "duration": 0.016734,
     "end_time": "2025-04-03T04:07:43.860710",
     "exception": false,
     "start_time": "2025-04-03T04:07:43.843976",
     "status": "completed"
    },
    "tags": []
   },
   "outputs": [
    {
     "name": "stdout",
     "output_type": "stream",
     "text": [
      "From: lerxst@wam.umd.edu (where's my thing)\n",
      "Subject: WHAT car is this!?\n",
      "Nntp-Posting-Host: rac3.wam.umd.edu\n",
      "Organization: University of Maryland, College Park\n",
      "Lines: 15\n",
      "\n",
      " I was wondering if anyone out there could enlighten me on this car I saw\n",
      "the other day. It was a 2-door sports car, looked to be from the late 60s/\n",
      "early 70s. It was called a Bricklin. The doors were really small. In addition,\n",
      "the front bumper was separate from the rest of the body. This is \n",
      "all I know. If anyone can tellme a model name, engine specs, years\n",
      "of production, where this car is made, history, or whatever info you\n",
      "have on this funky looking car, please e-mail.\n",
      "\n",
      "Thanks,\n",
      "- IL\n",
      "   ---- brought to you by your neighborhood Lerxst ----\n",
      "\n",
      "\n",
      "\n",
      "\n",
      "\n"
     ]
    }
   ],
   "source": [
    "print(newsgroups_train.data[0])"
   ]
  },
  {
   "cell_type": "markdown",
   "id": "237940c5",
   "metadata": {
    "id": "03lDs1O4ZQ0-",
    "papermill": {
     "duration": 0.007877,
     "end_time": "2025-04-03T04:07:43.877190",
     "exception": false,
     "start_time": "2025-04-03T04:07:43.869313",
     "status": "completed"
    },
    "tags": []
   },
   "source": [
    "## Prepare the dataset\n",
    "\n",
    "You'll use the same pre-processing code you used for the custom model on day 2. This pre-processing removes personal information, which can be used to \"shortcut\" to known users of a forum, and formats the text to appear a bit more like regular text and less like a newsgroup post (e.g. by removing the mail headers). This normalisation allows the model to generalise to regular text and not over-depend on specific fields. If your input data is always going to be newsgroup posts, it may be helpful to leave this structure in place if they provide genuine signals."
   ]
  },
  {
   "cell_type": "code",
   "execution_count": 8,
   "id": "052436ed",
   "metadata": {
    "execution": {
     "iopub.execute_input": "2025-04-03T04:07:43.894126Z",
     "iopub.status.busy": "2025-04-03T04:07:43.893750Z",
     "iopub.status.idle": "2025-04-03T04:07:44.730588Z",
     "shell.execute_reply": "2025-04-03T04:07:44.729303Z"
    },
    "id": "IoNYTxpoZgB0",
    "papermill": {
     "duration": 0.848215,
     "end_time": "2025-04-03T04:07:44.733094",
     "exception": false,
     "start_time": "2025-04-03T04:07:43.884879",
     "status": "completed"
    },
    "tags": []
   },
   "outputs": [],
   "source": [
    "import email\n",
    "import re\n",
    "\n",
    "import pandas as pd\n",
    "\n",
    "\n",
    "def preprocess_newsgroup_row(data):\n",
    "    # Extract only the subject and body\n",
    "    msg = email.message_from_string(data)\n",
    "    text = f\"{msg['Subject']}\\n\\n{msg.get_payload()}\"\n",
    "    # Strip any remaining email addresses\n",
    "    text = re.sub(r\"[\\w\\.-]+@[\\w\\.-]+\", \"\", text)\n",
    "    # Truncate the text to fit within the input limits\n",
    "    text = text[:40000]\n",
    "\n",
    "    return text\n",
    "\n",
    "\n",
    "def preprocess_newsgroup_data(newsgroup_dataset):\n",
    "    # Put data points into dataframe\n",
    "    df = pd.DataFrame(\n",
    "        {\"Text\": newsgroup_dataset.data, \"Label\": newsgroup_dataset.target}\n",
    "    )\n",
    "    # Clean up the text\n",
    "    df[\"Text\"] = df[\"Text\"].apply(preprocess_newsgroup_row)\n",
    "    # Match label to target name index\n",
    "    df[\"Class Name\"] = df[\"Label\"].map(lambda l: newsgroup_dataset.target_names[l])\n",
    "\n",
    "    return df"
   ]
  },
  {
   "cell_type": "code",
   "execution_count": 9,
   "id": "9dd4d14e",
   "metadata": {
    "execution": {
     "iopub.execute_input": "2025-04-03T04:07:44.750477Z",
     "iopub.status.busy": "2025-04-03T04:07:44.749880Z",
     "iopub.status.idle": "2025-04-03T04:07:48.513849Z",
     "shell.execute_reply": "2025-04-03T04:07:48.512321Z"
    },
    "id": "kvOsUSRWaW4g",
    "papermill": {
     "duration": 3.776562,
     "end_time": "2025-04-03T04:07:48.517449",
     "exception": false,
     "start_time": "2025-04-03T04:07:44.740887",
     "status": "completed"
    },
    "tags": []
   },
   "outputs": [
    {
     "data": {
      "text/html": [
       "<div>\n",
       "<style scoped>\n",
       "    .dataframe tbody tr th:only-of-type {\n",
       "        vertical-align: middle;\n",
       "    }\n",
       "\n",
       "    .dataframe tbody tr th {\n",
       "        vertical-align: top;\n",
       "    }\n",
       "\n",
       "    .dataframe thead th {\n",
       "        text-align: right;\n",
       "    }\n",
       "</style>\n",
       "<table border=\"1\" class=\"dataframe\">\n",
       "  <thead>\n",
       "    <tr style=\"text-align: right;\">\n",
       "      <th></th>\n",
       "      <th>Text</th>\n",
       "      <th>Label</th>\n",
       "      <th>Class Name</th>\n",
       "    </tr>\n",
       "  </thead>\n",
       "  <tbody>\n",
       "    <tr>\n",
       "      <th>0</th>\n",
       "      <td>WHAT car is this!?\\n\\n I was wondering if anyo...</td>\n",
       "      <td>7</td>\n",
       "      <td>rec.autos</td>\n",
       "    </tr>\n",
       "    <tr>\n",
       "      <th>1</th>\n",
       "      <td>SI Clock Poll - Final Call\\n\\nA fair number of...</td>\n",
       "      <td>4</td>\n",
       "      <td>comp.sys.mac.hardware</td>\n",
       "    </tr>\n",
       "    <tr>\n",
       "      <th>2</th>\n",
       "      <td>PB questions...\\n\\nwell folks, my mac plus fin...</td>\n",
       "      <td>4</td>\n",
       "      <td>comp.sys.mac.hardware</td>\n",
       "    </tr>\n",
       "    <tr>\n",
       "      <th>3</th>\n",
       "      <td>Re: Weitek P9000 ?\\n\\nRobert J.C. Kyanko () wr...</td>\n",
       "      <td>1</td>\n",
       "      <td>comp.graphics</td>\n",
       "    </tr>\n",
       "    <tr>\n",
       "      <th>4</th>\n",
       "      <td>Re: Shuttle Launch Question\\n\\nFrom article &lt;&gt;...</td>\n",
       "      <td>14</td>\n",
       "      <td>sci.space</td>\n",
       "    </tr>\n",
       "  </tbody>\n",
       "</table>\n",
       "</div>"
      ],
      "text/plain": [
       "                                                Text  Label  \\\n",
       "0  WHAT car is this!?\\n\\n I was wondering if anyo...      7   \n",
       "1  SI Clock Poll - Final Call\\n\\nA fair number of...      4   \n",
       "2  PB questions...\\n\\nwell folks, my mac plus fin...      4   \n",
       "3  Re: Weitek P9000 ?\\n\\nRobert J.C. Kyanko () wr...      1   \n",
       "4  Re: Shuttle Launch Question\\n\\nFrom article <>...     14   \n",
       "\n",
       "              Class Name  \n",
       "0              rec.autos  \n",
       "1  comp.sys.mac.hardware  \n",
       "2  comp.sys.mac.hardware  \n",
       "3          comp.graphics  \n",
       "4              sci.space  "
      ]
     },
     "execution_count": 9,
     "metadata": {},
     "output_type": "execute_result"
    }
   ],
   "source": [
    "# Apply preprocessing to training and test datasets\n",
    "df_train = preprocess_newsgroup_data(newsgroups_train)\n",
    "df_test = preprocess_newsgroup_data(newsgroups_test)\n",
    "\n",
    "df_train.head()"
   ]
  },
  {
   "cell_type": "markdown",
   "id": "6ac21500",
   "metadata": {
    "id": "XSKcj5WtadaR",
    "papermill": {
     "duration": 0.007891,
     "end_time": "2025-04-03T04:07:48.537097",
     "exception": false,
     "start_time": "2025-04-03T04:07:48.529206",
     "status": "completed"
    },
    "tags": []
   },
   "source": [
    "Now sample the data. You will keep 50 rows for each category for training. Note that this is even fewer than the Keras example, as this technique (parameter-efficient fine-tuning, or PEFT) updates a relatively small number of parameters and does not require training a new model or updating the large model."
   ]
  },
  {
   "cell_type": "code",
   "execution_count": 10,
   "id": "5ceab828",
   "metadata": {
    "execution": {
     "iopub.execute_input": "2025-04-03T04:07:48.554860Z",
     "iopub.status.busy": "2025-04-03T04:07:48.554502Z",
     "iopub.status.idle": "2025-04-03T04:07:48.600639Z",
     "shell.execute_reply": "2025-04-03T04:07:48.599538Z"
    },
    "id": "0t9Xu6X5akkt",
    "papermill": {
     "duration": 0.057891,
     "end_time": "2025-04-03T04:07:48.603011",
     "exception": false,
     "start_time": "2025-04-03T04:07:48.545120",
     "status": "completed"
    },
    "tags": []
   },
   "outputs": [],
   "source": [
    "def sample_data(df, num_samples, classes_to_keep):\n",
    "    # Sample rows, selecting num_samples of each Label.\n",
    "    df = (\n",
    "        df.groupby(\"Label\")[df.columns]\n",
    "        .apply(lambda x: x.sample(num_samples))\n",
    "        .reset_index(drop=True)\n",
    "    )\n",
    "\n",
    "    df = df[df[\"Class Name\"].str.contains(classes_to_keep)]\n",
    "    df[\"Class Name\"] = df[\"Class Name\"].astype(\"category\")\n",
    "\n",
    "    return df\n",
    "\n",
    "\n",
    "TRAIN_NUM_SAMPLES = 50\n",
    "TEST_NUM_SAMPLES = 10\n",
    "# Keep rec.* and sci.*\n",
    "CLASSES_TO_KEEP = \"^rec|^sci\"\n",
    "\n",
    "df_train = sample_data(df_train, TRAIN_NUM_SAMPLES, CLASSES_TO_KEEP)\n",
    "df_test = sample_data(df_test, TEST_NUM_SAMPLES, CLASSES_TO_KEEP)"
   ]
  },
  {
   "cell_type": "markdown",
   "id": "f2e49179",
   "metadata": {
    "papermill": {
     "duration": 0.007773,
     "end_time": "2025-04-03T04:07:48.619286",
     "exception": false,
     "start_time": "2025-04-03T04:07:48.611513",
     "status": "completed"
    },
    "tags": []
   },
   "source": [
    "## Evaluate baseline performance\n",
    "\n",
    "Before you start tuning a model, it's good practice to perform an evaluation on the available models to ensure you can measure how much the tuning helps.\n",
    "\n",
    "First identify a single sample row to use for visual inspection."
   ]
  },
  {
   "cell_type": "code",
   "execution_count": 11,
   "id": "80e0f5d7",
   "metadata": {
    "execution": {
     "iopub.execute_input": "2025-04-03T04:07:48.638769Z",
     "iopub.status.busy": "2025-04-03T04:07:48.638297Z",
     "iopub.status.idle": "2025-04-03T04:07:48.648841Z",
     "shell.execute_reply": "2025-04-03T04:07:48.645392Z"
    },
    "papermill": {
     "duration": 0.027538,
     "end_time": "2025-04-03T04:07:48.655347",
     "exception": false,
     "start_time": "2025-04-03T04:07:48.627809",
     "status": "completed"
    },
    "tags": []
   },
   "outputs": [
    {
     "name": "stdout",
     "output_type": "stream",
     "text": [
      "Need info on 88-89 Bonneville\n",
      "\n",
      "\n",
      " I am a little confused on all of the models of the 88-89 bonnevilles.\n",
      "I have heard of the LE SE LSE SSE SSEI. Could someone tell me the\n",
      "differences are far as features or performance. I am also curious to\n",
      "know what the book value is for prefereably the 89 model. And how much\n",
      "less than book value can you usually get them for. In other words how\n",
      "much are they in demand this time of year. I have heard that the mid-spring\n",
      "early summer is the best time to buy.\n",
      "\n",
      "\t\t\tNeil Gandler\n",
      "\n",
      "---\n",
      "Label: rec.autos\n"
     ]
    }
   ],
   "source": [
    "sample_idx = 0\n",
    "sample_row = preprocess_newsgroup_row(newsgroups_test.data[sample_idx])\n",
    "sample_label = newsgroups_test.target_names[newsgroups_test.target[sample_idx]]\n",
    "\n",
    "print(sample_row)\n",
    "print('---')\n",
    "print('Label:', sample_label)"
   ]
  },
  {
   "cell_type": "markdown",
   "id": "39b54e9f",
   "metadata": {
    "papermill": {
     "duration": 0.00756,
     "end_time": "2025-04-03T04:07:48.671114",
     "exception": false,
     "start_time": "2025-04-03T04:07:48.663554",
     "status": "completed"
    },
    "tags": []
   },
   "source": [
    "Passing the text directly in as a prompt does not yield the desired results. The model will attempt to respond to the message."
   ]
  },
  {
   "cell_type": "code",
   "execution_count": 12,
   "id": "f9e10cdf",
   "metadata": {
    "execution": {
     "iopub.execute_input": "2025-04-03T04:07:48.688407Z",
     "iopub.status.busy": "2025-04-03T04:07:48.688005Z",
     "iopub.status.idle": "2025-04-03T04:07:53.494081Z",
     "shell.execute_reply": "2025-04-03T04:07:53.492983Z"
    },
    "papermill": {
     "duration": 4.817618,
     "end_time": "2025-04-03T04:07:53.496574",
     "exception": false,
     "start_time": "2025-04-03T04:07:48.678956",
     "status": "completed"
    },
    "tags": []
   },
   "outputs": [
    {
     "name": "stdout",
     "output_type": "stream",
     "text": [
      "You're right, the Bonneville model lineup for 1988-1989 was a bit confusing! Here's a breakdown to help you understand the differences:\n",
      "\n",
      "**1988-1989 Bonneville Trim Levels:**\n",
      "\n",
      "* **LE (Luxury Edition):**  The base model. It came with standard features like power steering, power brakes, air conditioning, and a basic AM/FM radio. \n",
      "* **SE (Special Edition):**  This was an upgraded version of the LE, adding features like cloth upholstery, a digital instrument cluster, and a slightly nicer interior.\n",
      "* **LSE (Luxury Special Edition):**  This was a step above the SE, offering features like leather upholstery, a premium sound system, and often had some additional exterior trim pieces.\n",
      "* **SSE (Sport Sedan Edition):** This trim was geared towards performance. It included a more powerful 3.8L V6 engine (versus the standard 3.8L), special suspension tuning, and sportier styling.\n",
      "* **SSEi (Sport Sedan Edition - Injection):** This was the top-of-the-line Bonneville. It featured a fuel-injected 3.8L V6,  the same suspension enhancements as the SSE, and an even more aggressive look with a rear spoiler, unique wheels, and a body kit.\n",
      "\n",
      "**Book Value & Market Demand:**\n",
      "\n",
      "* **Book Value:**  Book value depends heavily on the specific model year, mileage, condition, and options. Websites like Kelley Blue Book (KBB) and Edmunds are excellent resources for getting an estimate. Keep in mind, these are just estimates, and the actual value can fluctuate.\n",
      "* **Negotiation:** You can often get a used car for less than book value, especially if it's older and has higher mileage.  However, the \"best time to buy\" varies depending on the market. It's always good to shop around and compare prices from different sellers.\n",
      "\n",
      "**Additional Information:**\n",
      "\n",
      "* **Engine:**  The 1988-1989 Bonnevilles were powered by either a 3.8L V6 or a 3.8L V6 with fuel injection (SSEi). \n",
      "* **Transmission:**  They came with a 4-speed automatic transmission.\n",
      "* **Reliability:**  The Bonnevilles of this era are generally considered reliable cars, though some common issues include electrical problems and suspension wear. \n",
      "* **Parts Availability:** Parts are still readily available for these cars, but some specialty parts may be harder to find.\n",
      "\n",
      "**Tips for Buying a Used Bonneville:**\n",
      "\n",
      "* **Thorough Inspection:** Have a mechanic inspect the car before you buy it.\n",
      "* **Check for Rust:** Look for signs of rust, especially around the wheel wells and undercarriage.\n",
      "* **Test Drive:** Test drive the car thoroughly to ensure it runs smoothly.\n",
      "* **Research:**  Read owner reviews and forums to get insights into common problems and potential maintenance costs.\n",
      "* **Negotiate:** Don't be afraid to negotiate the price with the seller. \n",
      "\n",
      "If you have specific questions about a particular 1988-1989 Bonneville model, feel free to ask! \n",
      "\n"
     ]
    }
   ],
   "source": [
    "response = client.models.generate_content(\n",
    "    model=\"gemini-1.5-flash-001\", contents=sample_row)\n",
    "print(response.text)"
   ]
  },
  {
   "cell_type": "markdown",
   "id": "46e01a0c",
   "metadata": {
    "papermill": {
     "duration": 0.007731,
     "end_time": "2025-04-03T04:07:53.512494",
     "exception": false,
     "start_time": "2025-04-03T04:07:53.504763",
     "status": "completed"
    },
    "tags": []
   },
   "source": [
    "You can use the prompt engineering techniques you have learned this week to induce the model to perform the desired task. Try some of your own ideas and see what is effective, or check out the following cells for different approaches. Note that they have different levels of effectiveness!"
   ]
  },
  {
   "cell_type": "code",
   "execution_count": 13,
   "id": "ea090919",
   "metadata": {
    "execution": {
     "iopub.execute_input": "2025-04-03T04:07:53.531204Z",
     "iopub.status.busy": "2025-04-03T04:07:53.530803Z",
     "iopub.status.idle": "2025-04-03T04:07:55.059654Z",
     "shell.execute_reply": "2025-04-03T04:07:55.058074Z"
    },
    "papermill": {
     "duration": 1.541439,
     "end_time": "2025-04-03T04:07:55.062117",
     "exception": false,
     "start_time": "2025-04-03T04:07:53.520678",
     "status": "completed"
    },
    "tags": []
   },
   "outputs": [
    {
     "name": "stdout",
     "output_type": "stream",
     "text": [
      "This message most likely originates from a **Buick-related newsgroup**, such as:\n",
      "\n",
      "* **alt.autos.buick** \n",
      "* **rec.autos.buick**\n",
      "\n",
      "These groups are dedicated to discussions about Buick vehicles, including the Bonneville. \n",
      "\n"
     ]
    }
   ],
   "source": [
    "# Ask the model directly in a zero-shot prompt.\n",
    "\n",
    "prompt = \"From what newsgroup does the following message originate?\"\n",
    "baseline_response = client.models.generate_content(\n",
    "    model=\"gemini-1.5-flash-001\",\n",
    "    contents=[prompt, sample_row])\n",
    "print(baseline_response.text)"
   ]
  },
  {
   "cell_type": "markdown",
   "id": "e77f419c",
   "metadata": {
    "papermill": {
     "duration": 0.007923,
     "end_time": "2025-04-03T04:07:55.078424",
     "exception": false,
     "start_time": "2025-04-03T04:07:55.070501",
     "status": "completed"
    },
    "tags": []
   },
   "source": [
    "This technique still produces quite a verbose response. You could try and parse out the relevant text, or refine the prompt even further."
   ]
  },
  {
   "cell_type": "code",
   "execution_count": 14,
   "id": "48bf293c",
   "metadata": {
    "execution": {
     "iopub.execute_input": "2025-04-03T04:07:55.096622Z",
     "iopub.status.busy": "2025-04-03T04:07:55.096205Z",
     "iopub.status.idle": "2025-04-03T04:07:55.731701Z",
     "shell.execute_reply": "2025-04-03T04:07:55.730514Z"
    },
    "papermill": {
     "duration": 0.647159,
     "end_time": "2025-04-03T04:07:55.733844",
     "exception": false,
     "start_time": "2025-04-03T04:07:55.086685",
     "status": "completed"
    },
    "tags": []
   },
   "outputs": [
    {
     "name": "stdout",
     "output_type": "stream",
     "text": [
      "rec.autos.misc\n",
      "\n",
      "Incorrect.\n"
     ]
    }
   ],
   "source": [
    "from google.api_core import retry\n",
    "\n",
    "# You can use a system instruction to do more direct prompting, and get a\n",
    "# more succinct answer.\n",
    "\n",
    "system_instruct = \"\"\"\n",
    "You are a classification service. You will be passed input that represents\n",
    "a newsgroup post and you must respond with the newsgroup from which the post\n",
    "originates.\n",
    "\"\"\"\n",
    "\n",
    "# Define a helper to retry when per-minute quota is reached.\n",
    "is_retriable = lambda e: (isinstance(e, genai.errors.APIError) and e.code in {429, 503})\n",
    "\n",
    "# If you want to evaluate your own technique, replace this body of this function\n",
    "# with your model, prompt and other code and return the predicted answer.\n",
    "@retry.Retry(predicate=is_retriable)\n",
    "def predict_label(post: str) -> str:\n",
    "    response = client.models.generate_content(\n",
    "        model=\"gemini-1.5-flash-001\",\n",
    "        config=types.GenerateContentConfig(\n",
    "            system_instruction=system_instruct),\n",
    "        contents=post)\n",
    "\n",
    "    rc = response.candidates[0]\n",
    "\n",
    "    # Any errors, filters, recitation, etc we can mark as a general error\n",
    "    if rc.finish_reason.name != \"STOP\":\n",
    "        return \"(error)\"\n",
    "    else:\n",
    "        # Clean up the response.\n",
    "        return response.text.strip()\n",
    "\n",
    "\n",
    "prediction = predict_label(sample_row)\n",
    "\n",
    "print(prediction)\n",
    "print()\n",
    "print(\"Correct!\" if prediction == sample_label else \"Incorrect.\")"
   ]
  },
  {
   "cell_type": "markdown",
   "id": "4b9c6711",
   "metadata": {
    "papermill": {
     "duration": 0.00785,
     "end_time": "2025-04-03T04:07:55.750486",
     "exception": false,
     "start_time": "2025-04-03T04:07:55.742636",
     "status": "completed"
    },
    "tags": []
   },
   "source": [
    "Now run a short evaluation using the function defined above. The test set is further sampled to ensure the experiment runs smoothly on the API's free tier. In practice you would evaluate over the whole set."
   ]
  },
  {
   "cell_type": "code",
   "execution_count": 15,
   "id": "bd9da225",
   "metadata": {
    "execution": {
     "iopub.execute_input": "2025-04-03T04:07:55.769012Z",
     "iopub.status.busy": "2025-04-03T04:07:55.768082Z",
     "iopub.status.idle": "2025-04-03T04:08:08.955165Z",
     "shell.execute_reply": "2025-04-03T04:08:08.953964Z"
    },
    "papermill": {
     "duration": 13.198825,
     "end_time": "2025-04-03T04:08:08.957479",
     "exception": false,
     "start_time": "2025-04-03T04:07:55.758654",
     "status": "completed"
    },
    "tags": []
   },
   "outputs": [
    {
     "data": {
      "application/vnd.jupyter.widget-view+json": {
       "model_id": "2f86651739d745b19bf206880cdf4622",
       "version_major": 2,
       "version_minor": 0
      },
      "text/plain": [
       "Output()"
      ]
     },
     "metadata": {},
     "output_type": "display_data"
    },
    {
     "data": {
      "text/html": [
       "<pre style=\"white-space:pre;overflow-x:auto;line-height:normal;font-family:Menlo,'DejaVu Sans Mono',consolas,'Courier New',monospace\"></pre>\n"
      ],
      "text/plain": []
     },
     "metadata": {},
     "output_type": "display_data"
    },
    {
     "data": {
      "text/html": [
       "<pre style=\"white-space:pre;overflow-x:auto;line-height:normal;font-family:Menlo,'DejaVu Sans Mono',consolas,'Courier New',monospace\">\n",
       "</pre>\n"
      ],
      "text/plain": [
       "\n"
      ]
     },
     "metadata": {},
     "output_type": "display_data"
    },
    {
     "name": "stdout",
     "output_type": "stream",
     "text": [
      "Accuracy: 18.75%\n"
     ]
    }
   ],
   "source": [
    "import tqdm\n",
    "from tqdm.rich import tqdm as tqdmr\n",
    "import warnings\n",
    "\n",
    "# Enable tqdm features on Pandas.\n",
    "tqdmr.pandas()\n",
    "\n",
    "# But suppress the experimental warning\n",
    "warnings.filterwarnings(\"ignore\", category=tqdm.TqdmExperimentalWarning)\n",
    "\n",
    "\n",
    "# Further sample the test data to be mindful of the free-tier quota.\n",
    "df_baseline_eval = sample_data(df_test, 2, '.*')\n",
    "\n",
    "# Make predictions using the sampled data.\n",
    "df_baseline_eval['Prediction'] = df_baseline_eval['Text'].progress_apply(predict_label)\n",
    "\n",
    "# And calculate the accuracy.\n",
    "accuracy = (df_baseline_eval[\"Class Name\"] == df_baseline_eval[\"Prediction\"]).sum() / len(df_baseline_eval)\n",
    "print(f\"Accuracy: {accuracy:.2%}\")"
   ]
  },
  {
   "cell_type": "markdown",
   "id": "f45d8e11",
   "metadata": {
    "papermill": {
     "duration": 0.011757,
     "end_time": "2025-04-03T04:08:08.980389",
     "exception": false,
     "start_time": "2025-04-03T04:08:08.968632",
     "status": "completed"
    },
    "tags": []
   },
   "source": [
    "Now take a look at the dataframe to compare the predictions with the labels."
   ]
  },
  {
   "cell_type": "code",
   "execution_count": 16,
   "id": "75c6eb62",
   "metadata": {
    "execution": {
     "iopub.execute_input": "2025-04-03T04:08:09.341519Z",
     "iopub.status.busy": "2025-04-03T04:08:09.341210Z",
     "iopub.status.idle": "2025-04-03T04:08:09.352827Z",
     "shell.execute_reply": "2025-04-03T04:08:09.351828Z"
    },
    "papermill": {
     "duration": 0.360918,
     "end_time": "2025-04-03T04:08:09.354792",
     "exception": false,
     "start_time": "2025-04-03T04:08:08.993874",
     "status": "completed"
    },
    "tags": []
   },
   "outputs": [
    {
     "data": {
      "text/html": [
       "<div>\n",
       "<style scoped>\n",
       "    .dataframe tbody tr th:only-of-type {\n",
       "        vertical-align: middle;\n",
       "    }\n",
       "\n",
       "    .dataframe tbody tr th {\n",
       "        vertical-align: top;\n",
       "    }\n",
       "\n",
       "    .dataframe thead th {\n",
       "        text-align: right;\n",
       "    }\n",
       "</style>\n",
       "<table border=\"1\" class=\"dataframe\">\n",
       "  <thead>\n",
       "    <tr style=\"text-align: right;\">\n",
       "      <th></th>\n",
       "      <th>Text</th>\n",
       "      <th>Label</th>\n",
       "      <th>Class Name</th>\n",
       "      <th>Prediction</th>\n",
       "    </tr>\n",
       "  </thead>\n",
       "  <tbody>\n",
       "    <tr>\n",
       "      <th>0</th>\n",
       "      <td>Re: MR2 - noisy engine.\\n\\n\\n&gt;Eliot is right a...</td>\n",
       "      <td>7</td>\n",
       "      <td>rec.autos</td>\n",
       "      <td>rec.autos.sports.cars</td>\n",
       "    </tr>\n",
       "    <tr>\n",
       "      <th>1</th>\n",
       "      <td>HELP with 89 Mitsubishi Galant GS Transmission...</td>\n",
       "      <td>7</td>\n",
       "      <td>rec.autos</td>\n",
       "      <td>rec.autos.misc</td>\n",
       "    </tr>\n",
       "    <tr>\n",
       "      <th>2</th>\n",
       "      <td>Re: What is a squid? (was Re: Riceburner Respe...</td>\n",
       "      <td>8</td>\n",
       "      <td>rec.motorcycles</td>\n",
       "      <td>rec.motorcycles</td>\n",
       "    </tr>\n",
       "    <tr>\n",
       "      <th>3</th>\n",
       "      <td>Re: Type spesifications (CB, VFR, GT, etc.)\\n\\...</td>\n",
       "      <td>8</td>\n",
       "      <td>rec.motorcycles</td>\n",
       "      <td>rec.motorcycles</td>\n",
       "    </tr>\n",
       "    <tr>\n",
       "      <th>4</th>\n",
       "      <td>Re: Reason for Giants June Swoon (Giants off t...</td>\n",
       "      <td>9</td>\n",
       "      <td>rec.sport.baseball</td>\n",
       "      <td>rec.sports.baseball.misc</td>\n",
       "    </tr>\n",
       "    <tr>\n",
       "      <th>5</th>\n",
       "      <td>Re: Braves Update!!\\n\\nAnd then  (Kit Cosper) ...</td>\n",
       "      <td>9</td>\n",
       "      <td>rec.sport.baseball</td>\n",
       "      <td>rec.sports.baseball.misc</td>\n",
       "    </tr>\n",
       "    <tr>\n",
       "      <th>6</th>\n",
       "      <td>Re: ABC coverage\\n\\nIn article &lt;&gt;  (Antonio Pe...</td>\n",
       "      <td>10</td>\n",
       "      <td>rec.sport.hockey</td>\n",
       "      <td>rec.sports.hockey</td>\n",
       "    </tr>\n",
       "    <tr>\n",
       "      <th>7</th>\n",
       "      <td>Re: TV Coverage - NHL to blame!\\n\\n (STEVEN JA...</td>\n",
       "      <td>10</td>\n",
       "      <td>rec.sport.hockey</td>\n",
       "      <td>rec.sports.hockey</td>\n",
       "    </tr>\n",
       "    <tr>\n",
       "      <th>8</th>\n",
       "      <td>Re: New Encryption Algorithm\\n\\n\\nArthur Melni...</td>\n",
       "      <td>11</td>\n",
       "      <td>sci.crypt</td>\n",
       "      <td>(error)</td>\n",
       "    </tr>\n",
       "    <tr>\n",
       "      <th>9</th>\n",
       "      <td>Re: Does Rush read his E-mail?\\n\\nIn article &lt;...</td>\n",
       "      <td>11</td>\n",
       "      <td>sci.crypt</td>\n",
       "      <td>(error)</td>\n",
       "    </tr>\n",
       "    <tr>\n",
       "      <th>10</th>\n",
       "      <td>Re: How to the disks copy protected.\\n\\nIf com...</td>\n",
       "      <td>12</td>\n",
       "      <td>sci.electronics</td>\n",
       "      <td>comp.os.ms-windows.programmer</td>\n",
       "    </tr>\n",
       "    <tr>\n",
       "      <th>11</th>\n",
       "      <td>Re: Lead Acid batteries &amp; Concrete?\\n\\nIn arti...</td>\n",
       "      <td>12</td>\n",
       "      <td>sci.electronics</td>\n",
       "      <td>rec.autos.makers</td>\n",
       "    </tr>\n",
       "    <tr>\n",
       "      <th>12</th>\n",
       "      <td>Re: PLEASE,HELP A PATIENT!!!\\n\\nIn article &lt;&gt; ...</td>\n",
       "      <td>13</td>\n",
       "      <td>sci.med</td>\n",
       "      <td>misc.education</td>\n",
       "    </tr>\n",
       "    <tr>\n",
       "      <th>13</th>\n",
       "      <td>Re: Nose Picking\\n\\n (Stephen Montgomery-Smith...</td>\n",
       "      <td>13</td>\n",
       "      <td>sci.med</td>\n",
       "      <td>misc.health</td>\n",
       "    </tr>\n",
       "    <tr>\n",
       "      <th>14</th>\n",
       "      <td>Re: Space Manuevering Tug (was HST servicing m...</td>\n",
       "      <td>14</td>\n",
       "      <td>sci.space</td>\n",
       "      <td>space.misc</td>\n",
       "    </tr>\n",
       "    <tr>\n",
       "      <th>15</th>\n",
       "      <td>Re: What planets are habitable\\n\\n&gt; I would ap...</td>\n",
       "      <td>14</td>\n",
       "      <td>sci.space</td>\n",
       "      <td>sci.space</td>\n",
       "    </tr>\n",
       "  </tbody>\n",
       "</table>\n",
       "</div>"
      ],
      "text/plain": [
       "                                                 Text  Label  \\\n",
       "0   Re: MR2 - noisy engine.\\n\\n\\n>Eliot is right a...      7   \n",
       "1   HELP with 89 Mitsubishi Galant GS Transmission...      7   \n",
       "2   Re: What is a squid? (was Re: Riceburner Respe...      8   \n",
       "3   Re: Type spesifications (CB, VFR, GT, etc.)\\n\\...      8   \n",
       "4   Re: Reason for Giants June Swoon (Giants off t...      9   \n",
       "5   Re: Braves Update!!\\n\\nAnd then  (Kit Cosper) ...      9   \n",
       "6   Re: ABC coverage\\n\\nIn article <>  (Antonio Pe...     10   \n",
       "7   Re: TV Coverage - NHL to blame!\\n\\n (STEVEN JA...     10   \n",
       "8   Re: New Encryption Algorithm\\n\\n\\nArthur Melni...     11   \n",
       "9   Re: Does Rush read his E-mail?\\n\\nIn article <...     11   \n",
       "10  Re: How to the disks copy protected.\\n\\nIf com...     12   \n",
       "11  Re: Lead Acid batteries & Concrete?\\n\\nIn arti...     12   \n",
       "12  Re: PLEASE,HELP A PATIENT!!!\\n\\nIn article <> ...     13   \n",
       "13  Re: Nose Picking\\n\\n (Stephen Montgomery-Smith...     13   \n",
       "14  Re: Space Manuevering Tug (was HST servicing m...     14   \n",
       "15  Re: What planets are habitable\\n\\n> I would ap...     14   \n",
       "\n",
       "            Class Name                     Prediction  \n",
       "0            rec.autos          rec.autos.sports.cars  \n",
       "1            rec.autos                 rec.autos.misc  \n",
       "2      rec.motorcycles                rec.motorcycles  \n",
       "3      rec.motorcycles                rec.motorcycles  \n",
       "4   rec.sport.baseball       rec.sports.baseball.misc  \n",
       "5   rec.sport.baseball       rec.sports.baseball.misc  \n",
       "6     rec.sport.hockey              rec.sports.hockey  \n",
       "7     rec.sport.hockey              rec.sports.hockey  \n",
       "8            sci.crypt                        (error)  \n",
       "9            sci.crypt                        (error)  \n",
       "10     sci.electronics  comp.os.ms-windows.programmer  \n",
       "11     sci.electronics               rec.autos.makers  \n",
       "12             sci.med                 misc.education  \n",
       "13             sci.med                    misc.health  \n",
       "14           sci.space                     space.misc  \n",
       "15           sci.space                      sci.space  "
      ]
     },
     "execution_count": 16,
     "metadata": {},
     "output_type": "execute_result"
    }
   ],
   "source": [
    "df_baseline_eval"
   ]
  },
  {
   "cell_type": "markdown",
   "id": "2cc0e8b8",
   "metadata": {
    "id": "Ok7ugrLzcghX",
    "papermill": {
     "duration": 0.008699,
     "end_time": "2025-04-03T04:08:09.372365",
     "exception": false,
     "start_time": "2025-04-03T04:08:09.363666",
     "status": "completed"
    },
    "tags": []
   },
   "source": [
    "## Tune a custom model\n",
    "\n",
    "In this example you'll use tuning to create a model that requires no prompting or system instructions and outputs succinct text from the classes you provide in the training data.\n",
    "\n",
    "The data contains both input text (the processed posts) and output text (the category, or newsgroup), that you can use to start tuning a model.\n",
    "\n",
    "When calling `tune()`, you can specify model tuning hyperparameters too:\n",
    " - `epoch_count`: defines how many times to loop through the data,\n",
    " - `batch_size`: defines how many rows to process in a single step, and\n",
    " - `learning_rate`: defines the scaling factor for updating model weights at each step.\n",
    "\n",
    "You can also choose to omit them and use the defaults. [Learn more](https://developers.google.com/machine-learning/crash-course/linear-regression/hyperparameters) about these parameters and how they work. For this example these parameters were selected by running some tuning jobs and selecting parameters that converged efficiently.\n",
    "\n",
    "This example will start a new tuning job, but only if one does not already exist. This allows you to leave this codelab and come back later - re-running this step will find your last model."
   ]
  },
  {
   "cell_type": "code",
   "execution_count": 17,
   "id": "a68ba3da",
   "metadata": {
    "execution": {
     "iopub.execute_input": "2025-04-03T04:08:09.391761Z",
     "iopub.status.busy": "2025-04-03T04:08:09.391371Z",
     "iopub.status.idle": "2025-04-03T04:08:09.654804Z",
     "shell.execute_reply": "2025-04-03T04:08:09.653600Z"
    },
    "id": "pWOZlspfY8dV",
    "papermill": {
     "duration": 0.275778,
     "end_time": "2025-04-03T04:08:09.657047",
     "exception": false,
     "start_time": "2025-04-03T04:08:09.381269",
     "status": "completed"
    },
    "tags": []
   },
   "outputs": [
    {
     "name": "stdout",
     "output_type": "stream",
     "text": [
      "Found queued model, still waiting.\n",
      "tunedModels/newsgroup-classification-model-5kvn4e7gz\n"
     ]
    }
   ],
   "source": [
    "from collections.abc import Iterable\n",
    "import random\n",
    "\n",
    "\n",
    "# Convert the data frame into a dataset suitable for tuning.\n",
    "input_data = {'examples': \n",
    "    df_train[['Text', 'Class Name']]\n",
    "      .rename(columns={'Text': 'textInput', 'Class Name': 'output'})\n",
    "      .to_dict(orient='records')\n",
    " }\n",
    "\n",
    "# If you are re-running this lab, add your model_id here.\n",
    "model_id = None\n",
    "\n",
    "# Or try and find a recent tuning job.\n",
    "if not model_id:\n",
    "  queued_model = None\n",
    "  # Newest models first.\n",
    "  for m in reversed(client.tunings.list()):\n",
    "    # Only look at newsgroup classification models.\n",
    "    if m.name.startswith('tunedModels/newsgroup-classification-model'):\n",
    "      # If there is a completed model, use the first (newest) one.\n",
    "      if m.state.name == 'JOB_STATE_SUCCEEDED':\n",
    "        model_id = m.name\n",
    "        print('Found existing tuned model to reuse.')\n",
    "        break\n",
    "\n",
    "      elif m.state.name == 'JOB_STATE_RUNNING' and not queued_model:\n",
    "        # If there's a model still queued, remember the most recent one.\n",
    "        queued_model = m.name\n",
    "  else:\n",
    "    if queued_model:\n",
    "      model_id = queued_model\n",
    "      print('Found queued model, still waiting.')\n",
    "\n",
    "\n",
    "# Upload the training data and queue the tuning job.\n",
    "if not model_id:\n",
    "    tuning_op = client.tunings.tune(\n",
    "        base_model=\"models/gemini-1.5-flash-001-tuning\",\n",
    "        training_dataset=input_data,\n",
    "        config=types.CreateTuningJobConfig(\n",
    "            tuned_model_display_name=\"Newsgroup classification model\",\n",
    "            batch_size=16,\n",
    "            epoch_count=2,\n",
    "        ),\n",
    "    )\n",
    "\n",
    "    print(tuning_op.state)\n",
    "    model_id = tuning_op.name\n",
    "\n",
    "print(model_id)"
   ]
  },
  {
   "cell_type": "markdown",
   "id": "bc19e791",
   "metadata": {
    "id": "NQ3YZ2MBubCY",
    "papermill": {
     "duration": 0.008876,
     "end_time": "2025-04-03T04:08:09.674961",
     "exception": false,
     "start_time": "2025-04-03T04:08:09.666085",
     "status": "completed"
    },
    "tags": []
   },
   "source": [
    "This has created a tuning job that will run in the background. To inspect the progress of the tuning job, run this cell to plot the current status and loss curve. Once the status reaches `ACTIVE`, tuning is complete and the model is ready to use.\n",
    "\n",
    "Tuning jobs are queued, so it may look like no training steps have been taken initially but it will progress. Tuning can take anywhere from a few minutes to multiple hours, depending on factors like your dataset size and how busy the tuning infrastrature is. Why not treat yourself to a nice cup of tea while you wait, or come and say \"Hi!\" in the group [Discord](https://discord.com/invite/kaggle).\n",
    "\n",
    "It is safe to stop this cell at any point. It will not stop the tuning job.\n",
    "\n",
    "**IMPORTANT**: Due to the high volume of users doing this course, tuning jobs may be queued for many hours. Take a note of your tuned model ID above (`tunedModels/...`) so you can come back to it tomorrow. In the meantime, check out the [Search grounding](https://www.kaggle.com/code/markishere/day-4-google-search-grounding/) codelab. If you want to try tuning a local LLM, check out [the fine-tuning guides for tuning a Gemma model](https://ai.google.dev/gemma/docs/tune)."
   ]
  },
  {
   "cell_type": "code",
   "execution_count": 18,
   "id": "f5903315",
   "metadata": {
    "execution": {
     "iopub.execute_input": "2025-04-03T04:08:09.694407Z",
     "iopub.status.busy": "2025-04-03T04:08:09.693977Z",
     "iopub.status.idle": "2025-04-03T04:09:11.157642Z",
     "shell.execute_reply": "2025-04-03T04:09:11.156423Z"
    },
    "id": "c4ef5f13692d",
    "papermill": {
     "duration": 61.476121,
     "end_time": "2025-04-03T04:09:11.159938",
     "exception": false,
     "start_time": "2025-04-03T04:08:09.683817",
     "status": "completed"
    },
    "tags": []
   },
   "outputs": [
    {
     "name": "stdout",
     "output_type": "stream",
     "text": [
      "JobState.JOB_STATE_RUNNING\n",
      "Taking a shortcut, using a previously prepared model.\n",
      "Done! The model state is: JOB_STATE_SUCCEEDED\n"
     ]
    }
   ],
   "source": [
    "import datetime\n",
    "import time\n",
    "\n",
    "\n",
    "MAX_WAIT = datetime.timedelta(minutes=1) # was 10 minutes\n",
    "\n",
    "while not (tuned_model := client.tunings.get(name=model_id)).has_ended:\n",
    "\n",
    "    print(tuned_model.state)\n",
    "    time.sleep(60)\n",
    "\n",
    "    # Don't wait too long. Use a public model if this is going to take a while.\n",
    "    if datetime.datetime.now(datetime.timezone.utc) - tuned_model.create_time > MAX_WAIT:\n",
    "        print(\"Taking a shortcut, using a previously prepared model.\")\n",
    "        model_id = \"tunedModels/newsgroup-classification-model-ltenbi1b\"\n",
    "        tuned_model = client.tunings.get(name=model_id)\n",
    "        break\n",
    "\n",
    "\n",
    "print(f\"Done! The model state is: {tuned_model.state.name}\")\n",
    "\n",
    "if not tuned_model.has_succeeded and tuned_model.error:\n",
    "    print(\"Error:\", tuned_model.error)"
   ]
  },
  {
   "cell_type": "markdown",
   "id": "638c88bd",
   "metadata": {
    "id": "9-qiIdK4u80z",
    "papermill": {
     "duration": 0.009149,
     "end_time": "2025-04-03T04:09:11.178375",
     "exception": false,
     "start_time": "2025-04-03T04:09:11.169226",
     "status": "completed"
    },
    "tags": []
   },
   "source": [
    "## Use the new model\n",
    "\n",
    "Now that you have a tuned model, try it out with custom data. You use the same API as a normal Gemini API interaction, but you specify your new model as the model name, which will start with `tunedModels/`."
   ]
  },
  {
   "cell_type": "code",
   "execution_count": 19,
   "id": "09b394ed",
   "metadata": {
    "execution": {
     "iopub.execute_input": "2025-04-03T04:09:11.199471Z",
     "iopub.status.busy": "2025-04-03T04:09:11.199073Z",
     "iopub.status.idle": "2025-04-03T04:09:12.020442Z",
     "shell.execute_reply": "2025-04-03T04:09:12.019313Z"
    },
    "id": "hyO2-MXLvM6a",
    "papermill": {
     "duration": 0.834659,
     "end_time": "2025-04-03T04:09:12.022669",
     "exception": false,
     "start_time": "2025-04-03T04:09:11.188010",
     "status": "completed"
    },
    "tags": []
   },
   "outputs": [
    {
     "name": "stdout",
     "output_type": "stream",
     "text": [
      "sci.space\n"
     ]
    }
   ],
   "source": [
    "new_text = \"\"\"\n",
    "First-timer looking to get out of here.\n",
    "\n",
    "Hi, I'm writing about my interest in travelling to the outer limits!\n",
    "\n",
    "What kind of craft can I buy? What is easiest to access from this 3rd rock?\n",
    "\n",
    "Let me know how to do that please.\n",
    "\"\"\"\n",
    "\n",
    "response = client.models.generate_content(\n",
    "    model=model_id, contents=new_text)\n",
    "\n",
    "print(response.text)"
   ]
  },
  {
   "cell_type": "markdown",
   "id": "31aa82e6",
   "metadata": {
    "id": "xajLek9DySH_",
    "papermill": {
     "duration": 0.009583,
     "end_time": "2025-04-03T04:09:12.041576",
     "exception": false,
     "start_time": "2025-04-03T04:09:12.031993",
     "status": "completed"
    },
    "tags": []
   },
   "source": [
    "### Evaluation\n",
    "\n",
    "You can see that the model outputs labels that correspond to those in the training data, and without any system instructions or prompting, which is already a great improvement. Now see how well it performs on the test set.\n",
    "\n",
    "Note that there is no parallelism in this example; classifying the test sub-set will take a few minutes."
   ]
  },
  {
   "cell_type": "code",
   "execution_count": 20,
   "id": "d5654bd6",
   "metadata": {
    "execution": {
     "iopub.execute_input": "2025-04-03T04:09:12.062315Z",
     "iopub.status.busy": "2025-04-03T04:09:12.061908Z",
     "iopub.status.idle": "2025-04-03T04:11:23.687348Z",
     "shell.execute_reply": "2025-04-03T04:11:23.686315Z"
    },
    "id": "6T2Y3ZApvbMw",
    "papermill": {
     "duration": 131.638864,
     "end_time": "2025-04-03T04:11:23.689710",
     "exception": false,
     "start_time": "2025-04-03T04:09:12.050846",
     "status": "completed"
    },
    "tags": []
   },
   "outputs": [
    {
     "data": {
      "application/vnd.jupyter.widget-view+json": {
       "model_id": "d2ceeabb85814ca5a0b6bc7a39f2e300",
       "version_major": 2,
       "version_minor": 0
      },
      "text/plain": [
       "Output()"
      ]
     },
     "metadata": {},
     "output_type": "display_data"
    },
    {
     "data": {
      "text/html": [
       "<pre style=\"white-space:pre;overflow-x:auto;line-height:normal;font-family:Menlo,'DejaVu Sans Mono',consolas,'Courier New',monospace\"></pre>\n"
      ],
      "text/plain": []
     },
     "metadata": {},
     "output_type": "display_data"
    },
    {
     "data": {
      "text/html": [
       "<pre style=\"white-space:pre;overflow-x:auto;line-height:normal;font-family:Menlo,'DejaVu Sans Mono',consolas,'Courier New',monospace\">\n",
       "</pre>\n"
      ],
      "text/plain": [
       "\n"
      ]
     },
     "metadata": {},
     "output_type": "display_data"
    },
    {
     "name": "stdout",
     "output_type": "stream",
     "text": [
      "Accuracy: 84.38%\n"
     ]
    }
   ],
   "source": [
    "@retry.Retry(predicate=is_retriable)\n",
    "def classify_text(text: str) -> str:\n",
    "    \"\"\"Classify the provided text into a known newsgroup.\"\"\"\n",
    "    response = client.models.generate_content(\n",
    "        model=model_id, contents=text)\n",
    "    rc = response.candidates[0]\n",
    "\n",
    "    # Any errors, filters, recitation, etc we can mark as a general error\n",
    "    if rc.finish_reason.name != \"STOP\":\n",
    "        return \"(error)\"\n",
    "    else:\n",
    "        return rc.content.parts[0].text\n",
    "\n",
    "\n",
    "# The sampling here is just to minimise your quota usage. If you can, you should\n",
    "# evaluate the whole test set with `df_model_eval = df_test.copy()`.\n",
    "df_model_eval = sample_data(df_test, 4, '.*')\n",
    "\n",
    "df_model_eval[\"Prediction\"] = df_model_eval[\"Text\"].progress_apply(classify_text)\n",
    "\n",
    "accuracy = (df_model_eval[\"Class Name\"] == df_model_eval[\"Prediction\"]).sum() / len(df_model_eval)\n",
    "print(f\"Accuracy: {accuracy:.2%}\")"
   ]
  },
  {
   "cell_type": "markdown",
   "id": "ca22dc2f",
   "metadata": {
    "papermill": {
     "duration": 0.014816,
     "end_time": "2025-04-03T04:11:23.719303",
     "exception": false,
     "start_time": "2025-04-03T04:11:23.704487",
     "status": "completed"
    },
    "tags": []
   },
   "source": [
    "## Compare token usage\n",
    "\n",
    "AI Studio and the Gemini API provide model tuning at no cost, however normal limits and charges apply for *use* of a tuned model.\n",
    "\n",
    "The size of the input prompt and other generation config like system instructions, as well as the number of generated output tokens, all contribute to the overall cost of a request."
   ]
  },
  {
   "cell_type": "code",
   "execution_count": 21,
   "id": "fafe04d1",
   "metadata": {
    "execution": {
     "iopub.execute_input": "2025-04-03T04:11:27.474388Z",
     "iopub.status.busy": "2025-04-03T04:11:27.474084Z",
     "iopub.status.idle": "2025-04-03T04:11:28.451569Z",
     "shell.execute_reply": "2025-04-03T04:11:28.450418Z"
    },
    "papermill": {
     "duration": 4.717903,
     "end_time": "2025-04-03T04:11:28.453677",
     "exception": false,
     "start_time": "2025-04-03T04:11:23.735774",
     "status": "completed"
    },
    "tags": []
   },
   "outputs": [
    {
     "name": "stdout",
     "output_type": "stream",
     "text": [
      "System instructed baseline model: 172 (input)\n",
      "Tuned model: 136 (input)\n",
      "Token savings: 26.47%\n"
     ]
    }
   ],
   "source": [
    "# Calculate the *input* cost of the baseline model with system instructions.\n",
    "sysint_tokens = client.models.count_tokens(\n",
    "    model='gemini-1.5-flash-001', contents=[system_instruct, sample_row]\n",
    ").total_tokens\n",
    "print(f'System instructed baseline model: {sysint_tokens} (input)')\n",
    "\n",
    "# Calculate the input cost of the tuned model.\n",
    "tuned_tokens = client.models.count_tokens(model=tuned_model.base_model, contents=sample_row).total_tokens\n",
    "print(f'Tuned model: {tuned_tokens} (input)')\n",
    "\n",
    "savings = (sysint_tokens - tuned_tokens) / tuned_tokens\n",
    "print(f'Token savings: {savings:.2%}')  # Note that this is only n=1."
   ]
  },
  {
   "cell_type": "markdown",
   "id": "4afb44aa",
   "metadata": {
    "papermill": {
     "duration": 0.009312,
     "end_time": "2025-04-03T04:11:28.472984",
     "exception": false,
     "start_time": "2025-04-03T04:11:28.463672",
     "status": "completed"
    },
    "tags": []
   },
   "source": [
    "The earlier verbose model also produced more output tokens than needed for this task."
   ]
  },
  {
   "cell_type": "code",
   "execution_count": 22,
   "id": "7371df68",
   "metadata": {
    "execution": {
     "iopub.execute_input": "2025-04-03T04:11:28.494041Z",
     "iopub.status.busy": "2025-04-03T04:11:28.493177Z",
     "iopub.status.idle": "2025-04-03T04:11:29.726608Z",
     "shell.execute_reply": "2025-04-03T04:11:29.725310Z"
    },
    "papermill": {
     "duration": 1.246536,
     "end_time": "2025-04-03T04:11:29.729038",
     "exception": false,
     "start_time": "2025-04-03T04:11:28.482502",
     "status": "completed"
    },
    "tags": []
   },
   "outputs": [
    {
     "name": "stdout",
     "output_type": "stream",
     "text": [
      "Baseline (verbose) output tokens: 54\n",
      "Tuned output tokens: 3\n"
     ]
    }
   ],
   "source": [
    "baseline_token_output = baseline_response.usage_metadata.candidates_token_count\n",
    "print('Baseline (verbose) output tokens:', baseline_token_output)\n",
    "\n",
    "tuned_model_output = client.models.generate_content(\n",
    "    model=model_id, contents=sample_row)\n",
    "tuned_tokens_output = tuned_model_output.usage_metadata.candidates_token_count\n",
    "print('Tuned output tokens:', tuned_tokens_output)"
   ]
  },
  {
   "cell_type": "markdown",
   "id": "44e8ba7b",
   "metadata": {
    "id": "6c1204a5d0ab",
    "papermill": {
     "duration": 0.00944,
     "end_time": "2025-04-03T04:11:29.748860",
     "exception": false,
     "start_time": "2025-04-03T04:11:29.739420",
     "status": "completed"
    },
    "tags": []
   },
   "source": [
    "## Next steps\n",
    "\n",
    "Now that you have tuned a classification model, try some other tasks, like tuning a model to respond with a specific tone or style using hand-written examples (or even generated examples!). Kaggle hosts [a number of datasets](https://www.kaggle.com/datasets) you can try out.\n",
    "\n",
    "Learn about [when supervised fine-tuning is most effective](https://cloud.google.com/blog/products/ai-machine-learning/supervised-fine-tuning-for-gemini-llm).\n",
    "\n",
    "And check out the [fine-tuning tutorial](https://ai.google.dev/gemini-api/docs/model-tuning/tutorial?hl=en&lang=python) for another example that shows a tuned model extending beyond the training data to new, unseen inputs.\n",
    "\n",
    "*- [Mark McD](https://linktr.ee/markmcd)*"
   ]
  }
 ],
 "metadata": {
  "colab": {
   "name": "day-4-fine-tuning-a-custom-model.ipynb",
   "toc_visible": true
  },
  "kaggle": {
   "accelerator": "none",
   "dataSources": [],
   "dockerImageVersionId": 30786,
   "isGpuEnabled": false,
   "isInternetEnabled": true,
   "language": "python",
   "sourceType": "notebook"
  },
  "kernelspec": {
   "display_name": "Python 3",
   "language": "python",
   "name": "python3"
  },
  "language_info": {
   "codemirror_mode": {
    "name": "ipython",
    "version": 3
   },
   "file_extension": ".py",
   "mimetype": "text/x-python",
   "name": "python",
   "nbconvert_exporter": "python",
   "pygments_lexer": "ipython3",
   "version": "3.10.14"
  },
  "papermill": {
   "default_parameters": {},
   "duration": 275.87111,
   "end_time": "2025-04-03T04:11:30.681399",
   "environment_variables": {},
   "exception": null,
   "input_path": "__notebook__.ipynb",
   "output_path": "__notebook__.ipynb",
   "parameters": {},
   "start_time": "2025-04-03T04:06:54.810289",
   "version": "2.6.0"
  },
  "widgets": {
   "application/vnd.jupyter.widget-state+json": {
    "state": {
     "2f86651739d745b19bf206880cdf4622": {
      "model_module": "@jupyter-widgets/output",
      "model_module_version": "1.0.0",
      "model_name": "OutputModel",
      "state": {
       "_dom_classes": [],
       "_model_module": "@jupyter-widgets/output",
       "_model_module_version": "1.0.0",
       "_model_name": "OutputModel",
       "_view_count": null,
       "_view_module": "@jupyter-widgets/output",
       "_view_module_version": "1.0.0",
       "_view_name": "OutputView",
       "layout": "IPY_MODEL_f477b6ba771e4d81b989f39b408708f4",
       "msg_id": "",
       "outputs": [
        {
         "data": {
          "text/html": "<pre style=\"white-space:pre;overflow-x:auto;line-height:normal;font-family:Menlo,'DejaVu Sans Mono',consolas,'Courier New',monospace\"><span style=\"color: #800080; text-decoration-color: #800080\"> 100%</span> <span style=\"color: #729c1f; text-decoration-color: #729c1f\">━━━━━━━━━━━━━━━━━━━━━━━━━━━━━━━━━━━━━━━━━━━━━━━━━━━━━━━━━━━━━━━━━━━━━━━</span> <span style=\"color: #008000; text-decoration-color: #008000\">16/16 </span> [ <span style=\"color: #808000; text-decoration-color: #808000\">0:00:11</span> &lt; <span style=\"color: #008080; text-decoration-color: #008080\">0:00:00</span> , <span style=\"color: #800000; text-decoration-color: #800000\">1 it/s</span> ]\n</pre>\n",
          "text/plain": "\u001b[35m 100%\u001b[0m \u001b[38;2;114;156;31m━━━━━━━━━━━━━━━━━━━━━━━━━━━━━━━━━━━━━━━━━━━━━━━━━━━━━━━━━━━━━━━━━━━━━━━\u001b[0m \u001b[32m16/16 \u001b[0m [ \u001b[33m0:00:11\u001b[0m < \u001b[36m0:00:00\u001b[0m , \u001b[31m1 it/s\u001b[0m ]\n"
         },
         "metadata": {},
         "output_type": "display_data"
        }
       ]
      }
     },
     "62d887a6ad964e2885ae9d57c0ffa534": {
      "model_module": "@jupyter-widgets/base",
      "model_module_version": "1.2.0",
      "model_name": "LayoutModel",
      "state": {
       "_model_module": "@jupyter-widgets/base",
       "_model_module_version": "1.2.0",
       "_model_name": "LayoutModel",
       "_view_count": null,
       "_view_module": "@jupyter-widgets/base",
       "_view_module_version": "1.2.0",
       "_view_name": "LayoutView",
       "align_content": null,
       "align_items": null,
       "align_self": null,
       "border": null,
       "bottom": null,
       "display": null,
       "flex": null,
       "flex_flow": null,
       "grid_area": null,
       "grid_auto_columns": null,
       "grid_auto_flow": null,
       "grid_auto_rows": null,
       "grid_column": null,
       "grid_gap": null,
       "grid_row": null,
       "grid_template_areas": null,
       "grid_template_columns": null,
       "grid_template_rows": null,
       "height": null,
       "justify_content": null,
       "justify_items": null,
       "left": null,
       "margin": null,
       "max_height": null,
       "max_width": null,
       "min_height": null,
       "min_width": null,
       "object_fit": null,
       "object_position": null,
       "order": null,
       "overflow": null,
       "overflow_x": null,
       "overflow_y": null,
       "padding": null,
       "right": null,
       "top": null,
       "visibility": null,
       "width": null
      }
     },
     "d2ceeabb85814ca5a0b6bc7a39f2e300": {
      "model_module": "@jupyter-widgets/output",
      "model_module_version": "1.0.0",
      "model_name": "OutputModel",
      "state": {
       "_dom_classes": [],
       "_model_module": "@jupyter-widgets/output",
       "_model_module_version": "1.0.0",
       "_model_name": "OutputModel",
       "_view_count": null,
       "_view_module": "@jupyter-widgets/output",
       "_view_module_version": "1.0.0",
       "_view_name": "OutputView",
       "layout": "IPY_MODEL_62d887a6ad964e2885ae9d57c0ffa534",
       "msg_id": "",
       "outputs": [
        {
         "data": {
          "text/html": "<pre style=\"white-space:pre;overflow-x:auto;line-height:normal;font-family:Menlo,'DejaVu Sans Mono',consolas,'Courier New',monospace\"><span style=\"color: #800080; text-decoration-color: #800080\"> 100%</span> <span style=\"color: #729c1f; text-decoration-color: #729c1f\">━━━━━━━━━━━━━━━━━━━━━━━━━━━━━━━━━━━━━━━━━━━━━━━━━━━━━━━━━━━━━━━━━━━━━━━</span> <span style=\"color: #008000; text-decoration-color: #008000\">32/32 </span> [ <span style=\"color: #808000; text-decoration-color: #808000\">0:01:32</span> &lt; <span style=\"color: #008080; text-decoration-color: #008080\">0:00:00</span> , <span style=\"color: #800000; text-decoration-color: #800000\">1 it/s</span> ]\n</pre>\n",
          "text/plain": "\u001b[35m 100%\u001b[0m \u001b[38;2;114;156;31m━━━━━━━━━━━━━━━━━━━━━━━━━━━━━━━━━━━━━━━━━━━━━━━━━━━━━━━━━━━━━━━━━━━━━━━\u001b[0m \u001b[32m32/32 \u001b[0m [ \u001b[33m0:01:32\u001b[0m < \u001b[36m0:00:00\u001b[0m , \u001b[31m1 it/s\u001b[0m ]\n"
         },
         "metadata": {},
         "output_type": "display_data"
        }
       ]
      }
     },
     "f477b6ba771e4d81b989f39b408708f4": {
      "model_module": "@jupyter-widgets/base",
      "model_module_version": "1.2.0",
      "model_name": "LayoutModel",
      "state": {
       "_model_module": "@jupyter-widgets/base",
       "_model_module_version": "1.2.0",
       "_model_name": "LayoutModel",
       "_view_count": null,
       "_view_module": "@jupyter-widgets/base",
       "_view_module_version": "1.2.0",
       "_view_name": "LayoutView",
       "align_content": null,
       "align_items": null,
       "align_self": null,
       "border": null,
       "bottom": null,
       "display": null,
       "flex": null,
       "flex_flow": null,
       "grid_area": null,
       "grid_auto_columns": null,
       "grid_auto_flow": null,
       "grid_auto_rows": null,
       "grid_column": null,
       "grid_gap": null,
       "grid_row": null,
       "grid_template_areas": null,
       "grid_template_columns": null,
       "grid_template_rows": null,
       "height": null,
       "justify_content": null,
       "justify_items": null,
       "left": null,
       "margin": null,
       "max_height": null,
       "max_width": null,
       "min_height": null,
       "min_width": null,
       "object_fit": null,
       "object_position": null,
       "order": null,
       "overflow": null,
       "overflow_x": null,
       "overflow_y": null,
       "padding": null,
       "right": null,
       "top": null,
       "visibility": null,
       "width": null
      }
     }
    },
    "version_major": 2,
    "version_minor": 0
   }
  }
 },
 "nbformat": 4,
 "nbformat_minor": 5
}
